{
 "cells": [
  {
   "cell_type": "code",
   "execution_count": 44,
   "id": "a3430dc1-a419-4252-94f8-a597083e6991",
   "metadata": {
    "tags": []
   },
   "outputs": [],
   "source": [
    "from db_helper_functions import get_stock_news_from_db\n",
    "import pandas as pd"
   ]
  },
  {
   "cell_type": "code",
   "execution_count": 45,
   "id": "2246672c-085d-43a2-93da-a83772cc08c0",
   "metadata": {
    "tags": []
   },
   "outputs": [],
   "source": [
    "df = get_stock_news_from_db(\"AAPL\")"
   ]
  },
  {
   "cell_type": "code",
   "execution_count": 46,
   "id": "5e1c6f1e-9d9d-43ff-b1ae-c0750f8084c7",
   "metadata": {
    "tags": []
   },
   "outputs": [],
   "source": [
    "df = df.sort_values(by='date')"
   ]
  },
  {
   "cell_type": "code",
   "execution_count": 47,
   "id": "b1a58e38-eea2-4291-b77c-bc68da121de0",
   "metadata": {
    "tags": []
   },
   "outputs": [],
   "source": [
    "## The block used to find the positive and negative new\n",
    "\n",
    "# df['date'] = pd.to_datetime(df['date'])\n",
    "\n",
    "# start_date = '2022-01-10'  # Use your start date here\n",
    "# end_date = '2022-02-01'    # Use your end date here\n",
    "\n",
    "# # Convert your date strings to datetime if they aren't already\n",
    "# start_date = pd.to_datetime(start_date)\n",
    "# end_date = pd.to_datetime(end_date)\n",
    "\n",
    "# # Filter the DataFrame\n",
    "# filtered_df = df[(df['date'] >= start_date) & (df['date'] <= end_date)]\n"
   ]
  },
  {
   "cell_type": "code",
   "execution_count": 48,
   "id": "e4926f8a-635f-46ae-80c6-80f3fd55c3fa",
   "metadata": {
    "tags": []
   },
   "outputs": [],
   "source": [
    "negative_article = df.iloc[1]"
   ]
  },
  {
   "cell_type": "code",
   "execution_count": 49,
   "id": "a9a1bd08-0bd8-4be5-b7f4-f3fc9ec6a5a9",
   "metadata": {
    "tags": []
   },
   "outputs": [],
   "source": [
    "raw_negative = negative_article['article']"
   ]
  },
  {
   "cell_type": "code",
   "execution_count": 50,
   "id": "fdbbf751-6e85-4fd1-83ef-19275295bd37",
   "metadata": {
    "tags": []
   },
   "outputs": [],
   "source": [
    "positive_article = df[df['id']==3253].iloc[0]\n"
   ]
  },
  {
   "cell_type": "code",
   "execution_count": 51,
   "id": "e66f8b0b-d7a5-4551-8c4d-70b6b005c117",
   "metadata": {
    "tags": []
   },
   "outputs": [],
   "source": [
    "raw_positive = positive_article['article']"
   ]
  },
  {
   "cell_type": "markdown",
   "id": "17f8f367-5b05-44e4-a195-a2be9b443170",
   "metadata": {
    "tags": []
   },
   "source": [
    "## Section 1: Data Cleaning"
   ]
  },
  {
   "cell_type": "markdown",
   "id": "8da19d75-833e-4333-bfa7-521685eeb195",
   "metadata": {},
   "source": [
    "### Spacy:"
   ]
  },
  {
   "cell_type": "code",
   "execution_count": 52,
   "id": "9b6427b1-8e00-4ff7-8d41-184bbb820dba",
   "metadata": {},
   "outputs": [
    {
     "data": {
      "text/plain": [
       "'rise early trading thursday'"
      ]
     },
     "execution_count": 52,
     "metadata": {},
     "output_type": "execute_result"
    }
   ],
   "source": [
    "import spacy\n",
    "from spacy.lang.en import English\n",
    "from spacy.lang.en.stop_words import STOP_WORDS\n",
    "\n",
    "example_text = \"Apple Inc. stock rose by 5% in early trading Thursday.\"\n",
    "    \n",
    "def clean(article:str) ->str:\n",
    "    cleaned_text = []\n",
    "    \n",
    "    # Load the spaCy model\n",
    "    nlp = spacy.load(\"en_core_web_sm\")\n",
    "    \n",
    "    # Add financial-specific stopwords\n",
    "    financial_stopwords = ['inc.', 'corp.', 'ltd.',  'company', 'market', 'stock']\n",
    "    for word in financial_stopwords:\n",
    "        STOP_WORDS.add(word)\n",
    "    \n",
    "    #doc = nlp(example_text)\n",
    "    doc = nlp(article)\n",
    "    \n",
    "    # Remove basic stop words, financial stop words, punctuation, number, person name and organization name\n",
    "    for token in doc:\n",
    "        if not token.is_stop and not token.is_punct and not token.like_num and not token.ent_type_ == \"PERSON\" and not token.ent_type_ == \"ORG\": \n",
    "            # Lemmatization, converting token to lowercase\n",
    "            cleaned_text.append(token.lemma_.lower())\n",
    "        \n",
    "    # OPTIONAL: We can use Entity Recognition to decide keep or discard certerain information\n",
    "    # for ent in doc.ents:\n",
    "    #     if ent.label_ in ['ORG', 'MONEY', 'PERCENT', 'DATE', 'FAC']:\n",
    "    #         cleaned_text.append(ent.text)\n",
    "            \n",
    "    # cleaned article\n",
    "    cleaned_text = \" \".join(cleaned_text)\n",
    "    \n",
    "    return cleaned_text \n",
    "\n",
    "clean(example_text)"
   ]
  },
  {
   "cell_type": "code",
   "execution_count": 53,
   "id": "513659be-d867-435d-ac7d-9b4f4061bb88",
   "metadata": {
    "tags": []
   },
   "outputs": [
    {
     "data": {
      "text/plain": [
       "'notwithstanding supply constraint analyst positive aapl december quarter performance   analyst overweight rating $ price target share cupertino likely post upside street forecast december quarter guide relatively line march quarter thank improve iphone production year end modest services outperformance say note hit low oct. share suggest december quarter upside largely price add analyst model december quarter revenue $ gross margin $ share earning management likely shed light active device iphone instal base analyst say product ship unit unit unit say analyst estimate total product revenue $ consensus estimate $ service revenue likely come $ consensus estimate $ say upside strong expect performance segment add give sustained presence management unlikely offer revenue guidance range march quarter instead likely provide commentary segment growth trend note related link apple $ cap say share underperform far january december outperformance analyst say expect release iphone se3 april year iphone fall mixed reality headset note say buyer \\xa0 weakness post earning view defensive quality outperformer challenge market billion+ instal base high loyalty retention rate underweight institutional positioning strong capital return tendency outperform ahead product cycle firm positive note aapl price action share \\xa0 $ close friday'"
      ]
     },
     "execution_count": 53,
     "metadata": {},
     "output_type": "execute_result"
    }
   ],
   "source": [
    "cleaned_positive_article_spacy = clean(positive_article['article'])\n",
    "cleaned_positive_article_spacy"
   ]
  },
  {
   "cell_type": "code",
   "execution_count": 54,
   "id": "7306a836-b5f0-4da0-b0fd-bed6234a7aea",
   "metadata": {
    "tags": []
   },
   "outputs": [
    {
     "data": {
      "text/plain": [
       "'news poor performance chinese economy distressing signal foreign retailer manufacturer aapl \\xa0 announcement wednesday reduce revenue expectation poor iphone sale china revenue projection estimate $ short previous estimate $ 89-$93 accord chief executive officer announcement cause fall percent wednesday evening percent thursday dow jones industrial average fall point news sale slump permeate particularly affect stock expose chinese like \\xa0 de qualcomm qcom \\xa0 \\xa0 lose $ value reach capitalization $ october attribute weak sale china decrease traffic retail outlet country china economic slowdown spark conservative monetary policy enact central government president begin term sign tighten credit chinese bank prevent rapid growth trigger volatility effect drive consumption subsequently tax revenue beijing promise stimulus package ward current economic challenge china ongoing trade dispute united states press concern u.s. president publicly criticize american company manufacture good china instead united states tech company express disagreement unpredictability method trade negotiation china \"apple price increase massive tariff impose china easy solution tax tax incentive tweet president response criticism percent tariff chinese good impact product manufacture china product united states instead china start build new plant miss register today maintain u.s. lack skilled worker advanced facility produce affordably suggest consumer price jump percent supply chain transfer asia avoid section trade act move final assembly operation china compete low cost labor market taiwan vietnam malaysia supply chain structure purchase component product domestic foreign partner accord large cost manufacture iphone x roughly $ $ total cost purchase touch screen module base south korea sell component taiwanese contractor foxconn \\xa0 final assembly finished product final assembly china cost $ battery pack source china cost $ 6.over past year china undergo transformation world poor isolated nation manufacturing export leader especially electronics sector manufacture bulk iphone product foxconn chinese city shenzhen credit china success consumer electronic manufacturing base inexpensive labor workforce highly flexible change production china wealthy industrialization global trade country middle class grow estimate people china world large smartphone contribute percent total sale iphone sale worldwide account half revenue revenue derive sale china reach peak nearly $ place ahead europe $ americas $ sale china retreat $ sale europe increase $ sale americas rocket past $ economic fatigue trade dispute reason struggle china rise local competitor rival smartphone manufacturer grow percent quarter quarter despite local economic trouble focus expand domestic increase sale percent foreign market sale china rise percent quarter see surpass chinese share overall sale smartphone manufacturing announce plan build factory united states commit repatriate roughly $ foreign holding recent reduction corporate tax code january announce $ investment u.s new domestic job establishment new campus china economic slowdown negative impact u.s. retailer manufacturer country likely remain highly relevant global electronic industry want content like click'"
      ]
     },
     "execution_count": 54,
     "metadata": {},
     "output_type": "execute_result"
    }
   ],
   "source": [
    "cleaned_negative_article_spacy = clean(negative_article['article'])\n",
    "cleaned_negative_article_spacy"
   ]
  },
  {
   "cell_type": "markdown",
   "id": "716c2649-5e69-4ba4-afc6-36a16aae9e14",
   "metadata": {},
   "source": [
    "### Manule Cleaning:"
   ]
  },
  {
   "cell_type": "code",
   "execution_count": 56,
   "id": "e77b304a-3301-47b1-95d3-78af6061aa7a",
   "metadata": {
    "tags": []
   },
   "outputs": [],
   "source": [
    "import re\n",
    "\n",
    "def clean_special_characters(text):\n",
    "    cleaned_text = text.replace(\"\\\\'\", \"'\")\n",
    "    \n",
    "    # Replace non-breaking space with a regular space\n",
    "    cleaned_text = cleaned_text.replace(\"\\xa0\", \" \")\n",
    "\n",
    "    return cleaned_text\n",
    "\n",
    "def add_space_after_period(text):\n",
    "    # Pattern to match a period followed directly by a letter (upper or lower case)\n",
    "    pattern = r'\\.([A-Za-z])'\n",
    "    # Replacement pattern adds a space between the period and the letter\n",
    "    replacement = r'. \\1'\n",
    "    # Replace occurrences of the pattern with the replacement pattern\n",
    "    corrected_text = re.sub(pattern, replacement, text)\n",
    "    return corrected_text\n",
    "\n",
    "def manule_clean(text):\n",
    "    text = clean_special_characters(text)\n",
    "    text = add_space_after_period(text)\n",
    "    \n",
    "    return text\n",
    "\n",
    "cleaned_negative_article_manule = manule_clean(negative_article['article'])\n",
    "cleaned_positive_article_manule = manule_clean(positive_article['article'])\n"
   ]
  },
  {
   "cell_type": "code",
   "execution_count": 98,
   "id": "ff30d4e9-aa0d-4c77-b2c6-591091ea895e",
   "metadata": {
    "tags": []
   },
   "outputs": [
    {
     "name": "stderr",
     "output_type": "stream",
     "text": [
      "[nltk_data] Downloading package punkt to\n",
      "[nltk_data]     C:\\Users\\Steven\\AppData\\Roaming\\nltk_data...\n",
      "[nltk_data]   Package punkt is already up-to-date!\n"
     ]
    }
   ],
   "source": [
    "# Split the paragraph into sentences\n",
    "import pandas as pd\n",
    "import nltk\n",
    "from nltk.tokenize import sent_tokenize\n",
    "\n",
    "nltk.download('punkt')\n",
    "\n",
    "negative_sentences = sent_tokenize(cleaned_negative_article_manule)\n",
    "df_negative = pd.DataFrame(negative_sentences, columns=['sentence'])\n",
    "\n",
    "positive_sentences = sent_tokenize(cleaned_positive_article_manule)\n",
    "df_positive = pd.DataFrame(positive_sentences, columns=['sentence'])\n"
   ]
  },
  {
   "cell_type": "markdown",
   "id": "e765c31c-1525-46ec-8c42-2b9d9789ead8",
   "metadata": {
    "tags": []
   },
   "source": [
    "## Section 2: Get Sentiment Score by using Lexicon-Based Approach with cleaned text"
   ]
  },
  {
   "cell_type": "markdown",
   "id": "208d142b-ef9c-42b2-b326-6538674567dc",
   "metadata": {},
   "source": [
    "### FinVader:"
   ]
  },
  {
   "cell_type": "code",
   "execution_count": 111,
   "id": "cb7d10a3-cba7-4562-bb24-0c7b14141e03",
   "metadata": {
    "tags": []
   },
   "outputs": [
    {
     "name": "stdout",
     "output_type": "stream",
     "text": [
      "The score for the positive article is: 0.217175\n",
      "The score for the negative article is 0.07085555555555555\n"
     ]
    },
    {
     "data": {
      "text/html": [
       "<div>\n",
       "<style scoped>\n",
       "    .dataframe tbody tr th:only-of-type {\n",
       "        vertical-align: middle;\n",
       "    }\n",
       "\n",
       "    .dataframe tbody tr th {\n",
       "        vertical-align: top;\n",
       "    }\n",
       "\n",
       "    .dataframe thead th {\n",
       "        text-align: right;\n",
       "    }\n",
       "</style>\n",
       "<table border=\"1\" class=\"dataframe\">\n",
       "  <thead>\n",
       "    <tr style=\"text-align: right;\">\n",
       "      <th></th>\n",
       "      <th>sentence</th>\n",
       "      <th>finvader_score</th>\n",
       "      <th>afinn_score</th>\n",
       "    </tr>\n",
       "  </thead>\n",
       "  <tbody>\n",
       "    <tr>\n",
       "      <th>2</th>\n",
       "      <td>Apple's announcement caused its stock to fall ...</td>\n",
       "      <td>-0.3612</td>\n",
       "      <td>0.0</td>\n",
       "    </tr>\n",
       "    <tr>\n",
       "      <th>3</th>\n",
       "      <td>The Dow Jones Industrial Average fell 660 poin...</td>\n",
       "      <td>-0.6740</td>\n",
       "      <td>1.0</td>\n",
       "    </tr>\n",
       "    <tr>\n",
       "      <th>4</th>\n",
       "      <td>Apple itself has lost $300 billion in stock va...</td>\n",
       "      <td>-0.3071</td>\n",
       "      <td>-2.0</td>\n",
       "    </tr>\n",
       "    <tr>\n",
       "      <th>10</th>\n",
       "      <td>China's ongoing trade dispute with the United ...</td>\n",
       "      <td>0.4118</td>\n",
       "      <td>-1.0</td>\n",
       "    </tr>\n",
       "    <tr>\n",
       "      <th>13</th>\n",
       "      <td>\"Apple prices may increase because of the mass...</td>\n",
       "      <td>-0.1216</td>\n",
       "      <td>0.0</td>\n",
       "    </tr>\n",
       "    <tr>\n",
       "      <th>27</th>\n",
       "      <td>China is now the world's largest market for sm...</td>\n",
       "      <td>0.6162</td>\n",
       "      <td>0.0</td>\n",
       "    </tr>\n",
       "    <tr>\n",
       "      <th>29</th>\n",
       "      <td>Apple's revenue derived from sales in China re...</td>\n",
       "      <td>0.1431</td>\n",
       "      <td>1.0</td>\n",
       "    </tr>\n",
       "    <tr>\n",
       "      <th>30</th>\n",
       "      <td>Since 2016, Apple sales in China have retreate...</td>\n",
       "      <td>0.3798</td>\n",
       "      <td>1.0</td>\n",
       "    </tr>\n",
       "    <tr>\n",
       "      <th>35</th>\n",
       "      <td>Apple has not announced plans to build factori...</td>\n",
       "      <td>0.5507</td>\n",
       "      <td>2.0</td>\n",
       "    </tr>\n",
       "  </tbody>\n",
       "</table>\n",
       "</div>"
      ],
      "text/plain": [
       "                                             sentence  finvader_score  \\\n",
       "2   Apple's announcement caused its stock to fall ...         -0.3612   \n",
       "3   The Dow Jones Industrial Average fell 660 poin...         -0.6740   \n",
       "4   Apple itself has lost $300 billion in stock va...         -0.3071   \n",
       "10  China's ongoing trade dispute with the United ...          0.4118   \n",
       "13  \"Apple prices may increase because of the mass...         -0.1216   \n",
       "27  China is now the world's largest market for sm...          0.6162   \n",
       "29  Apple's revenue derived from sales in China re...          0.1431   \n",
       "30  Since 2016, Apple sales in China have retreate...          0.3798   \n",
       "35  Apple has not announced plans to build factori...          0.5507   \n",
       "\n",
       "    afinn_score  \n",
       "2           0.0  \n",
       "3           1.0  \n",
       "4          -2.0  \n",
       "10         -1.0  \n",
       "13          0.0  \n",
       "27          0.0  \n",
       "29          1.0  \n",
       "30          1.0  \n",
       "35          2.0  "
      ]
     },
     "execution_count": 111,
     "metadata": {},
     "output_type": "execute_result"
    }
   ],
   "source": [
    "# Get the sentiment score by feeding in the sentences\n",
    "\n",
    "from finvader import finvader\n",
    "\n",
    "df_negative['finvader_score'] = df_negative.sentence.apply(finvader,\n",
    "                                   use_sentibignomics = True, \n",
    "                                   use_henry = True, \n",
    "                                   indicator=\"compound\")\n",
    "\n",
    "df_positive['finvader_score'] = df_positive.sentence.apply(finvader,\n",
    "                                   use_sentibignomics = True, \n",
    "                                   use_henry = True, \n",
    "                                   indicator=\"compound\")\n",
    "\n",
    "# Only keep the sentence contains apple\n",
    "df_positive = df_positive[df_positive['sentence'].str.contains('apple|Apple|APPL', case=False, regex=True)]\n",
    "df_negative = df_negative[df_negative['sentence'].str.contains('apple|Apple|APPL', case=False, regex=True)]\n",
    "\n",
    "# Ignore score lower than 0.1\n",
    "\n",
    "df_positive = df_positive[abs(df_positive['finvader_score']) > 0.1]\n",
    "df_negative = df_negative[abs(df_negative['finvader_score']) > 0.1]\n",
    "\n",
    "\n",
    "negative_score = df_negative['finvader_score'].mean()\n",
    "positive_score = df_positive['finvader_score'].mean()\n",
    "\n",
    "print(f'The score for the positive article is: {positive_score}')\n",
    "print(f'The score for the negative article is {negative_score}')\n",
    "df_negative\n"
   ]
  },
  {
   "cell_type": "code",
   "execution_count": 112,
   "id": "ae389b6a-4a95-46b7-8371-1f9be94f32fd",
   "metadata": {
    "tags": []
   },
   "outputs": [
    {
     "name": "stdout",
     "output_type": "stream",
     "text": [
      "The score for the positive article is: 0.826\n",
      "The score for the negative article is 0.9787\n"
     ]
    }
   ],
   "source": [
    "# Get the sentiment socre by feeding in the whole article\n",
    "\n",
    "positive_score = finvader(cleaned_positive_article_spacy, \n",
    "                  use_sentibignomics = True, \n",
    "                  use_henry = True, \n",
    "                  indicator = 'compound')\n",
    "\n",
    "negative_score = finvader(cleaned_negative_article_spacy, \n",
    "                  use_sentibignomics = True, \n",
    "                  use_henry = True, \n",
    "                  indicator = 'compound' )\n",
    "\n",
    "print(f'The score for the positive article is: {positive_score}')\n",
    "print(f'The score for the negative article is {negative_score}')"
   ]
  },
  {
   "cell_type": "code",
   "execution_count": 113,
   "id": "069c8b36-0754-4021-b6d4-a18179df4fff",
   "metadata": {
    "tags": []
   },
   "outputs": [
    {
     "name": "stdout",
     "output_type": "stream",
     "text": [
      "The score with Organization name: 0.3653\n",
      "The score without Organization name: 0.3653\n"
     ]
    }
   ],
   "source": [
    "# Test if FinVader clean organization name inside the modle\n",
    "\n",
    "text_with_org = \"Apple Inc. stock rose by 5% in early trading Thursday.\"\n",
    "text_without_org = \"stock rose by 5% in early trading Thursday.\"\n",
    "\n",
    "score_with_org = finvader(text_with_org, \n",
    "                  use_sentibignomics = True, \n",
    "                  use_henry = True, \n",
    "                  indicator = 'compound')\n",
    "\n",
    "score_without_org = finvader(text_with_org, \n",
    "                  use_sentibignomics = True, \n",
    "                  use_henry = True, \n",
    "                  indicator = 'compound')\n",
    "\n",
    "print(f'The score with Organization name: {score_with_org}')\n",
    "print(f'The score without Organization name: {score_without_org}')"
   ]
  },
  {
   "cell_type": "markdown",
   "id": "77aa7e74-96ee-4724-ae05-df0f5e1732ec",
   "metadata": {},
   "source": [
    "### AFINN:"
   ]
  },
  {
   "cell_type": "markdown",
   "id": "afbb7697-6f47-4d7c-904e-1ba8b91d7583",
   "metadata": {},
   "source": [
    "<b>The AFINN lexicon is a list of English words rated for valence with an integer between minus five (negative) and plus five (positive). The ratings are a simple measure of sentiment strength of words. It's commonly used in sentiment analysis to assess the positivity or negativity of texts, such as stock market news articles, to gauge the sentiment around a particular stock or the market in general.\n",
    "    \n",
    "AFINN typically employs a \"bag of words\" approach for sentiment analysis. This means it analyzes the text based on the presence and frequency of words that have been pre-assigned sentiment scores, without considering the order of words, grammar, or any potential contextual meaning that might arise from their sequence. Each word is treated independently, and its score is added to the total sentiment score of the text."
   ]
  },
  {
   "cell_type": "code",
   "execution_count": 114,
   "id": "c3e34418-95c7-421c-9488-4445e8a1045d",
   "metadata": {
    "tags": []
   },
   "outputs": [
    {
     "name": "stdout",
     "output_type": "stream",
     "text": [
      "The score for Uncleaned Raw Positive article is: 19.0\n",
      "The score for Uncleaned Raw Negative article is: -11.0\n",
      "The score for Cleaned Full Positive article is: 16.0\n",
      "The score for Cleaned Full Negative article is: -3.0\n",
      "The score for Uncleaned Sentence-Averaged Positive article is: 1.875\n",
      "The score for Uncleaned Sentence-Averaged Negative article is: 0.2222222222222222\n"
     ]
    }
   ],
   "source": [
    "from afinn import Afinn\n",
    "\n",
    "afinn = Afinn()\n",
    "\n",
    "# Feed in uncleaned raw article\n",
    "unclean_raw_positve_score = afinn.score(positive_article['article'])\n",
    "unclean_raw_negative_score = afinn.score(negative_article['article'])\n",
    "print(f'The score for Uncleaned Raw Positive article is: {unclean_raw_positve_score}')\n",
    "print(f'The score for Uncleaned Raw Negative article is: {unclean_raw_negative_score}')\n",
    "\n",
    "# Feed in cleaned full article\n",
    "clean_full_positve_score = afinn.score(cleaned_positive_article_spacy)\n",
    "clean_full_negative_score = afinn.score(cleaned_negative_article_spacy)\n",
    "print(f'The score for Cleaned Full Positive article is: {clean_full_positve_score}')\n",
    "print(f'The score for Cleaned Full Negative article is: {clean_full_negative_score}')\n",
    "\n",
    "# Feed in uncleaned sentences\n",
    "df_negative['afinn_score'] = df_negative.sentence.apply(afinn.score)\n",
    "df_positive['afinn_score'] = df_positive.sentence.apply(afinn.score)\n",
    "print(f\"The score for Uncleaned Sentence-Averaged Positive article is: {df_positive['afinn_score'].mean()}\")\n",
    "print(f\"The score for Uncleaned Sentence-Averaged Negative article is: {df_negative['afinn_score'].mean()}\")\n"
   ]
  },
  {
   "cell_type": "markdown",
   "id": "3a8dbea4-e15e-4273-8175-5b549c3aa492",
   "metadata": {},
   "source": [
    "### SentiWordNet:"
   ]
  },
  {
   "cell_type": "markdown",
   "id": "0a9f477a-feef-4024-affe-48eb0b8b09e1",
   "metadata": {},
   "source": [
    "I decide not to try out this model because the initial investigation has shown that the SentiWordNet also use the 'bag of the word' approach. his approach considers the sentiment values of individual words or terms in the text without accounting for their order, context, or the structure of the sentence in which they appear. It would be very similar to AFINN"
   ]
  },
  {
   "cell_type": "markdown",
   "id": "29938e78-561a-4a69-b41d-372a975cdbd7",
   "metadata": {
    "tags": []
   },
   "source": [
    "## Section 3: Get Sentiment Score by using Lexicon-Based Approach with LDA "
   ]
  },
  {
   "cell_type": "markdown",
   "id": "d4002b8e-3282-4aa9-84ee-8d0b872ba4ac",
   "metadata": {},
   "source": [
    "### Apply LDA and associate topic to corresponding sentences"
   ]
  },
  {
   "cell_type": "code",
   "execution_count": 128,
   "id": "1b934c15-e908-4168-a93e-669d2c92fee0",
   "metadata": {
    "tags": []
   },
   "outputs": [
    {
     "name": "stdout",
     "output_type": "stream",
     "text": [
      "Topic 1:\n",
      "\n",
      "Sentence: Among news of poor performance in the Chinese economy, one of the most distressing signals for foreign retailers and manufacturers is Apple's AAPL announcement on Wednesday that the company had reduced revenue expectations due to poor iPhone sales in China.\n",
      "Contribution: 0.9689568281173706\n",
      "Keywords: apple, china, percent, company, sale, market, new, foreign, domestic, stock\n",
      "\n",
      "Sentence: Apple's announcement caused its stock to fall seven percent Wednesday evening and 10 percent on Thursday.\n",
      "Contribution: 0.9330894947052002\n",
      "Keywords: apple, china, percent, company, sale, market, new, foreign, domestic, stock\n",
      "\n",
      "Sentence: Apple itself has lost $300 billion in stock value since becoming the first company to reach a market capitalization of $1 trillion in October 2018.\n",
      "Contribution: 0.9463534355163574\n",
      "Keywords: apple, china, percent, company, sale, market, new, foreign, domestic, stock\n",
      "\n",
      "Sentence: U. S. President Donald Trump has publicly criticized Apple and other American companies for manufacturing goods in China instead of the United States.\n",
      "Contribution: 0.9462286829948425\n",
      "Keywords: apple, china, percent, company, sale, market, new, foreign, domestic, stock\n",
      "\n",
      "Sentence: Many tech companies have expressed disagreement with the unpredictability of Trump's methods in trade negotiation with China.\n",
      "Contribution: 0.9329864382743835\n",
      "Keywords: apple, china, percent, company, sale, market, new, foreign, domestic, stock\n",
      "\n",
      "Sentence: \"Make your products in the United States instead of China.\n",
      "Contribution: 0.8843419551849365\n",
      "Keywords: apple, china, percent, company, sale, market, new, foreign, domestic, stock\n",
      "\n",
      "Sentence: Start building new plants now.\"\n",
      "Contribution: 0.8399691581726074\n",
      "Keywords: apple, china, percent, company, sale, market, new, foreign, domestic, stock\n",
      "\n",
      "Sentence: Huawei's focus on expanding beyond the domestic market increased sales by 60 percent in foreign markets while sales in China also rose by 13 percent.\n",
      "Contribution: 0.9525334239006042\n",
      "Keywords: apple, china, percent, company, sale, market, new, foreign, domestic, stock\n",
      "\n",
      "Sentence: Last January, Apple announced a $350 billion investment in the U.\n",
      "Contribution: 0.899050235748291\n",
      "Keywords: apple, china, percent, company, sale, market, new, foreign, domestic, stock\n",
      "\n",
      "Sentence: S, 20,000 new domestic jobs, and the establishment of a new campus.\n",
      "Contribution: 0.8856973648071289\n",
      "Keywords: apple, china, percent, company, sale, market, new, foreign, domestic, stock\n",
      "\n",
      "\n",
      "\n",
      "Topic 0:\n",
      "\n",
      "Sentence: Revenue projections are estimated to be $4.3 billion short of the previous estimate of $89-$93 billion for 2018, according to Apple chief executive officer Tim Cook.\n",
      "Contribution: 0.9496909379959106\n",
      "Keywords: apple, billion, economic, revenue, trade, quarter, united, state, third, local\n",
      "\n",
      "Sentence: President Xi Jinping began his second term in 2017 by signing off on tightening credit among Chinese banks to prevent rapid growth from triggering market volatility.\n",
      "Contribution: 0.957545280456543\n",
      "Keywords: apple, billion, economic, revenue, trade, quarter, united, state, third, local\n",
      "\n",
      "Sentence: This had the effect of driving down consumption and subsequently tax revenue.\n",
      "Contribution: 0.8854140043258667\n",
      "Keywords: apple, billion, economic, revenue, trade, quarter, united, state, third, local\n",
      "\n",
      "Sentence: China's ongoing trade dispute with the United States is another pressing concern for Apple.\n",
      "Contribution: 0.9262975454330444\n",
      "Keywords: apple, billion, economic, revenue, trade, quarter, united, state, third, local\n",
      "\n",
      "Sentence: According to Reuters, the largest cost in manufacturing the iPhone X (roughly $110 of the $378 total cost) is purchasing the touch-screen module from Samsung SMSN, which is based in South Korea.\n",
      "Contribution: 0.955291748046875\n",
      "Keywords: apple, billion, economic, revenue, trade, quarter, united, state, third, local\n",
      "\n",
      "Sentence: Beyond economic fatigue and trade disputes, another reason for Apple's struggle in China is the rise of local competitors.\n",
      "Contribution: 0.9422612190246582\n",
      "Keywords: apple, billion, economic, revenue, trade, quarter, united, state, third, local\n",
      "\n",
      "Sentence: Rival smartphone manufacturer Huawei grew 33 percent from the third quarter of 2017 to the third quarter of 2018 despite local economic trouble.\n",
      "Contribution: 0.946243166923523\n",
      "Keywords: apple, billion, economic, revenue, trade, quarter, united, state, third, local\n",
      "\n",
      "Sentence: Apple has not announced plans to build factories in the United States, but it has committed to repatriating roughly $250 billion from its foreign holdings due to recent reductions in the corporate tax code.\n",
      "Contribution: 0.9597710967063904\n",
      "Keywords: apple, billion, economic, revenue, trade, quarter, united, state, third, local\n",
      "\n",
      "\n",
      "\n",
      "Topic 4:\n",
      "\n",
      "Sentence: The Dow Jones Industrial Average fell 660 points as news of Apple's sale slump permeated the market, particularly affecting stocks exposed to the Chinese market like Boeing & Co. BA, Deere & Co. DE, Qualcomm, Inc. QCOM and Tiffany & Co. TIF.\n",
      "Contribution: 0.9711918830871582\n",
      "Keywords: china, cost, market, sale, like, chinese, economic, country, slowdown, cook\n",
      "\n",
      "Sentence: Cook attributes weak sales in China to decreased traffic in its more than 40 retail outlets in the country.\n",
      "Contribution: 0.9268590807914734\n",
      "Keywords: china, cost, market, sale, like, chinese, economic, country, slowdown, cook\n",
      "\n",
      "Sentence: China's economic slowdown was sparked by a more conservative monetary policy enacted by the central government.\n",
      "Contribution: 0.9269508123397827\n",
      "Keywords: china, cost, market, sale, like, chinese, economic, country, slowdown, cook\n",
      "\n",
      "Sentence: Don't miss it.\n",
      "Contribution: 0.5999307036399841\n",
      "Keywords: china, cost, market, sale, like, chinese, economic, country, slowdown, cook\n",
      "\n",
      "Sentence: Final assembly in China costs $8 and battery packs sourced in China cost $6.\n",
      "Contribution: 0.919357419013977\n",
      "Keywords: china, cost, market, sale, like, chinese, economic, country, slowdown, cook\n",
      "\n",
      "\n",
      "\n",
      "Topic 2:\n",
      "\n",
      "Sentence: Beijing is not promising any stimulus packages to ward off the current economic challenges.\n",
      "Contribution: 0.91068035364151\n",
      "Keywords: china, apple, sale, billion, manufacturing, chinese, tax, second, percent, tariff\n",
      "\n",
      "Sentence: \"Apple prices may increase because of the massive tariffs we may be imposing on China – but there is an easy solution where there would be ZERO tax, and indeed a tax incentive,\" tweeted President Trump in response to Apple's criticism of a 25 percent tariff on Chinese goods that would impact Apple products manufactured in China.\n",
      "Contribution: 0.9763049483299255\n",
      "Keywords: china, apple, sale, billion, manufacturing, chinese, tax, second, percent, tariff\n",
      "\n",
      "Sentence: Register today.\n",
      "Contribution: 0.7332587838172913\n",
      "Keywords: china, apple, sale, billion, manufacturing, chinese, tax, second, percent, tariff\n",
      "\n",
      "Sentence: Over the past 40 years China has undergone a transformation from one of the world's poorest and most isolated nations to a manufacturing and exporting leader, especially in the electronics sector.\n",
      "Contribution: 0.9527791142463684\n",
      "Keywords: china, apple, sale, billion, manufacturing, chinese, tax, second, percent, tariff\n",
      "\n",
      "Sentence: As China became wealthier through industrialization and global trade, the country's middle class grew to an estimated 400 hundred million people.\n",
      "Contribution: 0.946306049823761\n",
      "Keywords: china, apple, sale, billion, manufacturing, chinese, tax, second, percent, tariff\n",
      "\n",
      "Sentence: China is now the world's largest market for smartphones and contributes up to 20 percent of Apple's total sales.\n",
      "Contribution: 0.9264459609985352\n",
      "Keywords: china, apple, sale, billion, manufacturing, chinese, tax, second, percent, tariff\n",
      "\n",
      "Sentence: Apple's revenue derived from sales in China reached a peak of nearly $60 billion in 2015, placing the market ahead of Europe (at around $50 billion) and second behind the Americas (at over $90 billion).\n",
      "Contribution: 0.9597345590591431\n",
      "Keywords: china, apple, sale, billion, manufacturing, chinese, tax, second, percent, tariff\n",
      "\n",
      "Sentence: Since 2016, Apple sales in China have retreated to $52 billion while sales in Europe have increased to over $60 billion and sales in the Americas have rocketed past $100 billion.\n",
      "Contribution: 0.9496985077857971\n",
      "Keywords: china, apple, sale, billion, manufacturing, chinese, tax, second, percent, tariff\n",
      "\n",
      "Sentence: The second quarter of 2018 saw Huawei surpass Apple in Chinese market-share and overall sales for smartphone manufacturing.\n",
      "Contribution: 0.932743489742279\n",
      "Keywords: china, apple, sale, billion, manufacturing, chinese, tax, second, percent, tariff\n",
      "\n",
      "Sentence: Want more content like this?\n",
      "Contribution: 0.7991014719009399\n",
      "Keywords: china, apple, sale, billion, manufacturing, chinese, tax, second, percent, tariff\n",
      "\n",
      "Sentence: Click here to SubscribePermalink\n",
      "Contribution: 0.7332587838172913\n",
      "Keywords: china, apple, sale, billion, manufacturing, chinese, tax, second, percent, tariff\n",
      "\n",
      "\n",
      "\n",
      "Topic 3:\n",
      "\n",
      "Sentence: However, Apple maintains that the U. S. lacks skilled workers and advanced facilities to produce iPhones affordably, suggesting the consumer price could jump between 20 to 35 percent if the supply chain was transferred from Asia to the U. S. Apple could avoid Section 301 of the Trade Act of 1974 by moving final assembly operations out of China to competing low-cost labor markets such as Taiwan, Vietnam, or Malaysia.\n",
      "Contribution: 0.979362428188324\n",
      "Keywords: apple, china, product, iphone, electronics, foxconn, final, assembly, highly, consumer\n",
      "\n",
      "Sentence: Apple's supply chain is structured to purchase components for products such as the iPhone from domestic and foreign partners.\n",
      "Contribution: 0.7426268458366394\n",
      "Keywords: apple, china, product, iphone, electronics, foxconn, final, assembly, highly, consumer\n",
      "\n",
      "Sentence: Apple then sells components to its Taiwanese contractor Foxconn for final assembly into finished products.\n",
      "Contribution: 0.9270545244216919\n",
      "Keywords: apple, china, product, iphone, electronics, foxconn, final, assembly, highly, consumer\n",
      "\n",
      "Sentence: Apple manufactures the bulk of its iPhone products through Foxconn in the Chinese city of Shenzhen.\n",
      "Contribution: 0.9194552302360535\n",
      "Keywords: apple, china, product, iphone, electronics, foxconn, final, assembly, highly, consumer\n",
      "\n",
      "Sentence: Credit for China's success in consumer electronics manufacturing is based on inexpensive labor and a workforce that is highly flexible to changes in production.\n",
      "Contribution: 0.9463501572608948\n",
      "Keywords: apple, china, product, iphone, electronics, foxconn, final, assembly, highly, consumer\n",
      "\n",
      "Sentence: iPhone sales worldwide account for over half of Apple's revenue.\n",
      "Contribution: 0.8978052735328674\n",
      "Keywords: apple, china, product, iphone, electronics, foxconn, final, assembly, highly, consumer\n",
      "\n",
      "Sentence: While China's economic slowdown has had a negative impact on U. S. retailers and manufacturers, the country will likely remain highly relevant in the global electronics industry.\n",
      "Contribution: 0.9495669007301331\n",
      "Keywords: apple, china, product, iphone, electronics, foxconn, final, assembly, highly, consumer\n",
      "\n",
      "\n",
      "\n"
     ]
    },
    {
     "name": "stderr",
     "output_type": "stream",
     "text": [
      "[nltk_data] Downloading package punkt to\n",
      "[nltk_data]     C:\\Users\\Steven\\AppData\\Roaming\\nltk_data...\n",
      "[nltk_data]   Package punkt is already up-to-date!\n",
      "[nltk_data] Downloading package stopwords to\n",
      "[nltk_data]     C:\\Users\\Steven\\AppData\\Roaming\\nltk_data...\n",
      "[nltk_data]   Package stopwords is already up-to-date!\n",
      "[nltk_data] Downloading package wordnet to\n",
      "[nltk_data]     C:\\Users\\Steven\\AppData\\Roaming\\nltk_data...\n",
      "[nltk_data]   Package wordnet is already up-to-date!\n"
     ]
    }
   ],
   "source": [
    "import nltk\n",
    "from gensim import corpora, models\n",
    "from nltk.corpus import stopwords\n",
    "from nltk.tokenize import sent_tokenize, word_tokenize\n",
    "from nltk.stem.wordnet import WordNetLemmatizer\n",
    "import re\n",
    "\n",
    "nltk.download('punkt')\n",
    "nltk.download('stopwords')\n",
    "nltk.download('wordnet')\n",
    "\n",
    "def preprocess(text):\n",
    "    stop_words = set(stopwords.words('english'))\n",
    "    lemmatizer = WordNetLemmatizer()\n",
    "    # Tokenize into words\n",
    "    words = word_tokenize(text)\n",
    "    # Lowercase, remove stopwords and non-alpha characters, and lemmatize\n",
    "    words = [lemmatizer.lemmatize(word.lower()) for word in words if word.lower() not in stop_words and word.isalpha()]\n",
    "    return words\n",
    "\n",
    "\n",
    "# Tokenize the article into sentences\n",
    "sentences = sent_tokenize(cleaned_negative_article_manule)\n",
    "\n",
    "# Preprocess sentences\n",
    "processed_sentences = [preprocess(sentence) for sentence in sentences]\n",
    "\n",
    "# Step 2: Prepare the dictionary and corpus\n",
    "dictionary = corpora.Dictionary(processed_sentences)\n",
    "corpus = [dictionary.doc2bow(text) for text in processed_sentences]\n",
    "\n",
    "# Step 3: Apply LDA model\n",
    "lda_model = models.LdaModel(corpus, num_topics=5, id2word=dictionary, passes=15)\n",
    "\n",
    "# Step 4: Extract topics and associated sentences\n",
    "topics_sentences = {}\n",
    "for i, row_list in enumerate(lda_model[corpus]):\n",
    "    row = row_list[0] if lda_model.per_word_topics else row_list            \n",
    "    # Sort the topics by the contribution (second element in tuple)\n",
    "    row = sorted(row, key=lambda x: (x[1]), reverse=True)\n",
    "    # Get the dominant topic, its percentage contribution, and keywords\n",
    "    for j, (topic_num, prop_topic) in enumerate(row):\n",
    "        if j == 0:  # => dominant topic\n",
    "            wp = lda_model.show_topic(topic_num)\n",
    "            topic_keywords = \", \".join([word for word, prop in wp])\n",
    "            # Save the dominant topic and the sentence\n",
    "            if topic_num not in topics_sentences:\n",
    "                topics_sentences[topic_num] = [(prop_topic, sentences[i], topic_keywords)]\n",
    "            else:\n",
    "                topics_sentences[topic_num].append((prop_topic, sentences[i], topic_keywords))\n",
    "\n",
    "# Displaying the topics and associated sentences\n",
    "for topic_num, sentences_info in topics_sentences.items():\n",
    "    print(f\"Topic {topic_num}:\\n\")\n",
    "    for info in sentences_info:\n",
    "        print(f\"Sentence: {info[1]}\\nContribution: {info[0]}\\nKeywords: {info[2]}\\n\")\n",
    "    print(\"\\n\")"
   ]
  },
  {
   "cell_type": "markdown",
   "id": "b5aede07-b22b-4e73-b098-7ed7b6efdd3a",
   "metadata": {},
   "source": [
    "### Calculate Sementic Score based on topics:"
   ]
  },
  {
   "cell_type": "code",
   "execution_count": 129,
   "id": "8cc4d436-8a61-4629-8905-4e40a6835584",
   "metadata": {
    "tags": []
   },
   "outputs": [
    {
     "name": "stdout",
     "output_type": "stream",
     "text": [
      "Topic 1:\n",
      "\n",
      "Sentence: among news of poor performance in the chinese economy, one of the most distressing signals for foreign retailers and manufacturers is apple's aapl announcement on wednesday that the company had reduced revenue expectations due to poor iphone sales in china.\n",
      "Score: -0.0439\n",
      "\n",
      "Sentence: apple's announcement caused its stock to fall seven percent wednesday evening and 10 percent on thursday.\n",
      "Score: -0.3612\n",
      "\n",
      "Sentence: apple itself has lost $300 billion in stock value since becoming the first company to reach a market capitalization of $1 trillion in october 2018.\n",
      "Score: -0.3071\n",
      "\n",
      "Sentence: u. s. president donald trump has publicly criticized apple and other american companies for manufacturing goods in china instead of the united states.\n",
      "Score: 0.0823\n",
      "\n",
      "Sentence: many tech companies have expressed disagreement with the unpredictability of trump's methods in trade negotiation with china.\n",
      "Score: -0.0142\n",
      "\n",
      "Sentence: \"make your products in the united states instead of china.\n",
      "Score: 0.4215\n",
      "\n",
      "Sentence: start building new plants now.\"\n",
      "Score: 0.0077\n",
      "\n",
      "Sentence: huawei's focus on expanding beyond the domestic market increased sales by 60 percent in foreign markets while sales in china also rose by 13 percent.\n",
      "Score: 0.7636\n",
      "\n",
      "Sentence: last january, apple announced a $350 billion investment in the u.\n",
      "Score: 0.009\n",
      "\n",
      "Sentence: s, 20,000 new domestic jobs, and the establishment of a new campus.\n",
      "Score: 0.0155\n",
      "\n",
      "topic score: 0.05732\n",
      "\n",
      "\n",
      "Topic 0:\n",
      "\n",
      "Sentence: revenue projections are estimated to be $4.3 billion short of the previous estimate of $89-$93 billion for 2018, according to apple chief executive officer tim cook.\n",
      "Score: 0.0077\n",
      "\n",
      "Sentence: president xi jinping began his second term in 2017 by signing off on tightening credit among chinese banks to prevent rapid growth from triggering market volatility.\n",
      "Score: 0.3601\n",
      "\n",
      "Sentence: this had the effect of driving down consumption and subsequently tax revenue.\n",
      "Score: -0.3517\n",
      "\n",
      "Sentence: china's ongoing trade dispute with the united states is another pressing concern for apple.\n",
      "Score: 0.4118\n",
      "\n",
      "Sentence: according to reuters, the largest cost in manufacturing the iphone x (roughly $110 of the $378 total cost) is purchasing the touch-screen module from samsung smsn, which is based in south korea.\n",
      "Score: 0.3674\n",
      "\n",
      "Sentence: beyond economic fatigue and trade disputes, another reason for apple's struggle in china is the rise of local competitors.\n",
      "Score: 0.0785\n",
      "\n",
      "Sentence: rival smartphone manufacturer huawei grew 33 percent from the third quarter of 2017 to the third quarter of 2018 despite local economic trouble.\n",
      "Score: 0.3464\n",
      "\n",
      "Sentence: apple has not announced plans to build factories in the united states, but it has committed to repatriating roughly $250 billion from its foreign holdings due to recent reductions in the corporate tax code.\n",
      "Score: 0.5507\n",
      "\n",
      "topic score: 0.2213625\n",
      "\n",
      "\n",
      "Topic 4:\n",
      "\n",
      "Sentence: the dow jones industrial average fell 660 points as news of apple's sale slump permeated the market, particularly affecting stocks exposed to the chinese market like boeing & co. ba, deere & co. de, qualcomm, inc. qcom and tiffany & co. tif.\n",
      "Score: -0.674\n",
      "\n",
      "Sentence: cook attributes weak sales in china to decreased traffic in its more than 40 retail outlets in the country.\n",
      "Score: -0.6053\n",
      "\n",
      "Sentence: china's economic slowdown was sparked by a more conservative monetary policy enacted by the central government.\n",
      "Score: -0.0026\n",
      "\n",
      "Sentence: don't miss it.\n",
      "Score: 0.0048\n",
      "\n",
      "Sentence: final assembly in china costs $8 and battery packs sourced in china cost $6.\n",
      "Score: 0.0026\n",
      "\n",
      "topic score: -0.2549\n",
      "\n",
      "\n",
      "Topic 2:\n",
      "\n",
      "Sentence: beijing is not promising any stimulus packages to ward off the current economic challenges.\n",
      "Score: -0.3889\n",
      "\n",
      "Sentence: \"apple prices may increase because of the massive tariffs we may be imposing on china – but there is an easy solution where there would be zero tax, and indeed a tax incentive,\" tweeted president trump in response to apple's criticism of a 25 percent tariff on chinese goods that would impact apple products manufactured in china.\n",
      "Score: 0.1593\n",
      "\n",
      "Sentence: register today.\n",
      "Score: 0.0\n",
      "\n",
      "Sentence: over the past 40 years china has undergone a transformation from one of the world's poorest and most isolated nations to a manufacturing and exporting leader, especially in the electronics sector.\n",
      "Score: -0.257\n",
      "\n",
      "Sentence: as china became wealthier through industrialization and global trade, the country's middle class grew to an estimated 400 hundred million people.\n",
      "Score: 0.6908\n",
      "\n",
      "Sentence: china is now the world's largest market for smartphones and contributes up to 20 percent of apple's total sales.\n",
      "Score: 0.6162\n",
      "\n",
      "Sentence: apple's revenue derived from sales in china reached a peak of nearly $60 billion in 2015, placing the market ahead of europe (at around $50 billion) and second behind the americas (at over $90 billion).\n",
      "Score: 0.1431\n",
      "\n",
      "Sentence: since 2016, apple sales in china have retreated to $52 billion while sales in europe have increased to over $60 billion and sales in the americas have rocketed past $100 billion.\n",
      "Score: 0.3798\n",
      "\n",
      "Sentence: the second quarter of 2018 saw huawei surpass apple in chinese market-share and overall sales for smartphone manufacturing.\n",
      "Score: 0.0284\n",
      "\n",
      "Sentence: want more content like this?\n",
      "Score: 0.0065\n",
      "\n",
      "Sentence: click here to subscribepermalink\n",
      "Score: 0.0\n",
      "\n",
      "topic score: 0.1252909090909091\n",
      "\n",
      "\n",
      "Topic 3:\n",
      "\n",
      "Sentence: however, apple maintains that the u. s. lacks skilled workers and advanced facilities to produce iphones affordably, suggesting the consumer price could jump between 20 to 35 percent if the supply chain was transferred from asia to the u. s. apple could avoid section 301 of the trade act of 1974 by moving final assembly operations out of china to competing low-cost labor markets such as taiwan, vietnam, or malaysia.\n",
      "Score: 0.04\n",
      "\n",
      "Sentence: apple's supply chain is structured to purchase components for products such as the iphone from domestic and foreign partners.\n",
      "Score: 0.0194\n",
      "\n",
      "Sentence: apple then sells components to its taiwanese contractor foxconn for final assembly into finished products.\n",
      "Score: 0.0\n",
      "\n",
      "Sentence: apple manufactures the bulk of its iphone products through foxconn in the chinese city of shenzhen.\n",
      "Score: 0.0052\n",
      "\n",
      "Sentence: credit for china's success in consumer electronics manufacturing is based on inexpensive labor and a workforce that is highly flexible to changes in production.\n",
      "Score: 0.4576\n",
      "\n",
      "Sentence: iphone sales worldwide account for over half of apple's revenue.\n",
      "Score: 0.0181\n",
      "\n",
      "Sentence: while china's economic slowdown has had a negative impact on u. s. retailers and manufacturers, the country will likely remain highly relevant in the global electronics industry.\n",
      "Score: -0.2919\n",
      "\n",
      "topic score: 0.03548571428571429\n",
      "\n",
      "\n",
      "article score: 0.036911824675324674\n"
     ]
    }
   ],
   "source": [
    "# Without filtering\n",
    "article_score = 0\n",
    "topic_count = 0\n",
    "\n",
    "for topic_num, sentences_info in topics_sentences.items():\n",
    "    print(f\"Topic {topic_num}:\\n\")\n",
    "    topic_score = 0\n",
    "    sentence_count = 0\n",
    "    for info in sentences_info:\n",
    "        sentence = info[1]\n",
    "        lower_sentence = sentence.lower()\n",
    "        \n",
    "        sen_score = finvader(lower_sentence, \n",
    "                  use_sentibignomics = True, \n",
    "                  use_henry = True, \n",
    "                  indicator = 'compound')\n",
    "        topic_score += sen_score\n",
    "        sentence_count += 1\n",
    "        print(f\"Sentence: {lower_sentence}\\nScore: {sen_score}\\n\")\n",
    "    topic_count += 1\n",
    "    topic_score = topic_score / sentence_count\n",
    "    print(f\"topic score: {topic_score}\")\n",
    "    print(\"\\n\")\n",
    "    article_score += topic_score\n",
    "\n",
    "article_score = article_score / topic_count\n",
    "\n",
    "print(f\"article score: {article_score}\")"
   ]
  },
  {
   "cell_type": "code",
   "execution_count": 130,
   "id": "5576cf8a-6976-4d58-a594-b302570edefd",
   "metadata": {
    "tags": []
   },
   "outputs": [
    {
     "name": "stdout",
     "output_type": "stream",
     "text": [
      "Topic 1:\n",
      "\n",
      "Sentence: apple's announcement caused its stock to fall seven percent wednesday evening and 10 percent on thursday.\n",
      "Score: -0.3612\n",
      "\n",
      "Sentence: apple itself has lost $300 billion in stock value since becoming the first company to reach a market capitalization of $1 trillion in october 2018.\n",
      "Score: -0.3071\n",
      "\n",
      "topic score: -0.33415\n",
      "\n",
      "\n",
      "Topic 0:\n",
      "\n",
      "Sentence: china's ongoing trade dispute with the united states is another pressing concern for apple.\n",
      "Score: 0.4118\n",
      "\n",
      "Sentence: apple has not announced plans to build factories in the united states, but it has committed to repatriating roughly $250 billion from its foreign holdings due to recent reductions in the corporate tax code.\n",
      "Score: 0.5507\n",
      "\n",
      "topic score: 0.48124999999999996\n",
      "\n",
      "\n",
      "Topic 4:\n",
      "\n",
      "Sentence: the dow jones industrial average fell 660 points as news of apple's sale slump permeated the market, particularly affecting stocks exposed to the chinese market like boeing & co. ba, deere & co. de, qualcomm, inc. qcom and tiffany & co. tif.\n",
      "Score: -0.674\n",
      "\n",
      "topic score: -0.674\n",
      "\n",
      "\n",
      "Topic 2:\n",
      "\n",
      "Sentence: \"apple prices may increase because of the massive tariffs we may be imposing on china – but there is an easy solution where there would be zero tax, and indeed a tax incentive,\" tweeted president trump in response to apple's criticism of a 25 percent tariff on chinese goods that would impact apple products manufactured in china.\n",
      "Score: 0.1593\n",
      "\n",
      "Sentence: china is now the world's largest market for smartphones and contributes up to 20 percent of apple's total sales.\n",
      "Score: 0.6162\n",
      "\n",
      "Sentence: apple's revenue derived from sales in china reached a peak of nearly $60 billion in 2015, placing the market ahead of europe (at around $50 billion) and second behind the americas (at over $90 billion).\n",
      "Score: 0.1431\n",
      "\n",
      "Sentence: since 2016, apple sales in china have retreated to $52 billion while sales in europe have increased to over $60 billion and sales in the americas have rocketed past $100 billion.\n",
      "Score: 0.3798\n",
      "\n",
      "topic score: 0.3246\n",
      "\n",
      "\n",
      "Topic 3:\n",
      "\n",
      "article score: -0.05057500000000004\n"
     ]
    }
   ],
   "source": [
    "# Filter out irrelevant sentence and lower score sentences\n",
    "\n",
    "article_score = 0\n",
    "topic_count = 0\n",
    "word_list = ['apple','appl']\n",
    "\n",
    "for topic_num, sentences_info in topics_sentences.items():\n",
    "    print(f\"Topic {topic_num}:\\n\")\n",
    "    topic_score = 0\n",
    "    sentence_count = 0\n",
    "    for info in sentences_info:\n",
    "        sentence = info[1]\n",
    "        lower_sentence = sentence.lower()\n",
    "        \n",
    "        if any(word.lower() in lower_sentence for word in word_list):\n",
    "            sen_score = finvader(lower_sentence, \n",
    "                      use_sentibignomics = True, \n",
    "                      use_henry = True, \n",
    "                      indicator = 'compound')\n",
    "            \n",
    "            if abs(sen_score) > 0.1:\n",
    "                topic_score += sen_score\n",
    "                sentence_count +=1\n",
    "                print(f\"Sentence: {lower_sentence}\\nScore: {sen_score}\\n\")\n",
    "    if sentence_count >= 1:\n",
    "        topic_count += 1\n",
    "        topic_score = topic_score / sentence_count\n",
    "        print(f\"topic score: {topic_score}\")\n",
    "        print(\"\\n\")\n",
    "        article_score += topic_score\n",
    "\n",
    "article_score = article_score / topic_count\n",
    "\n",
    "print(f\"article score: {article_score}\")\n",
    "\n",
    "    \n",
    "\n",
    "    "
   ]
  },
  {
   "cell_type": "markdown",
   "id": "5c99dc21-c437-4440-9ae9-0c459fc1b0ed",
   "metadata": {},
   "source": [
    "Problem: Soem sentences that discuss other topics will also be captured"
   ]
  },
  {
   "cell_type": "markdown",
   "id": "6e5eb706-d815-4ed2-9bb9-0b75634a28f7",
   "metadata": {},
   "source": [
    "What to try next: Give different topic different weight"
   ]
  },
  {
   "cell_type": "code",
   "execution_count": null,
   "id": "70a8fe6a-1ef0-48d5-96f8-0e56480a0dad",
   "metadata": {},
   "outputs": [],
   "source": []
  }
 ],
 "metadata": {
  "kernelspec": {
   "display_name": "Python 3 (ipykernel)",
   "language": "python",
   "name": "python3"
  },
  "language_info": {
   "codemirror_mode": {
    "name": "ipython",
    "version": 3
   },
   "file_extension": ".py",
   "mimetype": "text/x-python",
   "name": "python",
   "nbconvert_exporter": "python",
   "pygments_lexer": "ipython3",
   "version": "3.9.0"
  }
 },
 "nbformat": 4,
 "nbformat_minor": 5
}

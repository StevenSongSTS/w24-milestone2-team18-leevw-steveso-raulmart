{
 "cells": [
  {
   "cell_type": "code",
   "execution_count": 2,
   "metadata": {},
   "outputs": [],
   "source": [
    "from db_helper_functions import get_stock_news_from_db\n",
    "from summarizer import Summarizer\n",
    "from summarizer.sbert import SBertSummarizer"
   ]
  },
  {
   "cell_type": "code",
   "execution_count": 3,
   "metadata": {},
   "outputs": [],
   "source": [
    "df = get_stock_news_from_db(\"AAPL\")"
   ]
  },
  {
   "cell_type": "code",
   "execution_count": 4,
   "metadata": {},
   "outputs": [],
   "source": [
    "df = df[~df.article.isnull()]\n",
    "df = df.iloc[:10]\n",
    "df['article']  = df['article'].apply(lambda x: x.replace(u'\\xa0', u' '))"
   ]
  },
  {
   "cell_type": "code",
   "execution_count": 5,
   "metadata": {},
   "outputs": [
    {
     "data": {
      "text/plain": [
       "'(Monday Market Open) Investors appear optimistic to start the new week as equity index futures headed higher ahead of the opening bell. However, there’s a full economic calendar this week including the Federal Open Market Committee’s interest rate decision on Wednesday.Potential Market MoversThis morning, the CME FedWatch Tool was calculating a 77.5% probability that the Fed would raise the overnight rate 75 basis points on Wednesday. The probabilities are likely to rise the closer we get to the announcement, so it will likely fall to the accompanying statement and press conference with Federal Reserve Chair Jerome Powell that to move the market on the rate picture.Thursday’s gross domestic product (GDP) has the potential to be controversial as well because of the ongoing debate over what constitutes a recession. Historically, two consecutive quarters of negative GDP growth have defined a recession, but some, including the White House, are arguing this time it’s different because of the strength of the U.S. jobs market.In the first quarter, GDP was -1.3%. Currently, the Federal Reserve Bank of Atlanta’s GDPNow tool is projecting -1.6% growth the second quarter. However, the unemployment rate is just 3.6%. Therefore, all eyes will be on the National Bureau of Economic Research (NBER) because they get the privilege of determining whether or not a recession is “official.”Whatever happens with the labeling, the GDP report should help analysts and investors see where the weaknesses are in the economy.However, recession fears aren’t limited to the U.S. The July German Business Climate Index, which measures economic expectations for the next six months, came in lower than expected and much lower than the previous month. The survey of German manufacturers, builders, wholesalers, and retailers revealed that many of them are expecting a recession in Germany. The German DAX was trading 0.3% higher overnight despite the news.Today’s a packed earnings calendar with releases from NXP Semiconductors NXPI, Whirlpool WHR, and F5 Networks FFIV. But there are big tech hitters reporting throughout the week including Microsoft MSFT, Alphabet GOOGL, Meta META, Apple AAPL, and Amazon AMZN. Energy giants Exxon Mobil XOM and Chevron CVX will also report this week.Reviewing the Market MinutesThe stock market ended a positive week on a sour note when the S&P 500® index (SPX), Nasdaq ($COMP), and Dow Jones Industrials ($DJI) respectively fell 0.93%, 1.87%, and 0.43% on Friday. However, the indexes did end the week with gains of 2.6%, 2.0%, and 3.3% respectively.Stocks appeared to be dragged down by negative manufacturing news from Australia, France, Germany, and Japan. Each reported preliminary manufacturing numbers that suggested manufacturing in each country was contracting. The news fed the global economic slowdown narrative that has been haunting stocks.  Internet stocks took an additional hit as Snap SNAP and Twitter TWTR reported earnings misses. SNAP had the biggest miss by far, causing it to plunge 39.08% on the day. However, Twitter was able to eke out a 0.81% gain. Despite the split reactions to the misses, other internet stocks fell. Alphabet (GOOGL), Meta (META), and Pinterest (PINS) tumbled 5.63%, 7.59%, and 13.51% respectively.The consumer discretionary sector was the week’s top performer for the week as the Consumer Discretionary Select Sector Index rose about 5% from Monday’s opening price. The Industrials Select Sector Index climbed just shy of 3.5%. The Materials Select Sector Index and the Real Estate Select Sector Index both rallied 2.8% to round out the top three sectors.Investors appeared to ignore stocks in the defensive sectors as health care, utilities, and consumer staples ended the week near even.Not only was the consumer discretionary sector the best sector last week, it’s on track to be the best for the month. The consumer discretionary index was up 12.25% from the first of July to last Friday’s close. The Technology Select Sector Index is in second place at 9.14%. These two indexes represented the only sectors to outpace the S&P 500 over that time frame. The Utilities Select Sector Index was the only sector index to be in the red so far this month, down -1.84%.\\n\\nCHART OF THE DAY: CONSUMER STRENGTH: The Consumer Discretionary Select Sector Index ($IXY—candlesticks) has underperformed the S&P 500 (SPX—pink) over the last 12 months. However, the consumer discretionary index is gaining in relative strength (green) against the S&P 500, which could be a bullish sign for the sector. Data Sources: ICE, S&P Dow Jones Indices. Chart source: The thinkorswim® platform. For illustrative purposes only. Past performance does not guarantee future results.\\n\\nThree Things to WatchSKEWED UP: The Consumer Discretionary Select Sector Index closed near its June high last week as investors found a taste for growth stocks. Amazon AMZN and Tesla TSLA are the two largest companies in the capitalization-weighted index and account for approximately 42% of its performance. With AMZN and TSLA skewing the returns of the index, it’s difficult to say if investors are bullish on consumer discretionary stocks in total or just Amazon and Tesla. An investor would need to break down the industry groups within the sector to better determine the demand.EARNINGS UPDATE: According to Refinitiv, S&P 500 companies for the Q2 2022 earnings season are on track for 6.2% earnings growth year over year. However, when excluding energy, growth falls to -3.2%. So far, 106 of the S&P 500’s companies have reported earnings with 75.5% beating analysts’ estimates, which is above the long-term average of 66.1% but lower than the previous four-quarter average of 80.6%.The energy sector has the highest earnings growth rate at a whopping 259.6% year over year. Industrials are second at 26%, and financials are the worst at -22.1%.GETTING BEAT: S&P 500 companies are still reporting fewer and smaller earnings surprises than the last five-year average, according to FactSet. The financials and communications sectors have had the greatest number of earnings misses. Utilities and health care have reported the highest number of earnings beats, while energy and industrials have reported the fewest. However, energy and industrials are also reporting a high number of earnings in-line with analyst estimates.Notable Calendar ItemsJuly 26: New home sales and earnings from Microsoft MSFT, Alphabet GOOGL, Visa V, Coca-Cola KO, McDonald’s MCD, United Parcel Services UPS, and 3M MMMJuly 27: Durable goods orders, Pending home sales, FOMC interest rate decision and earnings from Meta META, Qualcomm QCOM, Rio Tinto RIO, Boeing BA, and Automatic Data Processing ADPJuly 28: Gross domestic product (GDP) and earnings from Apple AAPL, Amazon AMZN, Mastercard MA, Intel INTC, and Caterpillar CATJuly 29: PCE Price Index and earnings from Exxon Mobil XOM, Procter & Gamble PG, and Chevron CVXAug 1: ISM Manufacturing PMI and earnings from Activision Blizzard ATVI, Simon Property SPG, Devon Energy DVN, and Aflac AFLTD Ameritrade® commentary for educational purposes only. Member SIPC.This post contains sponsored advertising content. This content is for informational purposes only and not intended to be investing advice.Image sourced from Shutterstock'"
      ]
     },
     "execution_count": 5,
     "metadata": {},
     "output_type": "execute_result"
    }
   ],
   "source": [
    "df.iloc[0]['article']"
   ]
  },
  {
   "cell_type": "code",
   "execution_count": 6,
   "metadata": {},
   "outputs": [],
   "source": [
    "m1 = Summarizer()"
   ]
  },
  {
   "cell_type": "code",
   "execution_count": 7,
   "metadata": {},
   "outputs": [],
   "source": [
    "df['summary'] = df['article'].apply(lambda x: ''.join(m1(x, min_length=100, max_length=510)))"
   ]
  },
  {
   "cell_type": "code",
   "execution_count": 8,
   "metadata": {},
   "outputs": [
    {
     "data": {
      "text/plain": [
       "'(Monday Market Open) Investors appear optimistic to start the new week as equity index futures headed higher ahead of the opening bell. Historically, two consecutive quarters of negative GDP growth have defined a recession, but some, including the White House, are arguing this time it’s different because of the strength of the U.S. jobs market. ”Whatever happens with the labeling, the GDP report should help analysts and investors see where the weaknesses are in the economy. Today’s a packed earnings calendar with releases from NXP Semiconductors NXPI, Whirlpool WHR, and F5 Networks FFIV. Stocks appeared to be dragged down by negative manufacturing news from Australia, France, Germany, and Japan. Three Things to WatchSKEWED UP: The Consumer Discretionary Select Sector Index closed near its June high last week as investors found a taste for growth stocks. With AMZN and TSLA skewing the returns of the index, it’s difficult to say if investors are bullish on consumer discretionary stocks in total or just Amazon and Tesla.'"
      ]
     },
     "execution_count": 8,
     "metadata": {},
     "output_type": "execute_result"
    }
   ],
   "source": [
    "df.iloc[0]['summary']"
   ]
  },
  {
   "cell_type": "code",
   "execution_count": 9,
   "metadata": {},
   "outputs": [],
   "source": [
    "m2 = SBertSummarizer(\"all-mpnet-base-v2\")"
   ]
  },
  {
   "cell_type": "code",
   "execution_count": 10,
   "metadata": {},
   "outputs": [],
   "source": [
    "df[\"summary_sbert\"] = df[\"article\"].apply(\n",
    "    lambda x: \"\".join(m2(x, min_length=100, max_length=510))\n",
    ")"
   ]
  },
  {
   "cell_type": "code",
   "execution_count": 11,
   "metadata": {},
   "outputs": [
    {
     "data": {
      "text/plain": [
       "'(Monday Market Open) Investors appear optimistic to start the new week as equity index futures headed higher ahead of the opening bell. However, there’s a full economic calendar this week including the Federal Open Market Committee’s interest rate decision on Wednesday. Thursday’s gross domestic product (GDP) has the potential to be controversial as well because of the ongoing debate over what constitutes a recession. However, recession fears aren’t limited to the U.S. The July German Business Climate Index, which measures economic expectations for the next six months, came in lower than expected and much lower than the previous month. The Materials Select Sector Index and the Real Estate Select Sector Index both rallied 2.8% to round out the top three sectors. Not only was the consumer discretionary sector the best sector last week, it’s on track to be the best for the month. Industrials are second at 26%, and financials are the worst at -22.1%.GETTING BEAT: S&P 500 companies are still reporting fewer and smaller earnings surprises than the last five-year average, according to FactSet.'"
      ]
     },
     "execution_count": 11,
     "metadata": {},
     "output_type": "execute_result"
    }
   ],
   "source": [
    "df.iloc[0]['summary_sbert']"
   ]
  },
  {
   "cell_type": "code",
   "execution_count": 12,
   "metadata": {},
   "outputs": [],
   "source": [
    "m3 = SBertSummarizer('paraphrase-MiniLM-L6-v2')"
   ]
  },
  {
   "cell_type": "code",
   "execution_count": 13,
   "metadata": {},
   "outputs": [],
   "source": [
    "df[\"summary_sbert_paraphrase\"] = df[\"article\"].apply(\n",
    "    lambda x: \"\".join(m3(x, min_length=100, max_length=510))\n",
    ")"
   ]
  },
  {
   "cell_type": "code",
   "execution_count": 14,
   "metadata": {},
   "outputs": [
    {
     "data": {
      "text/plain": [
       "'(Monday Market Open) Investors appear optimistic to start the new week as equity index futures headed higher ahead of the opening bell. Historically, two consecutive quarters of negative GDP growth have defined a recession, but some, including the White House, are arguing this time it’s different because of the strength of the U.S. jobs market. The Materials Select Sector Index and the Real Estate Select Sector Index both rallied 2.8% to round out the top three sectors. Investors appeared to ignore stocks in the defensive sectors as health care, utilities, and consumer staples ended the week near even. Not only was the consumer discretionary sector the best sector last week, it’s on track to be the best for the month. However, the consumer discretionary index is gaining in relative strength (green) against the S&P 500, which could be a bullish sign for the sector. So far, 106 of the S&P 500’s companies have reported earnings with 75.5% beating analysts’ estimates, which is above the long-term average of 66.1% but lower than the previous four-quarter average of 80.6%.The energy sector has the highest earnings growth rate at a whopping 259.6% year over year.'"
      ]
     },
     "execution_count": 14,
     "metadata": {},
     "output_type": "execute_result"
    }
   ],
   "source": [
    "df.iloc[0]['summary_sbert_paraphrase']"
   ]
  },
  {
   "cell_type": "code",
   "execution_count": null,
   "metadata": {},
   "outputs": [],
   "source": []
  }
 ],
 "metadata": {
  "kernelspec": {
   "display_name": "Python 3 (ipykernel)",
   "language": "python",
   "name": "python3"
  },
  "language_info": {
   "codemirror_mode": {
    "name": "ipython",
    "version": 3
   },
   "file_extension": ".py",
   "mimetype": "text/x-python",
   "name": "python",
   "nbconvert_exporter": "python",
   "pygments_lexer": "ipython3",
   "version": "3.9.0"
  }
 },
 "nbformat": 4,
 "nbformat_minor": 4
}

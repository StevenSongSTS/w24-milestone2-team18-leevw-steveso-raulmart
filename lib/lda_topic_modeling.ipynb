{
 "cells": [
  {
   "cell_type": "code",
   "execution_count": 1,
   "metadata": {},
   "outputs": [
    {
     "name": "stderr",
     "output_type": "stream",
     "text": [
      "[nltk_data] Downloading package punkt to\n",
      "[nltk_data]     C:\\Users\\vince\\AppData\\Roaming\\nltk_data...\n",
      "[nltk_data]   Package punkt is already up-to-date!\n",
      "[nltk_data] Downloading package stopwords to\n",
      "[nltk_data]     C:\\Users\\vince\\AppData\\Roaming\\nltk_data...\n",
      "[nltk_data]   Package stopwords is already up-to-date!\n",
      "[nltk_data] Downloading package wordnet to\n",
      "[nltk_data]     C:\\Users\\vince\\AppData\\Roaming\\nltk_data...\n",
      "[nltk_data]   Package wordnet is already up-to-date!\n"
     ]
    }
   ],
   "source": [
    "import numpy as np\n",
    "from constants import SHARED_RANDOM_STATE\n",
    "from db_helper_functions import get_stock_news_from_db\n",
    "from sklearn.decomposition import LatentDirichletAllocation\n",
    "from sklearn.feature_extraction.text import CountVectorizer\n",
    "from text_cleaning_functions import clean_text\n",
    "import re"
   ]
  },
  {
   "cell_type": "code",
   "execution_count": 2,
   "metadata": {},
   "outputs": [],
   "source": [
    "df = get_stock_news_from_db(\"AAPL\")\n",
    "df = df[~df.article.isnull()]"
   ]
  },
  {
   "cell_type": "code",
   "execution_count": 3,
   "metadata": {},
   "outputs": [],
   "source": [
    "df[\"article\"] = df[\"article\"].apply(lambda x: clean_text(x))"
   ]
  },
  {
   "cell_type": "code",
   "execution_count": 4,
   "metadata": {},
   "outputs": [
    {
     "data": {
      "text/plain": [
       "array(['00', '00 flat', '001', ..., 'zymeworks', 'zymeworks zyme',\n",
       "       'zynga'], dtype=object)"
      ]
     },
     "execution_count": 4,
     "metadata": {},
     "output_type": "execute_result"
    }
   ],
   "source": [
    "tf = CountVectorizer(stop_words=\"english\", max_df=0.90, min_df=10, ngram_range=(1, 3))\n",
    "tf_mat = tf.fit_transform(df.article)\n",
    "tf_vocab = tf.get_feature_names_out()\n",
    "tf_vocab"
   ]
  },
  {
   "cell_type": "code",
   "execution_count": 5,
   "metadata": {},
   "outputs": [],
   "source": [
    "num_topics = 2\n",
    "num_top_words = 20"
   ]
  },
  {
   "cell_type": "code",
   "execution_count": 6,
   "metadata": {},
   "outputs": [
    {
     "data": {
      "text/plain": [
       "array([[9.91665511e-01, 8.33448893e-03],\n",
       "       [9.99446521e-01, 5.53479222e-04],\n",
       "       [9.99028558e-01, 9.71442242e-04],\n",
       "       ...,\n",
       "       [9.91911128e-01, 8.08887191e-03],\n",
       "       [9.96641695e-01, 3.35830464e-03],\n",
       "       [9.97050249e-01, 2.94975096e-03]])"
      ]
     },
     "execution_count": 6,
     "metadata": {},
     "output_type": "execute_result"
    }
   ],
   "source": [
    "lda = LatentDirichletAllocation(\n",
    "    n_components=num_topics,\n",
    "    max_iter=5,\n",
    "    random_state=SHARED_RANDOM_STATE,\n",
    ")\n",
    "\n",
    "lda.fit_transform(tf_mat)"
   ]
  },
  {
   "cell_type": "code",
   "execution_count": 7,
   "metadata": {},
   "outputs": [
    {
     "name": "stdout",
     "output_type": "stream",
     "text": [
      "TOPIC #1\n",
      "TOP WORDS: ['company' 'share' 'market' 'said' 'stock' 'earnings' 'year' 'report'\n",
      " 'revenue' 'billion' 'new' 'million' 'week' 'price' 'analyst' 'investor'\n",
      " 'reported' 'iphone' 'time' 'trading']\n",
      "TOPIC #2\n",
      "TOP WORDS: ['high' 'share' 'new' '52week' '52week high' 'stock' 'new 52week'\n",
      " 'new 52week high' 'hit' 'traded' 'morning' 'session' 'yearly'\n",
      " 'yearly high' 'change' 'friday' 'set' 'set new' 'monday' 'hit new']\n"
     ]
    }
   ],
   "source": [
    "for topic_idx, topic_scores in enumerate(lda.components_):\n",
    "    top_words = np.argsort(topic_scores)[::-1][:num_top_words]\n",
    "    print(f\"TOPIC #{topic_idx + 1}\")\n",
    "    print(f\"TOP WORDS: {tf_vocab[top_words]}\")"
   ]
  },
  {
   "cell_type": "code",
   "execution_count": null,
   "metadata": {},
   "outputs": [],
   "source": []
  }
 ],
 "metadata": {
  "kernelspec": {
   "display_name": "Python 3 (ipykernel)",
   "language": "python",
   "name": "python3"
  },
  "language_info": {
   "codemirror_mode": {
    "name": "ipython",
    "version": 3
   },
   "file_extension": ".py",
   "mimetype": "text/x-python",
   "name": "python",
   "nbconvert_exporter": "python",
   "pygments_lexer": "ipython3",
   "version": "3.9.0"
  }
 },
 "nbformat": 4,
 "nbformat_minor": 4
}

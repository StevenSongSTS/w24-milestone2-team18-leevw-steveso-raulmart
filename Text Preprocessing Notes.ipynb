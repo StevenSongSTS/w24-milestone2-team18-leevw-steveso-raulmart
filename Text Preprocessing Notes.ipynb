{
 "cells": [
  {
   "cell_type": "markdown",
   "metadata": {},
   "source": [
    "Unsupervised Workflow: Raw Text -> Preprocessing -> Sentiment Scoring\n",
    "\n",
    "Ex 1: finVADER scoring\\\n",
    "Disadvantages: finVADER uses a sentiment lexicon, which is not the best for complex text and understanding context\n",
    "\n",
    "Ex 2: AFINN scoring\\\n",
    "Disadvantages: Bag of words model, doesn't take context into account\n",
    "\n",
    "Ex 3: finBERT tone scoring\\\n",
    "Disadvantages: Too opinionated (do more research on this)\n",
    "\n",
    "Ex 4: sBERT summary\\\n",
    "Disadvantages: takes out way too much context\n",
    "\n",
    "Ex 5: LDA\\\n",
    "Disadvantages: Uses different embeddings than our sentiment scoring algorithm\n",
    "\n",
    "\n",
    "FOCUS ON THE LAST 2...\n",
    "\n",
    "Ex 6: Raw Text -> sliding window -> finBERT\\\n",
    "Advantages: Keeps the most context\\\n",
    "finBERT uses a deep-learning approach trained from large text datasets, so it is better at understanding context and complex sentiments. Because our articles are more formal, we will use finBERT for better results.\\\n",
    "Disadvantages: The window might cut off sentences related to each other and remove context\n",
    "\n",
    "Ex 7: Raw Text -> BERTopic -> finBERT\\\n",
    "Advantages: Topic modeling might narrow down the focus to the most relevant sentences, making it easy for finBERT\\\n",
    "finBERT uses a deep-learning approach trained from large text datasets, so it is better at understanding context and complex sentiments. Because our articles are more formal, we will use finBERT for better results.\\\n",
    "BERTopic has the same embedding as finBERT, which is essential for good sentiment scoring\\\n",
    "Disadvantages: Topic modeling might remove context from our data\n",
    "\n"
   ]
  },
  {
   "cell_type": "markdown",
   "metadata": {},
   "source": [
    "TO DO: Find if finBERT or finBERT tone is better, find out what window size to use, find out API for getting stock data (interactive broker, yfinance, etc.), find out what model to use for time series forecasting"
   ]
  },
  {
   "cell_type": "markdown",
   "metadata": {},
   "source": []
  }
 ],
 "metadata": {
  "language_info": {
   "name": "python"
  }
 },
 "nbformat": 4,
 "nbformat_minor": 2
}

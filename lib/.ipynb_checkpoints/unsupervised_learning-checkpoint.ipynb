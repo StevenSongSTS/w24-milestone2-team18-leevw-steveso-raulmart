{
 "cells": [
  {
   "cell_type": "code",
   "execution_count": 7,
   "id": "a3430dc1-a419-4252-94f8-a597083e6991",
   "metadata": {
    "tags": []
   },
   "outputs": [],
   "source": [
    "from db_helper_functions import get_stock_news_from_db\n",
    "import pandas as pd"
   ]
  },
  {
   "cell_type": "code",
   "execution_count": 8,
   "id": "2246672c-085d-43a2-93da-a83772cc08c0",
   "metadata": {
    "tags": []
   },
   "outputs": [],
   "source": [
    "df = get_stock_news_from_db(\"AAPL\")"
   ]
  },
  {
   "cell_type": "code",
   "execution_count": 9,
   "id": "5e1c6f1e-9d9d-43ff-b1ae-c0750f8084c7",
   "metadata": {
    "tags": []
   },
   "outputs": [],
   "source": [
    "df = df.sort_values(by='date')"
   ]
  },
  {
   "cell_type": "code",
   "execution_count": 10,
   "id": "b1a58e38-eea2-4291-b77c-bc68da121de0",
   "metadata": {
    "tags": []
   },
   "outputs": [],
   "source": [
    "## The block used to find the positive and negative new\n",
    "\n",
    "# df['date'] = pd.to_datetime(df['date'])\n",
    "\n",
    "# start_date = '2022-01-10'  # Use your start date here\n",
    "# end_date = '2022-02-01'    # Use your end date here\n",
    "\n",
    "# # Convert your date strings to datetime if they aren't already\n",
    "# start_date = pd.to_datetime(start_date)\n",
    "# end_date = pd.to_datetime(end_date)\n",
    "\n",
    "# # Filter the DataFrame\n",
    "# filtered_df = df[(df['date'] >= start_date) & (df['date'] <= end_date)]\n"
   ]
  },
  {
   "cell_type": "code",
   "execution_count": 11,
   "id": "e4926f8a-635f-46ae-80c6-80f3fd55c3fa",
   "metadata": {
    "tags": []
   },
   "outputs": [],
   "source": [
    "negative_article = df.iloc[1]"
   ]
  },
  {
   "cell_type": "code",
   "execution_count": 12,
   "id": "a9a1bd08-0bd8-4be5-b7f4-f3fc9ec6a5a9",
   "metadata": {
    "tags": []
   },
   "outputs": [
    {
     "data": {
      "text/plain": [
       "'Among news of poor performance in the Chinese economy, one of the most distressing signals for foreign retailers and manufacturers is Apple\\'s AAPL\\xa0announcement on Wednesday that the company had reduced revenue expectations due to poor iPhone sales in China. Revenue projections are estimated to be $4.3 billion short of the previous estimate of $89-$93 billion for 2018, according to Apple chief executive officer Tim Cook.Apple\\'s announcement caused its stock to fall seven percent Wednesday evening and 10 percent on Thursday. The Dow Jones Industrial Average fell 660 points as news of Apple\\'s sale slump permeated the market, particularly affecting stocks exposed to the Chinese market like Boeing & Co. BA, Deere & Co.\\xa0DE, Qualcomm, Inc. QCOM\\xa0and Tiffany & Co.\\xa0TIF. Apple itself has lost $300 billion in stock value since becoming the first company to reach a market capitalization of $1 trillion in October 2018. Cook attributes weak sales in China to decreased traffic in its more than 40 retail outlets in the country.China\\'s economic slowdown was sparked by a more conservative monetary policy enacted by the central government. President Xi Jinping began his second term in 2017 by signing off on tightening credit among Chinese banks to prevent rapid growth from triggering market volatility. This had the effect of driving down consumption and subsequently tax revenue. Beijing is not promising any stimulus packages to ward off the current economic challenges.China\\'s ongoing trade dispute with the United States is another pressing concern for Apple. U.S. President Donald Trump has publicly criticized Apple and other American companies for manufacturing goods in China instead of the United States. Many tech companies have expressed disagreement with the unpredictability of Trump\\'s methods in trade negotiation with China.\"Apple prices may increase because of the massive tariffs we may be imposing on China – but there is an easy solution where there would be ZERO tax, and indeed a tax incentive,\" tweeted President Trump in response to Apple\\'s criticism of a 25 percent tariff on Chinese goods that would impact Apple products manufactured in China. \"Make your products in the United States instead of China. Start building new plants now.\" Don\\'t miss it. Register today.However, Apple maintains that the U.S. lacks skilled workers and advanced facilities to produce iPhones affordably, suggesting the consumer price could jump between 20 to 35 percent if the supply chain was transferred from Asia to the U.S. Apple could avoid Section 301 of the Trade Act of 1974 by moving final assembly operations out of China to competing low-cost labor markets such as Taiwan, Vietnam, or Malaysia.Apple\\'s supply chain is structured to purchase components for products such as the iPhone from domestic and foreign partners. According to Reuters, the largest cost in manufacturing the iPhone X (roughly $110 of the $378 total cost) is purchasing the touch-screen module from Samsung SMSN, which is based in South Korea. Apple then sells components to its Taiwanese contractor Foxconn\\xa0for final assembly into finished products. Final assembly in China costs $8 and battery packs sourced in China cost $6.Over the past 40 years China has undergone a transformation from one of the world\\'s poorest and most isolated nations to a manufacturing and exporting leader, especially in the electronics sector. Apple manufactures the bulk of its iPhone products through Foxconn in the Chinese city of Shenzhen. Credit for China\\'s success in consumer electronics manufacturing is based on inexpensive labor and a workforce that is highly flexible to changes in production.As China became wealthier through industrialization and global trade, the country\\'s middle class grew to an estimated 400 hundred million people. China is now the world\\'s largest market for smartphones and contributes up to 20 percent of Apple\\'s total sales. iPhone sales worldwide account for over half of Apple\\'s revenue.Apple\\'s revenue derived from sales in China reached a peak of nearly $60 billion in 2015, placing the market ahead of Europe (at around $50 billion) and second behind the Americas (at over $90 billion). Since 2016, Apple sales in China have retreated to $52 billion while sales in Europe have increased to over $60 billion and sales in the Americas have rocketed past $100 billion.Beyond economic fatigue and trade disputes, another reason for Apple\\'s struggle in China is the rise of local competitors. Rival smartphone manufacturer Huawei grew 33 percent from the third quarter of 2017 to the third quarter of 2018 despite local economic trouble. Huawei\\'s focus on expanding beyond the domestic market increased sales by 60 percent in foreign markets while sales in China also rose by 13 percent. The second quarter of 2018 saw Huawei surpass Apple in Chinese market-share and overall sales for smartphone manufacturing.Apple has not announced plans to build factories in the United States, but it has committed to repatriating roughly $250 billion from its foreign holdings due to recent reductions in the corporate tax code. Last January, Apple announced a $350 billion investment in the U.S, 20,000 new domestic jobs, and the establishment of a new campus.While China\\'s economic slowdown has had a negative impact on U.S. retailers and manufacturers, the country will likely remain highly relevant in the global electronics industry.Want more content like this? Click here to SubscribePermalink'"
      ]
     },
     "execution_count": 12,
     "metadata": {},
     "output_type": "execute_result"
    }
   ],
   "source": [
    "negative_article['article']"
   ]
  },
  {
   "cell_type": "code",
   "execution_count": 13,
   "id": "fdbbf751-6e85-4fd1-83ef-19275295bd37",
   "metadata": {
    "tags": []
   },
   "outputs": [],
   "source": [
    "positive_article = df[df['id']==3253].iloc[0]\n"
   ]
  },
  {
   "cell_type": "code",
   "execution_count": 14,
   "id": "e66f8b0b-d7a5-4551-8c4d-70b6b005c117",
   "metadata": {
    "tags": []
   },
   "outputs": [
    {
     "data": {
      "text/plain": [
       "'Notwithstanding supply constraints, an analyst at Morgan Stanley is positive about Apple\\xa0Inc.\\'s AAPL December quarter performance.The Apple Analyst:  Morgan Stanley analyst Katy Huberty has an Overweight rating and a $200 price target for Apple shares.The Apple Thesis: Cupertino is likely to post upside to Street forecasts for the December quarter and guide to a relatively in-line March quarter, thanks to improving iPhone production into year-end and modest Services outperformance, Huberty said in a note. Since hitting a low on Oct. 4, Apple\\'s shares are up 19%, suggesting the December quarter upside is largely priced in, she added.The analyst models December quarter revenues of $122.3 billion, a 41.9% gross margin and $1.97 per share in earnings. Apple\\'s management will likely shed light on its active device and iPhone installed base, the analyst said.Among products, Apple may have shipped 83 million units of iPhones, 7.6 million units of Macs and 14.9 million units of iPads, Huberty said. The analyst estimates total product revenues of $103.1 billion, which is above the consensus estimate of $100.3 billion.Services revenue is likely to come in at $19.2 billion, also above the consensus estimate of $18.6 billion, Huberty said. The upside is due to stronger-than-expected App Store performance and Apple\\'s Licensing & Other segment, she added.Given the sustained presence of COVID-19, management is unlikely to offer a revenue guidance range for the March quarter and instead will likely provide commentary on segment growth trends, she noted.Related Link: Apple Becomes First Company To Top $3 Trillion Market Cap; Analyst Says Rally Has Further LegsApple shares have underperformed thus far in January after December\\'s outperformance, the analyst said. Apple is expected to release the iPhone SE3 in April/May this year, the iPhone 14 in Fall 2022 and a mixed reality headset in 2023, Huberty noted.Morgan Stanley said it would be a buyer\\xa0on any weakness post-earnings, as it views Apple as a more \"defensive/quality outperformer\" in challenging markets. The company\\'s 1.65 billion+ installed base with high loyalty/retention rates, underweight institutional positioning, along with strong capital returns and the tendency for it to outperform ahead of product cycles make the firm positive on Apple stock, Morgan Stanley noted.AAPL Price Action: Apple shares were down 2.10% to\\xa0$162.41 at market close Friday.'"
      ]
     },
     "execution_count": 14,
     "metadata": {},
     "output_type": "execute_result"
    }
   ],
   "source": [
    "positive_article['article']"
   ]
  },
  {
   "cell_type": "markdown",
   "id": "17f8f367-5b05-44e4-a195-a2be9b443170",
   "metadata": {
    "tags": []
   },
   "source": [
    "## Section 1: Data Cleaning"
   ]
  },
  {
   "cell_type": "markdown",
   "id": "8da19d75-833e-4333-bfa7-521685eeb195",
   "metadata": {},
   "source": [
    "### Spacy:"
   ]
  },
  {
   "cell_type": "code",
   "execution_count": 30,
   "id": "9b6427b1-8e00-4ff7-8d41-184bbb820dba",
   "metadata": {},
   "outputs": [
    {
     "data": {
      "text/plain": [
       "'rise early trading thursday'"
      ]
     },
     "execution_count": 30,
     "metadata": {},
     "output_type": "execute_result"
    }
   ],
   "source": [
    "import spacy\n",
    "from spacy.lang.en import English\n",
    "from spacy.lang.en.stop_words import STOP_WORDS\n",
    "\n",
    "example_text = \"Apple Inc. stock rose by 5% in early trading Thursday.\"\n",
    "    \n",
    "def clean(article:str) ->str:\n",
    "    cleaned_text = []\n",
    "    \n",
    "    # Load the spaCy model\n",
    "    nlp = spacy.load(\"en_core_web_sm\")\n",
    "    \n",
    "    # Add financial-specific stopwords\n",
    "    financial_stopwords = ['inc.', 'corp.', 'ltd.',  'company', 'market', 'stock']\n",
    "    for word in financial_stopwords:\n",
    "        STOP_WORDS.add(word)\n",
    "    \n",
    "    #doc = nlp(example_text)\n",
    "    doc = nlp(article)\n",
    "    \n",
    "    # Remove basic stop words, financial stop words, punctuation, number, person name and organization name\n",
    "    for token in doc:\n",
    "        if not token.is_stop and not token.is_punct and not token.like_num and not token.ent_type_ == \"PERSON\" and not token.ent_type_ == \"ORG\": \n",
    "            # Lemmatization, converting token to lowercase\n",
    "            cleaned_text.append(token.lemma_.lower())\n",
    "        \n",
    "    # OPTIONAL: We can use Entity Recognition to decide keep or discard certerain information\n",
    "    # for ent in doc.ents:\n",
    "    #     if ent.label_ in ['ORG', 'MONEY', 'PERCENT', 'DATE', 'FAC']:\n",
    "    #         cleaned_text.append(ent.text)\n",
    "            \n",
    "    # cleaned article\n",
    "    cleaned_text = \" \".join(cleaned_text)\n",
    "    \n",
    "    return cleaned_text \n",
    "\n",
    "clean(example_text)"
   ]
  },
  {
   "cell_type": "code",
   "execution_count": 31,
   "id": "513659be-d867-435d-ac7d-9b4f4061bb88",
   "metadata": {
    "tags": []
   },
   "outputs": [
    {
     "data": {
      "text/plain": [
       "'notwithstanding supply constraint analyst positive aapl december quarter performance   analyst overweight rating price target share cupertino likely post upside street forecast december quarter guide relatively line march quarter thank improve iphone production year end modest services outperformance say note hit low oct. share suggest december quarter upside largely price add analyst model december quarter revenue gross margin share earning management likely shed light active device iphone instal base analyst say product ship unit unit unit say analyst estimate total product revenue consensus estimate service revenue likely come consensus estimate say upside strong expect performance segment add give sustained presence management unlikely offer revenue guidance range march quarter instead likely provide commentary segment growth trend note related link apple cap say share underperform far january december outperformance analyst say expect release iphone se3 april year iphone fall mixed reality headset note say buyer \\xa0 weakness post earning view defensive quality outperformer challenge market billion+ instal base high loyalty retention rate underweight institutional positioning strong capital return tendency outperform ahead product cycle firm positive note aapl price action share \\xa0 close friday'"
      ]
     },
     "execution_count": 31,
     "metadata": {},
     "output_type": "execute_result"
    }
   ],
   "source": [
    "cleaned_positive_article = clean(positive_article['article'])\n",
    "cleaned_positive_article"
   ]
  },
  {
   "cell_type": "code",
   "execution_count": 32,
   "id": "7306a836-b5f0-4da0-b0fd-bed6234a7aea",
   "metadata": {
    "tags": []
   },
   "outputs": [
    {
     "data": {
      "text/plain": [
       "'news poor performance chinese economy distressing signal foreign retailer manufacturer aapl \\xa0 announcement wednesday reduce revenue expectation poor iphone sale china revenue projection estimate short previous estimate 89-$93 accord chief executive officer announcement cause fall percent wednesday evening percent thursday dow jones industrial average fall point news sale slump permeate particularly affect stock expose chinese like \\xa0 de qualcomm qcom \\xa0 \\xa0 lose value reach capitalization october attribute weak sale china decrease traffic retail outlet country china economic slowdown spark conservative monetary policy enact central government president begin term sign tighten credit chinese bank prevent rapid growth trigger volatility effect drive consumption subsequently tax revenue beijing promise stimulus package ward current economic challenge china ongoing trade dispute united states press concern u.s. president publicly criticize american company manufacture good china instead united states tech company express disagreement unpredictability method trade negotiation china \"apple price increase massive tariff impose china easy solution tax tax incentive tweet president response criticism percent tariff chinese good impact product manufacture china product united states instead china start build new plant miss register today maintain u.s. lack skilled worker advanced facility produce affordably suggest consumer price jump percent supply chain transfer asia avoid section trade act move final assembly operation china compete low cost labor market taiwan vietnam malaysia supply chain structure purchase component product domestic foreign partner accord large cost manufacture iphone x roughly total cost purchase touch screen module base south korea sell component taiwanese contractor foxconn \\xa0 final assembly finished product final assembly china cost battery pack source china cost 6.over past year china undergo transformation world poor isolated nation manufacturing export leader especially electronics sector manufacture bulk iphone product foxconn chinese city shenzhen credit china success consumer electronic manufacturing base inexpensive labor workforce highly flexible change production china wealthy industrialization global trade country middle class grow estimate people china world large smartphone contribute percent total sale iphone sale worldwide account half revenue revenue derive sale china reach peak nearly place ahead europe americas sale china retreat sale europe increase sale americas rocket past economic fatigue trade dispute reason struggle china rise local competitor rival smartphone manufacturer grow percent quarter quarter despite local economic trouble focus expand domestic increase sale percent foreign market sale china rise percent quarter see surpass chinese share overall sale smartphone manufacturing announce plan build factory united states commit repatriate roughly foreign holding recent reduction corporate tax code january announce investment u.s new domestic job establishment new campus china economic slowdown negative impact u.s. retailer manufacturer country likely remain highly relevant global electronic industry want content like click'"
      ]
     },
     "execution_count": 32,
     "metadata": {},
     "output_type": "execute_result"
    }
   ],
   "source": [
    "cleaned_negative_article = clean(negative_article['article'])\n",
    "cleaned_negative_article"
   ]
  },
  {
   "cell_type": "markdown",
   "id": "e765c31c-1525-46ec-8c42-2b9d9789ead8",
   "metadata": {
    "tags": []
   },
   "source": [
    "## Section 2: Get Sentiment Score by using Lexicon-Based Approach with cleaned text"
   ]
  },
  {
   "cell_type": "markdown",
   "id": "208d142b-ef9c-42b2-b326-6538674567dc",
   "metadata": {},
   "source": [
    "### FinVader:"
   ]
  },
  {
   "cell_type": "code",
   "execution_count": 48,
   "id": "cb7d10a3-cba7-4562-bb24-0c7b14141e03",
   "metadata": {
    "tags": []
   },
   "outputs": [
    {
     "data": {
      "text/plain": [
       "0.826"
      ]
     },
     "execution_count": 48,
     "metadata": {},
     "output_type": "execute_result"
    }
   ],
   "source": [
    "from finvader import finvader\n",
    "\n",
    "scores = finvader(cleaned_positive_article,\n",
    "                  use_sentibignomics = True,\n",
    "                  use_henry = True,\n",
    "                  indicator = 'compound')\n",
    "scores\n",
    "\n",
    "# TODO: explore finvader parameter and test positive new and negative news; understand the value range of the score"
   ]
  },
  {
   "cell_type": "markdown",
   "id": "77aa7e74-96ee-4724-ae05-df0f5e1732ec",
   "metadata": {},
   "source": [
    "### AFINN:"
   ]
  },
  {
   "cell_type": "markdown",
   "id": "3a8dbea4-e15e-4273-8175-5b549c3aa492",
   "metadata": {},
   "source": [
    "### SentiWordNet:"
   ]
  },
  {
   "cell_type": "markdown",
   "id": "29938e78-561a-4a69-b41d-372a975cdbd7",
   "metadata": {
    "tags": []
   },
   "source": [
    "## Section 3: Get Sentiment Score by using Lexicon-Based Approach with LDA "
   ]
  },
  {
   "cell_type": "markdown",
   "id": "d4002b8e-3282-4aa9-84ee-8d0b872ba4ac",
   "metadata": {},
   "source": [
    "### Use LDA raw word:"
   ]
  },
  {
   "cell_type": "markdown",
   "id": "b5aede07-b22b-4e73-b098-7ed7b6efdd3a",
   "metadata": {},
   "source": [
    "### Use LDA topic words:"
   ]
  }
 ],
 "metadata": {
  "kernelspec": {
   "display_name": "Python 3 (ipykernel)",
   "language": "python",
   "name": "python3"
  },
  "language_info": {
   "codemirror_mode": {
    "name": "ipython",
    "version": 3
   },
   "file_extension": ".py",
   "mimetype": "text/x-python",
   "name": "python",
   "nbconvert_exporter": "python",
   "pygments_lexer": "ipython3",
   "version": "3.9.0"
  }
 },
 "nbformat": 4,
 "nbformat_minor": 5
}

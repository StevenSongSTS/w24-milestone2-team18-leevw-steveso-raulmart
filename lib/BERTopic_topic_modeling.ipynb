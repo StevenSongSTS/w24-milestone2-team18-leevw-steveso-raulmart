{
 "cells": [
  {
   "cell_type": "code",
   "execution_count": 1,
   "metadata": {
    "tags": []
   },
   "outputs": [
    {
     "name": "stderr",
     "output_type": "stream",
     "text": [
      "[nltk_data] Downloading package punkt to\n",
      "[nltk_data]     C:\\Users\\Steven\\AppData\\Roaming\\nltk_data...\n",
      "[nltk_data]   Package punkt is already up-to-date!\n",
      "[nltk_data] Downloading package stopwords to\n",
      "[nltk_data]     C:\\Users\\Steven\\AppData\\Roaming\\nltk_data...\n",
      "[nltk_data]   Package stopwords is already up-to-date!\n",
      "[nltk_data] Downloading package wordnet to\n",
      "[nltk_data]     C:\\Users\\Steven\\AppData\\Roaming\\nltk_data...\n",
      "[nltk_data]   Package wordnet is already up-to-date!\n",
      "c:\\Users\\Steven\\AppData\\Local\\Programs\\Python\\Python39\\lib\\site-packages\\tqdm\\auto.py:21: TqdmWarning: IProgress not found. Please update jupyter and ipywidgets. See https://ipywidgets.readthedocs.io/en/stable/user_install.html\n",
      "  from .autonotebook import tqdm as notebook_tqdm\n"
     ]
    },
    {
     "name": "stdout",
     "output_type": "stream",
     "text": [
      "WARNING:tensorflow:From c:\\Users\\Steven\\AppData\\Local\\Programs\\Python\\Python39\\lib\\site-packages\\keras\\src\\losses.py:2976: The name tf.losses.sparse_softmax_cross_entropy is deprecated. Please use tf.compat.v1.losses.sparse_softmax_cross_entropy instead.\n",
      "\n"
     ]
    }
   ],
   "source": [
    "import numpy as np\n",
    "from constants import SHARED_RANDOM_STATE\n",
    "from db_helper_functions import get_stock_news_from_db\n",
    "from text_cleaning_functions import clean_text\n",
    "from bertopic import BERTopic\n",
    "from sklearn.feature_extraction.text import CountVectorizer\n",
    "from finbert_embedding.embedding import FinbertEmbedding\n",
    "from transformers import (\n",
    "    AutoModelForSequenceClassification,\n",
    "    AutoTokenizer,\n",
    ")\n",
    "import torch\n",
    "from nltk.tokenize import sent_tokenize"
   ]
  },
  {
   "cell_type": "code",
   "execution_count": 2,
   "metadata": {
    "tags": []
   },
   "outputs": [],
   "source": [
    "df = get_stock_news_from_db(\"AAPL\")\n",
    "df = df[~df.article.isnull()]"
   ]
  },
  {
   "cell_type": "code",
   "execution_count": 3,
   "metadata": {
    "tags": []
   },
   "outputs": [],
   "source": [
    "#df[\"article\"] = df[\"article\"].apply(lambda x: clean_text(x))\n",
    "df[\"article\"] = df[\"article\"].apply(\n",
    "        lambda x: x.replace(\"\\xa0\", \" \").replace(\"\\n\", \"\").replace(\"Loading...\", \"\")\n",
    "    )"
   ]
  },
  {
   "cell_type": "code",
   "execution_count": 4,
   "metadata": {
    "tags": []
   },
   "outputs": [],
   "source": [
    "tf_vectorizer = CountVectorizer(stop_words=\"english\", ngram_range=(1, 3))"
   ]
  },
  {
   "cell_type": "code",
   "execution_count": 5,
   "metadata": {
    "tags": []
   },
   "outputs": [],
   "source": [
    "# bert_topic_model = BERTopic(\n",
    "#     vectorizer_model=tf_vectorizer,\n",
    "#     language=\"english\",\n",
    "#     calculate_probabilities=True,\n",
    "#     nr_topics=20,  \n",
    "# )\n",
    "# topics, probs = bert_topic_model.fit_transform(list(df[\"article\"]))\n",
    "# freq = bert_topic_model.get_topic_info()\n",
    "# freq.head(20)"
   ]
  },
  {
   "cell_type": "markdown",
   "metadata": {},
   "source": [
    "# Calculate the semantic score of each topic and get the score of the document by using topic probability distribution"
   ]
  },
  {
   "cell_type": "markdown",
   "metadata": {},
   "source": [
    " - Assign each topic a sentiment score based on the representative documents.\n",
    " - Calcualte the score of each article by using the topics distribution."
   ]
  },
  {
   "cell_type": "code",
   "execution_count": 6,
   "metadata": {
    "tags": []
   },
   "outputs": [],
   "source": [
    "# for i in range(5):\n",
    "#     topic = topics[i]\n",
    "#     prob = probs[i]\n",
    "#     print(f\"The topic of the document is {topic}; The prob distribution is: {prob}\")"
   ]
  },
  {
   "cell_type": "markdown",
   "metadata": {},
   "source": [
    "#### One problem we can see with the above result is that some documents have a probability near 1 for certain topic and the rest of the probability for the rest of the topics are near 0.  In practice, documents may contain a mixture of topics. This will cause inaccurate results.\n",
    "#### Using the approximate_distribution() can solve the problem\n",
    "#### Reference: https://maartengr.github.io/BERTopic/getting_started/distribution/distribution.html#example"
   ]
  },
  {
   "cell_type": "code",
   "execution_count": 7,
   "metadata": {
    "tags": []
   },
   "outputs": [],
   "source": [
    "docs = list(df[\"article\"])\n",
    "\n",
    "model = BERTopic(\n",
    "    vectorizer_model=tf_vectorizer,\n",
    "    language=\"english\",\n",
    "    calculate_probabilities=True,\n",
    "    nr_topics=20,\n",
    ")\n",
    "\n",
    "topic_model = model.fit(docs)\n",
    "topic_distr, _ = topic_model.approximate_distribution(docs)"
   ]
  },
  {
   "cell_type": "code",
   "execution_count": 9,
   "metadata": {
    "tags": []
   },
   "outputs": [
    {
     "data": {
      "text/plain": [
       "array([0.18190981, 0.03373106, 0.0059593 , 0.09417619, 0.06263898,\n",
       "       0.16513067, 0.02391345, 0.16485909, 0.02450132, 0.11628619,\n",
       "       0.00949275, 0.        , 0.04088374, 0.02648213, 0.        ,\n",
       "       0.0262721 , 0.        , 0.02376322, 0.        ])"
      ]
     },
     "execution_count": 9,
     "metadata": {},
     "output_type": "execute_result"
    }
   ],
   "source": [
    "topic_distr[1]"
   ]
  },
  {
   "cell_type": "code",
   "execution_count": 10,
   "metadata": {
    "tags": []
   },
   "outputs": [
    {
     "data": {
      "application/vnd.plotly.v1+json": {
       "config": {
        "plotlyServerURL": "https://plot.ly"
       },
       "data": [
        {
         "marker": {
          "color": "#C8D2D7",
          "line": {
           "color": "#6E8484",
           "width": 1
          }
         },
         "orientation": "h",
         "type": "bar",
         "x": [
          0.1819098093116668,
          0.03373105943834384,
          0.09417619236348573,
          0.06263897554337959,
          0.16513067031788214,
          0.02391345367625562,
          0.16485908915428796,
          0.024501324250663,
          0.11628618644810874,
          0.04088374430497194,
          0.02648212660166694,
          0.02627209530943193,
          0.023763216454218285
         ],
         "y": [
          "<b>Topic 0</b>: apple_iphone_said_aapl_a...",
          "<b>Topic 1</b>: high_shares_52week_52wee...",
          "<b>Topic 3</b>: apple_billion_said_qualc...",
          "<b>Topic 4</b>: streaming_netflix_disney...",
          "<b>Topic 5</b>: tesla_ev_electric_apple_...",
          "<b>Topic 6</b>: facebook_meta_fb_apple_u...",
          "<b>Topic 7</b>: twitter_social_musk_medi...",
          "<b>Topic 8</b>: nft_cryptocurrency_coinb...",
          "<b>Topic 9</b>: watch_apple_apple watch_...",
          "<b>Topic 12</b>: russia_russian_tiktok_u...",
          "<b>Topic 13</b>: apple_satellite_iphone_...",
          "<b>Topic 15</b>: usbc_apple_charging_cha...",
          "<b>Topic 17</b>: share revenue_quarterly..."
         ]
        }
       ],
       "layout": {
        "height": 600,
        "hoverlabel": {
         "bgcolor": "white",
         "font": {
          "family": "Rockwell",
          "size": 16
         }
        },
        "template": {
         "data": {
          "bar": [
           {
            "error_x": {
             "color": "rgb(36,36,36)"
            },
            "error_y": {
             "color": "rgb(36,36,36)"
            },
            "marker": {
             "line": {
              "color": "white",
              "width": 0.5
             },
             "pattern": {
              "fillmode": "overlay",
              "size": 10,
              "solidity": 0.2
             }
            },
            "type": "bar"
           }
          ],
          "barpolar": [
           {
            "marker": {
             "line": {
              "color": "white",
              "width": 0.5
             },
             "pattern": {
              "fillmode": "overlay",
              "size": 10,
              "solidity": 0.2
             }
            },
            "type": "barpolar"
           }
          ],
          "carpet": [
           {
            "aaxis": {
             "endlinecolor": "rgb(36,36,36)",
             "gridcolor": "white",
             "linecolor": "white",
             "minorgridcolor": "white",
             "startlinecolor": "rgb(36,36,36)"
            },
            "baxis": {
             "endlinecolor": "rgb(36,36,36)",
             "gridcolor": "white",
             "linecolor": "white",
             "minorgridcolor": "white",
             "startlinecolor": "rgb(36,36,36)"
            },
            "type": "carpet"
           }
          ],
          "choropleth": [
           {
            "colorbar": {
             "outlinewidth": 1,
             "tickcolor": "rgb(36,36,36)",
             "ticks": "outside"
            },
            "type": "choropleth"
           }
          ],
          "contour": [
           {
            "colorbar": {
             "outlinewidth": 1,
             "tickcolor": "rgb(36,36,36)",
             "ticks": "outside"
            },
            "colorscale": [
             [
              0,
              "#440154"
             ],
             [
              0.1111111111111111,
              "#482878"
             ],
             [
              0.2222222222222222,
              "#3e4989"
             ],
             [
              0.3333333333333333,
              "#31688e"
             ],
             [
              0.4444444444444444,
              "#26828e"
             ],
             [
              0.5555555555555556,
              "#1f9e89"
             ],
             [
              0.6666666666666666,
              "#35b779"
             ],
             [
              0.7777777777777778,
              "#6ece58"
             ],
             [
              0.8888888888888888,
              "#b5de2b"
             ],
             [
              1,
              "#fde725"
             ]
            ],
            "type": "contour"
           }
          ],
          "contourcarpet": [
           {
            "colorbar": {
             "outlinewidth": 1,
             "tickcolor": "rgb(36,36,36)",
             "ticks": "outside"
            },
            "type": "contourcarpet"
           }
          ],
          "heatmap": [
           {
            "colorbar": {
             "outlinewidth": 1,
             "tickcolor": "rgb(36,36,36)",
             "ticks": "outside"
            },
            "colorscale": [
             [
              0,
              "#440154"
             ],
             [
              0.1111111111111111,
              "#482878"
             ],
             [
              0.2222222222222222,
              "#3e4989"
             ],
             [
              0.3333333333333333,
              "#31688e"
             ],
             [
              0.4444444444444444,
              "#26828e"
             ],
             [
              0.5555555555555556,
              "#1f9e89"
             ],
             [
              0.6666666666666666,
              "#35b779"
             ],
             [
              0.7777777777777778,
              "#6ece58"
             ],
             [
              0.8888888888888888,
              "#b5de2b"
             ],
             [
              1,
              "#fde725"
             ]
            ],
            "type": "heatmap"
           }
          ],
          "heatmapgl": [
           {
            "colorbar": {
             "outlinewidth": 1,
             "tickcolor": "rgb(36,36,36)",
             "ticks": "outside"
            },
            "colorscale": [
             [
              0,
              "#440154"
             ],
             [
              0.1111111111111111,
              "#482878"
             ],
             [
              0.2222222222222222,
              "#3e4989"
             ],
             [
              0.3333333333333333,
              "#31688e"
             ],
             [
              0.4444444444444444,
              "#26828e"
             ],
             [
              0.5555555555555556,
              "#1f9e89"
             ],
             [
              0.6666666666666666,
              "#35b779"
             ],
             [
              0.7777777777777778,
              "#6ece58"
             ],
             [
              0.8888888888888888,
              "#b5de2b"
             ],
             [
              1,
              "#fde725"
             ]
            ],
            "type": "heatmapgl"
           }
          ],
          "histogram": [
           {
            "marker": {
             "line": {
              "color": "white",
              "width": 0.6
             }
            },
            "type": "histogram"
           }
          ],
          "histogram2d": [
           {
            "colorbar": {
             "outlinewidth": 1,
             "tickcolor": "rgb(36,36,36)",
             "ticks": "outside"
            },
            "colorscale": [
             [
              0,
              "#440154"
             ],
             [
              0.1111111111111111,
              "#482878"
             ],
             [
              0.2222222222222222,
              "#3e4989"
             ],
             [
              0.3333333333333333,
              "#31688e"
             ],
             [
              0.4444444444444444,
              "#26828e"
             ],
             [
              0.5555555555555556,
              "#1f9e89"
             ],
             [
              0.6666666666666666,
              "#35b779"
             ],
             [
              0.7777777777777778,
              "#6ece58"
             ],
             [
              0.8888888888888888,
              "#b5de2b"
             ],
             [
              1,
              "#fde725"
             ]
            ],
            "type": "histogram2d"
           }
          ],
          "histogram2dcontour": [
           {
            "colorbar": {
             "outlinewidth": 1,
             "tickcolor": "rgb(36,36,36)",
             "ticks": "outside"
            },
            "colorscale": [
             [
              0,
              "#440154"
             ],
             [
              0.1111111111111111,
              "#482878"
             ],
             [
              0.2222222222222222,
              "#3e4989"
             ],
             [
              0.3333333333333333,
              "#31688e"
             ],
             [
              0.4444444444444444,
              "#26828e"
             ],
             [
              0.5555555555555556,
              "#1f9e89"
             ],
             [
              0.6666666666666666,
              "#35b779"
             ],
             [
              0.7777777777777778,
              "#6ece58"
             ],
             [
              0.8888888888888888,
              "#b5de2b"
             ],
             [
              1,
              "#fde725"
             ]
            ],
            "type": "histogram2dcontour"
           }
          ],
          "mesh3d": [
           {
            "colorbar": {
             "outlinewidth": 1,
             "tickcolor": "rgb(36,36,36)",
             "ticks": "outside"
            },
            "type": "mesh3d"
           }
          ],
          "parcoords": [
           {
            "line": {
             "colorbar": {
              "outlinewidth": 1,
              "tickcolor": "rgb(36,36,36)",
              "ticks": "outside"
             }
            },
            "type": "parcoords"
           }
          ],
          "pie": [
           {
            "automargin": true,
            "type": "pie"
           }
          ],
          "scatter": [
           {
            "fillpattern": {
             "fillmode": "overlay",
             "size": 10,
             "solidity": 0.2
            },
            "type": "scatter"
           }
          ],
          "scatter3d": [
           {
            "line": {
             "colorbar": {
              "outlinewidth": 1,
              "tickcolor": "rgb(36,36,36)",
              "ticks": "outside"
             }
            },
            "marker": {
             "colorbar": {
              "outlinewidth": 1,
              "tickcolor": "rgb(36,36,36)",
              "ticks": "outside"
             }
            },
            "type": "scatter3d"
           }
          ],
          "scattercarpet": [
           {
            "marker": {
             "colorbar": {
              "outlinewidth": 1,
              "tickcolor": "rgb(36,36,36)",
              "ticks": "outside"
             }
            },
            "type": "scattercarpet"
           }
          ],
          "scattergeo": [
           {
            "marker": {
             "colorbar": {
              "outlinewidth": 1,
              "tickcolor": "rgb(36,36,36)",
              "ticks": "outside"
             }
            },
            "type": "scattergeo"
           }
          ],
          "scattergl": [
           {
            "marker": {
             "colorbar": {
              "outlinewidth": 1,
              "tickcolor": "rgb(36,36,36)",
              "ticks": "outside"
             }
            },
            "type": "scattergl"
           }
          ],
          "scattermapbox": [
           {
            "marker": {
             "colorbar": {
              "outlinewidth": 1,
              "tickcolor": "rgb(36,36,36)",
              "ticks": "outside"
             }
            },
            "type": "scattermapbox"
           }
          ],
          "scatterpolar": [
           {
            "marker": {
             "colorbar": {
              "outlinewidth": 1,
              "tickcolor": "rgb(36,36,36)",
              "ticks": "outside"
             }
            },
            "type": "scatterpolar"
           }
          ],
          "scatterpolargl": [
           {
            "marker": {
             "colorbar": {
              "outlinewidth": 1,
              "tickcolor": "rgb(36,36,36)",
              "ticks": "outside"
             }
            },
            "type": "scatterpolargl"
           }
          ],
          "scatterternary": [
           {
            "marker": {
             "colorbar": {
              "outlinewidth": 1,
              "tickcolor": "rgb(36,36,36)",
              "ticks": "outside"
             }
            },
            "type": "scatterternary"
           }
          ],
          "surface": [
           {
            "colorbar": {
             "outlinewidth": 1,
             "tickcolor": "rgb(36,36,36)",
             "ticks": "outside"
            },
            "colorscale": [
             [
              0,
              "#440154"
             ],
             [
              0.1111111111111111,
              "#482878"
             ],
             [
              0.2222222222222222,
              "#3e4989"
             ],
             [
              0.3333333333333333,
              "#31688e"
             ],
             [
              0.4444444444444444,
              "#26828e"
             ],
             [
              0.5555555555555556,
              "#1f9e89"
             ],
             [
              0.6666666666666666,
              "#35b779"
             ],
             [
              0.7777777777777778,
              "#6ece58"
             ],
             [
              0.8888888888888888,
              "#b5de2b"
             ],
             [
              1,
              "#fde725"
             ]
            ],
            "type": "surface"
           }
          ],
          "table": [
           {
            "cells": {
             "fill": {
              "color": "rgb(237,237,237)"
             },
             "line": {
              "color": "white"
             }
            },
            "header": {
             "fill": {
              "color": "rgb(217,217,217)"
             },
             "line": {
              "color": "white"
             }
            },
            "type": "table"
           }
          ]
         },
         "layout": {
          "annotationdefaults": {
           "arrowhead": 0,
           "arrowwidth": 1
          },
          "autotypenumbers": "strict",
          "coloraxis": {
           "colorbar": {
            "outlinewidth": 1,
            "tickcolor": "rgb(36,36,36)",
            "ticks": "outside"
           }
          },
          "colorscale": {
           "diverging": [
            [
             0,
             "rgb(103,0,31)"
            ],
            [
             0.1,
             "rgb(178,24,43)"
            ],
            [
             0.2,
             "rgb(214,96,77)"
            ],
            [
             0.3,
             "rgb(244,165,130)"
            ],
            [
             0.4,
             "rgb(253,219,199)"
            ],
            [
             0.5,
             "rgb(247,247,247)"
            ],
            [
             0.6,
             "rgb(209,229,240)"
            ],
            [
             0.7,
             "rgb(146,197,222)"
            ],
            [
             0.8,
             "rgb(67,147,195)"
            ],
            [
             0.9,
             "rgb(33,102,172)"
            ],
            [
             1,
             "rgb(5,48,97)"
            ]
           ],
           "sequential": [
            [
             0,
             "#440154"
            ],
            [
             0.1111111111111111,
             "#482878"
            ],
            [
             0.2222222222222222,
             "#3e4989"
            ],
            [
             0.3333333333333333,
             "#31688e"
            ],
            [
             0.4444444444444444,
             "#26828e"
            ],
            [
             0.5555555555555556,
             "#1f9e89"
            ],
            [
             0.6666666666666666,
             "#35b779"
            ],
            [
             0.7777777777777778,
             "#6ece58"
            ],
            [
             0.8888888888888888,
             "#b5de2b"
            ],
            [
             1,
             "#fde725"
            ]
           ],
           "sequentialminus": [
            [
             0,
             "#440154"
            ],
            [
             0.1111111111111111,
             "#482878"
            ],
            [
             0.2222222222222222,
             "#3e4989"
            ],
            [
             0.3333333333333333,
             "#31688e"
            ],
            [
             0.4444444444444444,
             "#26828e"
            ],
            [
             0.5555555555555556,
             "#1f9e89"
            ],
            [
             0.6666666666666666,
             "#35b779"
            ],
            [
             0.7777777777777778,
             "#6ece58"
            ],
            [
             0.8888888888888888,
             "#b5de2b"
            ],
            [
             1,
             "#fde725"
            ]
           ]
          },
          "colorway": [
           "#1F77B4",
           "#FF7F0E",
           "#2CA02C",
           "#D62728",
           "#9467BD",
           "#8C564B",
           "#E377C2",
           "#7F7F7F",
           "#BCBD22",
           "#17BECF"
          ],
          "font": {
           "color": "rgb(36,36,36)"
          },
          "geo": {
           "bgcolor": "white",
           "lakecolor": "white",
           "landcolor": "white",
           "showlakes": true,
           "showland": true,
           "subunitcolor": "white"
          },
          "hoverlabel": {
           "align": "left"
          },
          "hovermode": "closest",
          "mapbox": {
           "style": "light"
          },
          "paper_bgcolor": "white",
          "plot_bgcolor": "white",
          "polar": {
           "angularaxis": {
            "gridcolor": "rgb(232,232,232)",
            "linecolor": "rgb(36,36,36)",
            "showgrid": false,
            "showline": true,
            "ticks": "outside"
           },
           "bgcolor": "white",
           "radialaxis": {
            "gridcolor": "rgb(232,232,232)",
            "linecolor": "rgb(36,36,36)",
            "showgrid": false,
            "showline": true,
            "ticks": "outside"
           }
          },
          "scene": {
           "xaxis": {
            "backgroundcolor": "white",
            "gridcolor": "rgb(232,232,232)",
            "gridwidth": 2,
            "linecolor": "rgb(36,36,36)",
            "showbackground": true,
            "showgrid": false,
            "showline": true,
            "ticks": "outside",
            "zeroline": false,
            "zerolinecolor": "rgb(36,36,36)"
           },
           "yaxis": {
            "backgroundcolor": "white",
            "gridcolor": "rgb(232,232,232)",
            "gridwidth": 2,
            "linecolor": "rgb(36,36,36)",
            "showbackground": true,
            "showgrid": false,
            "showline": true,
            "ticks": "outside",
            "zeroline": false,
            "zerolinecolor": "rgb(36,36,36)"
           },
           "zaxis": {
            "backgroundcolor": "white",
            "gridcolor": "rgb(232,232,232)",
            "gridwidth": 2,
            "linecolor": "rgb(36,36,36)",
            "showbackground": true,
            "showgrid": false,
            "showline": true,
            "ticks": "outside",
            "zeroline": false,
            "zerolinecolor": "rgb(36,36,36)"
           }
          },
          "shapedefaults": {
           "fillcolor": "black",
           "line": {
            "width": 0
           },
           "opacity": 0.3
          },
          "ternary": {
           "aaxis": {
            "gridcolor": "rgb(232,232,232)",
            "linecolor": "rgb(36,36,36)",
            "showgrid": false,
            "showline": true,
            "ticks": "outside"
           },
           "baxis": {
            "gridcolor": "rgb(232,232,232)",
            "linecolor": "rgb(36,36,36)",
            "showgrid": false,
            "showline": true,
            "ticks": "outside"
           },
           "bgcolor": "white",
           "caxis": {
            "gridcolor": "rgb(232,232,232)",
            "linecolor": "rgb(36,36,36)",
            "showgrid": false,
            "showline": true,
            "ticks": "outside"
           }
          },
          "title": {
           "x": 0.05
          },
          "xaxis": {
           "automargin": true,
           "gridcolor": "rgb(232,232,232)",
           "linecolor": "rgb(36,36,36)",
           "showgrid": false,
           "showline": true,
           "ticks": "outside",
           "title": {
            "standoff": 15
           },
           "zeroline": false,
           "zerolinecolor": "rgb(36,36,36)"
          },
          "yaxis": {
           "automargin": true,
           "gridcolor": "rgb(232,232,232)",
           "linecolor": "rgb(36,36,36)",
           "showgrid": false,
           "showline": true,
           "ticks": "outside",
           "title": {
            "standoff": 15
           },
           "zeroline": false,
           "zerolinecolor": "rgb(36,36,36)"
          }
         }
        },
        "title": {
         "font": {
          "color": "Black",
          "size": 22
         },
         "text": "<b>Topic Probability Distribution</b>",
         "x": 0.5,
         "xanchor": "center",
         "y": 0.95,
         "yanchor": "top"
        },
        "width": 800,
        "xaxis": {
         "title": {
          "text": "Probability"
         }
        }
       }
      }
     },
     "metadata": {},
     "output_type": "display_data"
    }
   ],
   "source": [
    "topic_model.visualize_distribution(topic_distr[1])"
   ]
  },
  {
   "cell_type": "code",
   "execution_count": 11,
   "metadata": {
    "tags": []
   },
   "outputs": [
    {
     "data": {
      "text/html": [
       "<div>\n",
       "<style scoped>\n",
       "    .dataframe tbody tr th:only-of-type {\n",
       "        vertical-align: middle;\n",
       "    }\n",
       "\n",
       "    .dataframe tbody tr th {\n",
       "        vertical-align: top;\n",
       "    }\n",
       "\n",
       "    .dataframe thead th {\n",
       "        text-align: right;\n",
       "    }\n",
       "</style>\n",
       "<table border=\"1\" class=\"dataframe\">\n",
       "  <thead>\n",
       "    <tr style=\"text-align: right;\">\n",
       "      <th></th>\n",
       "      <th>Topic</th>\n",
       "      <th>Count</th>\n",
       "      <th>Name</th>\n",
       "      <th>Representation</th>\n",
       "      <th>Representative_Docs</th>\n",
       "    </tr>\n",
       "  </thead>\n",
       "  <tbody>\n",
       "    <tr>\n",
       "      <th>0</th>\n",
       "      <td>-1</td>\n",
       "      <td>1495</td>\n",
       "      <td>-1_apple_market_said_company</td>\n",
       "      <td>[apple, market, said, company, aapl, earnings,...</td>\n",
       "      <td>[If there’s a single day that defines earnings...</td>\n",
       "    </tr>\n",
       "    <tr>\n",
       "      <th>1</th>\n",
       "      <td>0</td>\n",
       "      <td>943</td>\n",
       "      <td>0_apple_iphone_said_aapl</td>\n",
       "      <td>[apple, iphone, said, aapl, apples, analyst, a...</td>\n",
       "      <td>[Apple Inc. AAPL reported solid results for th...</td>\n",
       "    </tr>\n",
       "    <tr>\n",
       "      <th>2</th>\n",
       "      <td>1</td>\n",
       "      <td>842</td>\n",
       "      <td>1_high_shares_52week_52week high</td>\n",
       "      <td>[high, shares, 52week, 52week high, new 52week...</td>\n",
       "      <td>[Thursday's morning session saw 122 companies ...</td>\n",
       "    </tr>\n",
       "    <tr>\n",
       "      <th>3</th>\n",
       "      <td>2</td>\n",
       "      <td>502</td>\n",
       "      <td>2_index_market_fed_stocks</td>\n",
       "      <td>[index, market, fed, stocks, week, investors, ...</td>\n",
       "      <td>[We begin the week near record highs, and majo...</td>\n",
       "    </tr>\n",
       "    <tr>\n",
       "      <th>4</th>\n",
       "      <td>3</td>\n",
       "      <td>394</td>\n",
       "      <td>3_apple_billion_said_qualcomm</td>\n",
       "      <td>[apple, billion, said, qualcomm, company, prod...</td>\n",
       "      <td>[Semiconductor company Qualcomm Inc QCOM repor...</td>\n",
       "    </tr>\n",
       "    <tr>\n",
       "      <th>5</th>\n",
       "      <td>4</td>\n",
       "      <td>266</td>\n",
       "      <td>4_streaming_netflix_disney_apple</td>\n",
       "      <td>[streaming, netflix, disney, apple, million, t...</td>\n",
       "      <td>[In the parlance of old-time show business, Ne...</td>\n",
       "    </tr>\n",
       "    <tr>\n",
       "      <th>6</th>\n",
       "      <td>5</td>\n",
       "      <td>227</td>\n",
       "      <td>5_tesla_ev_electric_apple</td>\n",
       "      <td>[tesla, ev, electric, apple, car, company, veh...</td>\n",
       "      <td>[The electric vehicle market is expected to to...</td>\n",
       "    </tr>\n",
       "    <tr>\n",
       "      <th>7</th>\n",
       "      <td>6</td>\n",
       "      <td>143</td>\n",
       "      <td>6_facebook_meta_fb_apple</td>\n",
       "      <td>[facebook, meta, fb, apple, users, said, app, ...</td>\n",
       "      <td>[Facebook, Inc. FB shares were retreating Tues...</td>\n",
       "    </tr>\n",
       "    <tr>\n",
       "      <th>8</th>\n",
       "      <td>7</td>\n",
       "      <td>108</td>\n",
       "      <td>7_twitter_social_musk_media</td>\n",
       "      <td>[twitter, social, musk, media, said, trump, tr...</td>\n",
       "      <td>[A new social media app from former President ...</td>\n",
       "    </tr>\n",
       "    <tr>\n",
       "      <th>9</th>\n",
       "      <td>8</td>\n",
       "      <td>79</td>\n",
       "      <td>8_nft_cryptocurrency_coinbase_crypto</td>\n",
       "      <td>[nft, cryptocurrency, coinbase, crypto, bitcoi...</td>\n",
       "      <td>[Crypto exchange Coinbase Global Inc COIN anno...</td>\n",
       "    </tr>\n",
       "    <tr>\n",
       "      <th>10</th>\n",
       "      <td>9</td>\n",
       "      <td>74</td>\n",
       "      <td>9_watch_apple_apple watch_peloton</td>\n",
       "      <td>[watch, apple, apple watch, peloton, fitness, ...</td>\n",
       "      <td>[Apple Inc. AAPL on Tuesday highlighted new up...</td>\n",
       "    </tr>\n",
       "    <tr>\n",
       "      <th>11</th>\n",
       "      <td>10</td>\n",
       "      <td>57</td>\n",
       "      <td>10_film_movie_nominations_best</td>\n",
       "      <td>[film, movie, nominations, best, streaming, di...</td>\n",
       "      <td>[Apple Inc. AAPL came away from last week’s Ac...</td>\n",
       "    </tr>\n",
       "    <tr>\n",
       "      <th>12</th>\n",
       "      <td>11</td>\n",
       "      <td>55</td>\n",
       "      <td>11_cannabis_cbd_company_marijuana</td>\n",
       "      <td>[cannabis, cbd, company, marijuana, industry, ...</td>\n",
       "      <td>[For the first time ever, a congressional comm...</td>\n",
       "    </tr>\n",
       "    <tr>\n",
       "      <th>13</th>\n",
       "      <td>12</td>\n",
       "      <td>50</td>\n",
       "      <td>12_russia_russian_tiktok_ukraine</td>\n",
       "      <td>[russia, russian, tiktok, ukraine, said, app, ...</td>\n",
       "      <td>[With the Russian ruble sinking to fresh lows ...</td>\n",
       "    </tr>\n",
       "    <tr>\n",
       "      <th>14</th>\n",
       "      <td>13</td>\n",
       "      <td>40</td>\n",
       "      <td>13_apple_satellite_iphone_airtag</td>\n",
       "      <td>[apple, satellite, iphone, airtag, emergency, ...</td>\n",
       "      <td>[A feature in Apple Inc.’s AAPL iPhone 14 is c...</td>\n",
       "    </tr>\n",
       "    <tr>\n",
       "      <th>15</th>\n",
       "      <td>14</td>\n",
       "      <td>29</td>\n",
       "      <td>14_insider_congress_pelosi_sold</td>\n",
       "      <td>[insider, congress, pelosi, sold, shares, tran...</td>\n",
       "      <td>[The Dow Jones closed higher on Friday after t...</td>\n",
       "    </tr>\n",
       "    <tr>\n",
       "      <th>16</th>\n",
       "      <td>15</td>\n",
       "      <td>25</td>\n",
       "      <td>15_usbc_apple_charging_charger</td>\n",
       "      <td>[usbc, apple, charging, charger, port, eu, iph...</td>\n",
       "      <td>[Though Apple Inc. AAPL said that it will comp...</td>\n",
       "    </tr>\n",
       "    <tr>\n",
       "      <th>17</th>\n",
       "      <td>16</td>\n",
       "      <td>18</td>\n",
       "      <td>16_debt_debtratio_current debt_longterm debt</td>\n",
       "      <td>[debt, debtratio, current debt, longterm debt,...</td>\n",
       "      <td>[ Over the past three months, shares of Apple ...</td>\n",
       "    </tr>\n",
       "    <tr>\n",
       "      <th>18</th>\n",
       "      <td>17</td>\n",
       "      <td>15</td>\n",
       "      <td>17_share revenue_quarterly_report quarterly_qu...</td>\n",
       "      <td>[share revenue, quarterly, report quarterly, q...</td>\n",
       "      <td>[ Companies Reporting Before The Bell• Arcelor...</td>\n",
       "    </tr>\n",
       "    <tr>\n",
       "      <th>19</th>\n",
       "      <td>18</td>\n",
       "      <td>13</td>\n",
       "      <td>18_black friday_holiday_black_sales</td>\n",
       "      <td>[black friday, holiday, black, sales, retailer...</td>\n",
       "      <td>[Thanksgiving feasts might be on your mind as ...</td>\n",
       "    </tr>\n",
       "  </tbody>\n",
       "</table>\n",
       "</div>"
      ],
      "text/plain": [
       "    Topic  Count                                               Name  \\\n",
       "0      -1   1495                       -1_apple_market_said_company   \n",
       "1       0    943                           0_apple_iphone_said_aapl   \n",
       "2       1    842                   1_high_shares_52week_52week high   \n",
       "3       2    502                          2_index_market_fed_stocks   \n",
       "4       3    394                      3_apple_billion_said_qualcomm   \n",
       "5       4    266                   4_streaming_netflix_disney_apple   \n",
       "6       5    227                          5_tesla_ev_electric_apple   \n",
       "7       6    143                           6_facebook_meta_fb_apple   \n",
       "8       7    108                        7_twitter_social_musk_media   \n",
       "9       8     79               8_nft_cryptocurrency_coinbase_crypto   \n",
       "10      9     74                  9_watch_apple_apple watch_peloton   \n",
       "11     10     57                     10_film_movie_nominations_best   \n",
       "12     11     55                  11_cannabis_cbd_company_marijuana   \n",
       "13     12     50                   12_russia_russian_tiktok_ukraine   \n",
       "14     13     40                   13_apple_satellite_iphone_airtag   \n",
       "15     14     29                    14_insider_congress_pelosi_sold   \n",
       "16     15     25                     15_usbc_apple_charging_charger   \n",
       "17     16     18       16_debt_debtratio_current debt_longterm debt   \n",
       "18     17     15  17_share revenue_quarterly_report quarterly_qu...   \n",
       "19     18     13                18_black friday_holiday_black_sales   \n",
       "\n",
       "                                       Representation  \\\n",
       "0   [apple, market, said, company, aapl, earnings,...   \n",
       "1   [apple, iphone, said, aapl, apples, analyst, a...   \n",
       "2   [high, shares, 52week, 52week high, new 52week...   \n",
       "3   [index, market, fed, stocks, week, investors, ...   \n",
       "4   [apple, billion, said, qualcomm, company, prod...   \n",
       "5   [streaming, netflix, disney, apple, million, t...   \n",
       "6   [tesla, ev, electric, apple, car, company, veh...   \n",
       "7   [facebook, meta, fb, apple, users, said, app, ...   \n",
       "8   [twitter, social, musk, media, said, trump, tr...   \n",
       "9   [nft, cryptocurrency, coinbase, crypto, bitcoi...   \n",
       "10  [watch, apple, apple watch, peloton, fitness, ...   \n",
       "11  [film, movie, nominations, best, streaming, di...   \n",
       "12  [cannabis, cbd, company, marijuana, industry, ...   \n",
       "13  [russia, russian, tiktok, ukraine, said, app, ...   \n",
       "14  [apple, satellite, iphone, airtag, emergency, ...   \n",
       "15  [insider, congress, pelosi, sold, shares, tran...   \n",
       "16  [usbc, apple, charging, charger, port, eu, iph...   \n",
       "17  [debt, debtratio, current debt, longterm debt,...   \n",
       "18  [share revenue, quarterly, report quarterly, q...   \n",
       "19  [black friday, holiday, black, sales, retailer...   \n",
       "\n",
       "                                  Representative_Docs  \n",
       "0   [If there’s a single day that defines earnings...  \n",
       "1   [Apple Inc. AAPL reported solid results for th...  \n",
       "2   [Thursday's morning session saw 122 companies ...  \n",
       "3   [We begin the week near record highs, and majo...  \n",
       "4   [Semiconductor company Qualcomm Inc QCOM repor...  \n",
       "5   [In the parlance of old-time show business, Ne...  \n",
       "6   [The electric vehicle market is expected to to...  \n",
       "7   [Facebook, Inc. FB shares were retreating Tues...  \n",
       "8   [A new social media app from former President ...  \n",
       "9   [Crypto exchange Coinbase Global Inc COIN anno...  \n",
       "10  [Apple Inc. AAPL on Tuesday highlighted new up...  \n",
       "11  [Apple Inc. AAPL came away from last week’s Ac...  \n",
       "12  [For the first time ever, a congressional comm...  \n",
       "13  [With the Russian ruble sinking to fresh lows ...  \n",
       "14  [A feature in Apple Inc.’s AAPL iPhone 14 is c...  \n",
       "15  [The Dow Jones closed higher on Friday after t...  \n",
       "16  [Though Apple Inc. AAPL said that it will comp...  \n",
       "17  [ Over the past three months, shares of Apple ...  \n",
       "18  [ Companies Reporting Before The Bell• Arcelor...  \n",
       "19  [Thanksgiving feasts might be on your mind as ...  "
      ]
     },
     "execution_count": 11,
     "metadata": {},
     "output_type": "execute_result"
    }
   ],
   "source": [
    "topic_info_df = topic_model.get_topic_info()\n",
    "topic_info_df.head(20)"
   ]
  },
  {
   "cell_type": "code",
   "execution_count": 12,
   "metadata": {
    "tags": []
   },
   "outputs": [],
   "source": [
    "# finbert_tokenizer = AutoTokenizer.from_pretrained(\"ProsusAI/finbert\")\n",
    "# finbert_model = AutoModelForSequenceClassification.from_pretrained(\"ProsusAI/finbert\")\n",
    "\n",
    "# representative_docs = topic_info_df.loc[1][\"Representative_Docs\"]\n",
    "# representative_docs_sentences = [sent_tokenize(x) for x in representative_docs]\n",
    "# representative_docs_score= []\n",
    "\n",
    "# for sentence_arr in representative_docs_sentences:\n",
    "#     embedding = finbert_tokenizer(\n",
    "#             sentence_arr, padding=True, return_tensors=\"pt\", truncation=True\n",
    "#         )\n",
    "#     outputs = finbert_model(**embedding)\n",
    "#     predictions = torch.nn.functional.softmax(outputs.logits, dim=-1)\n",
    "\n",
    "#     score = np.round(np.mean(predictions.tolist(), axis=0), 4)\n",
    "#     representative_docs_score.append(list(score))\n",
    "    \n",
    "# representative_docs_score = np.array(representative_docs_score)\n",
    "# mean_value = np.mean(representative_docs_score, axis=0)\n"
   ]
  },
  {
   "cell_type": "markdown",
   "metadata": {},
   "source": [
    "## Step1: Get the semantic score for each topic"
   ]
  },
  {
   "cell_type": "code",
   "execution_count": 13,
   "metadata": {
    "tags": []
   },
   "outputs": [],
   "source": [
    "# Initialize Finbert topkenizer and model\n",
    "finbert_tokenizer = AutoTokenizer.from_pretrained(\"ProsusAI/finbert\")\n",
    "finbert_model = AutoModelForSequenceClassification.from_pretrained(\"ProsusAI/finbert\")\n",
    "\n",
    "# Get number of topics \n",
    "topic_num = len(topic_info_df) \n",
    "\n",
    "# Start with 1 because topic -1 are outliers\n",
    "for i in range(1,topic_num):\n",
    "\n",
    "    # Get representative documents\n",
    "    representative_docs = topic_info_df.loc[i][\"Representative_Docs\"]\n",
    "    \n",
    "    # Tokenize the articles into sentences\n",
    "    representative_docs_sentences = [sent_tokenize(x) for x in representative_docs]\n",
    "    \n",
    "    # Initiate empty array for the sentiment score of each representitive document\n",
    "    representative_docs_score= []\n",
    "    \n",
    "    # Traverse each document and calculate the score \n",
    "    for sentence_arr in representative_docs_sentences:\n",
    "        embedding = finbert_tokenizer(\n",
    "                sentence_arr, padding=True, return_tensors=\"pt\", truncation=True\n",
    "            )\n",
    "        outputs = finbert_model(**embedding)\n",
    "        predictions = torch.nn.functional.softmax(outputs.logits, dim=-1)\n",
    "    \n",
    "        score = np.round(np.mean(predictions.tolist(), axis=0), 4)\n",
    "        representative_docs_score.append(list(score))\n",
    "    \n",
    "    representative_docs_score = np.array(representative_docs_score)\n",
    "    mean_value_list = np.mean(representative_docs_score, axis=0)\n",
    "\n",
    "    # Add the semantic score to the topic dataframe\n",
    "    topic_info_df.loc[i,\"positive\"] = mean_value_list[0]\n",
    "    topic_info_df.loc[i,\"negative\"] = mean_value_list[1]\n",
    "    topic_info_df.loc[i,\"neutral\"] = mean_value_list[2]"
   ]
  },
  {
   "cell_type": "code",
   "execution_count": 14,
   "metadata": {
    "tags": []
   },
   "outputs": [
    {
     "data": {
      "text/html": [
       "<div>\n",
       "<style scoped>\n",
       "    .dataframe tbody tr th:only-of-type {\n",
       "        vertical-align: middle;\n",
       "    }\n",
       "\n",
       "    .dataframe tbody tr th {\n",
       "        vertical-align: top;\n",
       "    }\n",
       "\n",
       "    .dataframe thead th {\n",
       "        text-align: right;\n",
       "    }\n",
       "</style>\n",
       "<table border=\"1\" class=\"dataframe\">\n",
       "  <thead>\n",
       "    <tr style=\"text-align: right;\">\n",
       "      <th></th>\n",
       "      <th>Topic</th>\n",
       "      <th>Count</th>\n",
       "      <th>Name</th>\n",
       "      <th>Representation</th>\n",
       "      <th>Representative_Docs</th>\n",
       "      <th>positive</th>\n",
       "      <th>negative</th>\n",
       "      <th>neutral</th>\n",
       "    </tr>\n",
       "  </thead>\n",
       "  <tbody>\n",
       "    <tr>\n",
       "      <th>0</th>\n",
       "      <td>-1</td>\n",
       "      <td>1495</td>\n",
       "      <td>-1_apple_market_said_company</td>\n",
       "      <td>[apple, market, said, company, aapl, earnings,...</td>\n",
       "      <td>[If there’s a single day that defines earnings...</td>\n",
       "      <td>NaN</td>\n",
       "      <td>NaN</td>\n",
       "      <td>NaN</td>\n",
       "    </tr>\n",
       "    <tr>\n",
       "      <th>1</th>\n",
       "      <td>0</td>\n",
       "      <td>943</td>\n",
       "      <td>0_apple_iphone_said_aapl</td>\n",
       "      <td>[apple, iphone, said, aapl, apples, analyst, a...</td>\n",
       "      <td>[Apple Inc. AAPL reported solid results for th...</td>\n",
       "      <td>0.816300</td>\n",
       "      <td>0.094800</td>\n",
       "      <td>0.088900</td>\n",
       "    </tr>\n",
       "    <tr>\n",
       "      <th>2</th>\n",
       "      <td>1</td>\n",
       "      <td>842</td>\n",
       "      <td>1_high_shares_52week_52week high</td>\n",
       "      <td>[high, shares, 52week, 52week high, new 52week...</td>\n",
       "      <td>[Thursday's morning session saw 122 companies ...</td>\n",
       "      <td>0.764933</td>\n",
       "      <td>0.168100</td>\n",
       "      <td>0.066933</td>\n",
       "    </tr>\n",
       "    <tr>\n",
       "      <th>3</th>\n",
       "      <td>2</td>\n",
       "      <td>502</td>\n",
       "      <td>2_index_market_fed_stocks</td>\n",
       "      <td>[index, market, fed, stocks, week, investors, ...</td>\n",
       "      <td>[We begin the week near record highs, and majo...</td>\n",
       "      <td>0.314367</td>\n",
       "      <td>0.363167</td>\n",
       "      <td>0.322400</td>\n",
       "    </tr>\n",
       "    <tr>\n",
       "      <th>4</th>\n",
       "      <td>3</td>\n",
       "      <td>394</td>\n",
       "      <td>3_apple_billion_said_qualcomm</td>\n",
       "      <td>[apple, billion, said, qualcomm, company, prod...</td>\n",
       "      <td>[Semiconductor company Qualcomm Inc QCOM repor...</td>\n",
       "      <td>0.660433</td>\n",
       "      <td>0.141067</td>\n",
       "      <td>0.198500</td>\n",
       "    </tr>\n",
       "    <tr>\n",
       "      <th>5</th>\n",
       "      <td>4</td>\n",
       "      <td>266</td>\n",
       "      <td>4_streaming_netflix_disney_apple</td>\n",
       "      <td>[streaming, netflix, disney, apple, million, t...</td>\n",
       "      <td>[In the parlance of old-time show business, Ne...</td>\n",
       "      <td>0.281167</td>\n",
       "      <td>0.197967</td>\n",
       "      <td>0.520800</td>\n",
       "    </tr>\n",
       "    <tr>\n",
       "      <th>6</th>\n",
       "      <td>5</td>\n",
       "      <td>227</td>\n",
       "      <td>5_tesla_ev_electric_apple</td>\n",
       "      <td>[tesla, ev, electric, apple, car, company, veh...</td>\n",
       "      <td>[The electric vehicle market is expected to to...</td>\n",
       "      <td>0.209100</td>\n",
       "      <td>0.220767</td>\n",
       "      <td>0.570133</td>\n",
       "    </tr>\n",
       "    <tr>\n",
       "      <th>7</th>\n",
       "      <td>6</td>\n",
       "      <td>143</td>\n",
       "      <td>6_facebook_meta_fb_apple</td>\n",
       "      <td>[facebook, meta, fb, apple, users, said, app, ...</td>\n",
       "      <td>[Facebook, Inc. FB shares were retreating Tues...</td>\n",
       "      <td>0.314233</td>\n",
       "      <td>0.426533</td>\n",
       "      <td>0.259233</td>\n",
       "    </tr>\n",
       "    <tr>\n",
       "      <th>8</th>\n",
       "      <td>7</td>\n",
       "      <td>108</td>\n",
       "      <td>7_twitter_social_musk_media</td>\n",
       "      <td>[twitter, social, musk, media, said, trump, tr...</td>\n",
       "      <td>[A new social media app from former President ...</td>\n",
       "      <td>0.148633</td>\n",
       "      <td>0.381967</td>\n",
       "      <td>0.469400</td>\n",
       "    </tr>\n",
       "    <tr>\n",
       "      <th>9</th>\n",
       "      <td>8</td>\n",
       "      <td>79</td>\n",
       "      <td>8_nft_cryptocurrency_coinbase_crypto</td>\n",
       "      <td>[nft, cryptocurrency, coinbase, crypto, bitcoi...</td>\n",
       "      <td>[Crypto exchange Coinbase Global Inc COIN anno...</td>\n",
       "      <td>0.144167</td>\n",
       "      <td>0.035133</td>\n",
       "      <td>0.820700</td>\n",
       "    </tr>\n",
       "    <tr>\n",
       "      <th>10</th>\n",
       "      <td>9</td>\n",
       "      <td>74</td>\n",
       "      <td>9_watch_apple_apple watch_peloton</td>\n",
       "      <td>[watch, apple, apple watch, peloton, fitness, ...</td>\n",
       "      <td>[Apple Inc. AAPL on Tuesday highlighted new up...</td>\n",
       "      <td>0.323533</td>\n",
       "      <td>0.020867</td>\n",
       "      <td>0.655633</td>\n",
       "    </tr>\n",
       "    <tr>\n",
       "      <th>11</th>\n",
       "      <td>10</td>\n",
       "      <td>57</td>\n",
       "      <td>10_film_movie_nominations_best</td>\n",
       "      <td>[film, movie, nominations, best, streaming, di...</td>\n",
       "      <td>[Apple Inc. AAPL came away from last week’s Ac...</td>\n",
       "      <td>0.215667</td>\n",
       "      <td>0.238133</td>\n",
       "      <td>0.546233</td>\n",
       "    </tr>\n",
       "    <tr>\n",
       "      <th>12</th>\n",
       "      <td>11</td>\n",
       "      <td>55</td>\n",
       "      <td>11_cannabis_cbd_company_marijuana</td>\n",
       "      <td>[cannabis, cbd, company, marijuana, industry, ...</td>\n",
       "      <td>[For the first time ever, a congressional comm...</td>\n",
       "      <td>0.380867</td>\n",
       "      <td>0.142467</td>\n",
       "      <td>0.476700</td>\n",
       "    </tr>\n",
       "    <tr>\n",
       "      <th>13</th>\n",
       "      <td>12</td>\n",
       "      <td>50</td>\n",
       "      <td>12_russia_russian_tiktok_ukraine</td>\n",
       "      <td>[russia, russian, tiktok, ukraine, said, app, ...</td>\n",
       "      <td>[With the Russian ruble sinking to fresh lows ...</td>\n",
       "      <td>0.130167</td>\n",
       "      <td>0.728600</td>\n",
       "      <td>0.141267</td>\n",
       "    </tr>\n",
       "    <tr>\n",
       "      <th>14</th>\n",
       "      <td>13</td>\n",
       "      <td>40</td>\n",
       "      <td>13_apple_satellite_iphone_airtag</td>\n",
       "      <td>[apple, satellite, iphone, airtag, emergency, ...</td>\n",
       "      <td>[A feature in Apple Inc.’s AAPL iPhone 14 is c...</td>\n",
       "      <td>0.118267</td>\n",
       "      <td>0.251500</td>\n",
       "      <td>0.630267</td>\n",
       "    </tr>\n",
       "    <tr>\n",
       "      <th>15</th>\n",
       "      <td>14</td>\n",
       "      <td>29</td>\n",
       "      <td>14_insider_congress_pelosi_sold</td>\n",
       "      <td>[insider, congress, pelosi, sold, shares, tran...</td>\n",
       "      <td>[The Dow Jones closed higher on Friday after t...</td>\n",
       "      <td>0.099367</td>\n",
       "      <td>0.180067</td>\n",
       "      <td>0.720567</td>\n",
       "    </tr>\n",
       "    <tr>\n",
       "      <th>16</th>\n",
       "      <td>15</td>\n",
       "      <td>25</td>\n",
       "      <td>15_usbc_apple_charging_charger</td>\n",
       "      <td>[usbc, apple, charging, charger, port, eu, iph...</td>\n",
       "      <td>[Though Apple Inc. AAPL said that it will comp...</td>\n",
       "      <td>0.223833</td>\n",
       "      <td>0.382500</td>\n",
       "      <td>0.393667</td>\n",
       "    </tr>\n",
       "    <tr>\n",
       "      <th>17</th>\n",
       "      <td>16</td>\n",
       "      <td>18</td>\n",
       "      <td>16_debt_debtratio_current debt_longterm debt</td>\n",
       "      <td>[debt, debtratio, current debt, longterm debt,...</td>\n",
       "      <td>[ Over the past three months, shares of Apple ...</td>\n",
       "      <td>0.147600</td>\n",
       "      <td>0.144933</td>\n",
       "      <td>0.707467</td>\n",
       "    </tr>\n",
       "    <tr>\n",
       "      <th>18</th>\n",
       "      <td>17</td>\n",
       "      <td>15</td>\n",
       "      <td>17_share revenue_quarterly_report quarterly_qu...</td>\n",
       "      <td>[share revenue, quarterly, report quarterly, q...</td>\n",
       "      <td>[ Companies Reporting Before The Bell• Arcelor...</td>\n",
       "      <td>0.032100</td>\n",
       "      <td>0.394100</td>\n",
       "      <td>0.573800</td>\n",
       "    </tr>\n",
       "    <tr>\n",
       "      <th>19</th>\n",
       "      <td>18</td>\n",
       "      <td>13</td>\n",
       "      <td>18_black friday_holiday_black_sales</td>\n",
       "      <td>[black friday, holiday, black, sales, retailer...</td>\n",
       "      <td>[Thanksgiving feasts might be on your mind as ...</td>\n",
       "      <td>0.360867</td>\n",
       "      <td>0.242167</td>\n",
       "      <td>0.397000</td>\n",
       "    </tr>\n",
       "  </tbody>\n",
       "</table>\n",
       "</div>"
      ],
      "text/plain": [
       "    Topic  Count                                               Name  \\\n",
       "0      -1   1495                       -1_apple_market_said_company   \n",
       "1       0    943                           0_apple_iphone_said_aapl   \n",
       "2       1    842                   1_high_shares_52week_52week high   \n",
       "3       2    502                          2_index_market_fed_stocks   \n",
       "4       3    394                      3_apple_billion_said_qualcomm   \n",
       "5       4    266                   4_streaming_netflix_disney_apple   \n",
       "6       5    227                          5_tesla_ev_electric_apple   \n",
       "7       6    143                           6_facebook_meta_fb_apple   \n",
       "8       7    108                        7_twitter_social_musk_media   \n",
       "9       8     79               8_nft_cryptocurrency_coinbase_crypto   \n",
       "10      9     74                  9_watch_apple_apple watch_peloton   \n",
       "11     10     57                     10_film_movie_nominations_best   \n",
       "12     11     55                  11_cannabis_cbd_company_marijuana   \n",
       "13     12     50                   12_russia_russian_tiktok_ukraine   \n",
       "14     13     40                   13_apple_satellite_iphone_airtag   \n",
       "15     14     29                    14_insider_congress_pelosi_sold   \n",
       "16     15     25                     15_usbc_apple_charging_charger   \n",
       "17     16     18       16_debt_debtratio_current debt_longterm debt   \n",
       "18     17     15  17_share revenue_quarterly_report quarterly_qu...   \n",
       "19     18     13                18_black friday_holiday_black_sales   \n",
       "\n",
       "                                       Representation  \\\n",
       "0   [apple, market, said, company, aapl, earnings,...   \n",
       "1   [apple, iphone, said, aapl, apples, analyst, a...   \n",
       "2   [high, shares, 52week, 52week high, new 52week...   \n",
       "3   [index, market, fed, stocks, week, investors, ...   \n",
       "4   [apple, billion, said, qualcomm, company, prod...   \n",
       "5   [streaming, netflix, disney, apple, million, t...   \n",
       "6   [tesla, ev, electric, apple, car, company, veh...   \n",
       "7   [facebook, meta, fb, apple, users, said, app, ...   \n",
       "8   [twitter, social, musk, media, said, trump, tr...   \n",
       "9   [nft, cryptocurrency, coinbase, crypto, bitcoi...   \n",
       "10  [watch, apple, apple watch, peloton, fitness, ...   \n",
       "11  [film, movie, nominations, best, streaming, di...   \n",
       "12  [cannabis, cbd, company, marijuana, industry, ...   \n",
       "13  [russia, russian, tiktok, ukraine, said, app, ...   \n",
       "14  [apple, satellite, iphone, airtag, emergency, ...   \n",
       "15  [insider, congress, pelosi, sold, shares, tran...   \n",
       "16  [usbc, apple, charging, charger, port, eu, iph...   \n",
       "17  [debt, debtratio, current debt, longterm debt,...   \n",
       "18  [share revenue, quarterly, report quarterly, q...   \n",
       "19  [black friday, holiday, black, sales, retailer...   \n",
       "\n",
       "                                  Representative_Docs  positive  negative  \\\n",
       "0   [If there’s a single day that defines earnings...       NaN       NaN   \n",
       "1   [Apple Inc. AAPL reported solid results for th...  0.816300  0.094800   \n",
       "2   [Thursday's morning session saw 122 companies ...  0.764933  0.168100   \n",
       "3   [We begin the week near record highs, and majo...  0.314367  0.363167   \n",
       "4   [Semiconductor company Qualcomm Inc QCOM repor...  0.660433  0.141067   \n",
       "5   [In the parlance of old-time show business, Ne...  0.281167  0.197967   \n",
       "6   [The electric vehicle market is expected to to...  0.209100  0.220767   \n",
       "7   [Facebook, Inc. FB shares were retreating Tues...  0.314233  0.426533   \n",
       "8   [A new social media app from former President ...  0.148633  0.381967   \n",
       "9   [Crypto exchange Coinbase Global Inc COIN anno...  0.144167  0.035133   \n",
       "10  [Apple Inc. AAPL on Tuesday highlighted new up...  0.323533  0.020867   \n",
       "11  [Apple Inc. AAPL came away from last week’s Ac...  0.215667  0.238133   \n",
       "12  [For the first time ever, a congressional comm...  0.380867  0.142467   \n",
       "13  [With the Russian ruble sinking to fresh lows ...  0.130167  0.728600   \n",
       "14  [A feature in Apple Inc.’s AAPL iPhone 14 is c...  0.118267  0.251500   \n",
       "15  [The Dow Jones closed higher on Friday after t...  0.099367  0.180067   \n",
       "16  [Though Apple Inc. AAPL said that it will comp...  0.223833  0.382500   \n",
       "17  [ Over the past three months, shares of Apple ...  0.147600  0.144933   \n",
       "18  [ Companies Reporting Before The Bell• Arcelor...  0.032100  0.394100   \n",
       "19  [Thanksgiving feasts might be on your mind as ...  0.360867  0.242167   \n",
       "\n",
       "     neutral  \n",
       "0        NaN  \n",
       "1   0.088900  \n",
       "2   0.066933  \n",
       "3   0.322400  \n",
       "4   0.198500  \n",
       "5   0.520800  \n",
       "6   0.570133  \n",
       "7   0.259233  \n",
       "8   0.469400  \n",
       "9   0.820700  \n",
       "10  0.655633  \n",
       "11  0.546233  \n",
       "12  0.476700  \n",
       "13  0.141267  \n",
       "14  0.630267  \n",
       "15  0.720567  \n",
       "16  0.393667  \n",
       "17  0.707467  \n",
       "18  0.573800  \n",
       "19  0.397000  "
      ]
     },
     "execution_count": 14,
     "metadata": {},
     "output_type": "execute_result"
    }
   ],
   "source": [
    "topic_info_df"
   ]
  },
  {
   "cell_type": "code",
   "execution_count": 33,
   "metadata": {},
   "outputs": [
    {
     "data": {
      "text/plain": [
       "['Apple Inc. AAPL reported solid results for the fiscal third quarter, sending its shares to record territory. The stock was jumping 7% to $411.47 at the time of publication.The Apple AnalystsCredit Suisse analyst Matthew Cabral maintained a Neutral rating on Apple and increased the price target from $340 to $380.UBS analyst Timothy Arcuri maintained a Buy rating and lifted the price target from $400 to $425.Morgan Stanley analyst Katy Huberty named Apple as the firm\\'s top pick. The analyst maintained an Overweight rating and hiked the price target from $419 to $431.Needham analyst Laura Martin maintained a Buy rating and $450 price target,Raymond James analyst Chris Caso reiterated an Outperform rating and hiked the price target from $400 to $440.Wedbush analyst Daniel Ives maintained an Outperform rating and raised the price target from $450 to a Street-high $475.‘We Underestimated Apple\\'s Resiliency\\': Apple delivered very impressive June quarter results, with the upside, broad-based across product portfolio despite the COVID headwinds, Cabral said.Delving on the positives, the analyst said iPhone was a standout to the upside, thanks to strong uptake of the lower-priced iPhone SE priced at $399. Improved trajectory in May and June across all products, sharp acceleration in iPad and Mac, and strong Services gross margin expansion were also positives.\"We\\'ve clearly underestimated the resiliency of Apple and the relative importance of their wallet share for consumers amid a more challenging macro backdrop,\" Cabral wrote in the note.UBS Sees Strong iPhone Upgrade Cycle In 2021:  Post-COVID-19 recovery and economic stimuli helped Apple deliver a solid quarter, Arcuri said. Mac and iPad saw particular strength due to work-from-home and remote learning.Product gross margin was soft but margins of the Services business, which now accounted for about 40% of gross profit, remained strong.Apple\\'s confirmation of iPhone launch delay by a few weeks compared to typical September-end supports the narrative of strong upgrade cycle in 2021, the analyst said.See Also: Loup Ventures Revisits 2020 Tech Predictions: Apple As The FAANG Leader, Tesla Delivery Beats And MoreApple Is An Ecosystem, Not Just Product Cycle Story:  With ecosystem engagement rising, Apple grew revenue in every segment and geography, Huberty said. While iPhone and Wearables spend was impacted by retail store shutdowns, computing demand supported robust iPad and Mac growth and digital services growth accelerated.Heading into 2021, the analyst sees even more robust trends, as iPhone and Wearables growth rates re-accelerate.What Needham Liked The Most:  Apple\\'s four-for-one stock split, installed base of active devices reaching all-time highs, record June quarter Services revenues and paid subscriber growth to 500 million as of June 30 were the things Needham liked the most.Although Apple did not give any specific revenue or margin guidance, it expects strong iPhone unit sales to continue, driven by 0% financing and trade-ins, strong SE sales momentum and the continuing strength of iPhone 11, the analyst noted.\"We believe that the SE is growing AAPL\\'s installed base of unique users, while the 11 is raising APPL\\'s avg ARPU,\" Martin wrote in the note.Services revenues, which rose 15% year-over-year to $13.16 billion in the third quarter, are likely to grow Apple\\'s ecosystem in several ways.The 2-Year Upgrade Cycle A Catalyst:  Apple\\'s earnings report doesn\\'t significantly change Raymond James\\' view of the second half or the upcoming 5G iPhone ramp.\"And since we believe this to be the very beginning of a 2-year upgrade cycle we think that can remain a catalyst for estimates and the stock,\" Caso wrote in the note.Apple Will Be The First $2T Stock In 2021:  Given the 5G tailwinds and Services momentum, Apple will have the first $2 trillion valuation in 2021, Ives said. With demand snapping back in China, the stage is set for a massive pent up iPhone 12 cycle, heading into the Fall in the key China region as well as globally.\"From a demand perspective, we estimate that ~350 million of Apple\\'s 950 million iPhones worldwide are in this upgrade window which remains the linchpin to our longer-term bullish thesis and 5G super cycle for Cupertino over the next 12 to 18 months,\" he wrote.Apple On Track to $500 And Beyond: Apple\\'s numbers reveal a company that is best positioned among big tech to reaccelerate revenue growth over the next year and sustain that high growth for the following two years, Loup Ventures\\' Gene Munster said.Beyond the multi-year 5G cycle, Apple has dependable revenue tailwinds from avenues such as digital health, working and learning from home, services, and autonomy.Apple\\'s cash position and product roadmap put its shares on a path to reach $500 and well beyond in the years ahead, according to Munster.',\n",
       " 'Apple Inc AAPL reported Thursday strong quarterly results, buoyed by across-the-board strength.The Apple Analyst:  Morgan Stanley analyst Katy Huberty maintained an Overweight rating for Apple shares and increased the price target from $200 to $210.Needham analyst Laura Martin maintained a Buy rating and $170 price target.Raymond James analyst Chris Caso reiterated an Outperform rating and increased the price target from $185 to $190.Wedbush analyst Daniel Ives maintained an Outperform rating and $200 price target.KeyBanc Capital Markets analyst Brandon Nispel maintained an Overweight rating and a $191 price target.Apple Theses: Morgan Stanley Sees Apple\\'s iPhone Ecosystem A Clear Differentiator:  It was a clean December quarter beat for Apple, with revenue, gross margin and EPS, all exceeding consensus estimates, Morgan Stanley analyst Huberty said in a note. Mac and Services growth remained particularly strong, he added.This stronger-than-expected March quarter guidance highlights the strength and stickiness of Apple\\'s ecosystem of 1.1 billion iPhones is a clear differentiator in a challenging market environment, the analyst said.Cupertino\\'s robust innovation engine, Huberty said, supports a growing pipeline of new products and services, suggesting ample room to grow both hardware and services revenue per user.Needham\\'s 10 Takeaways From Q1: Needham analyst Martin listed the following as the firm\\'s 10 key takeaways from Apple\\'s first-quarter results:\\r- Apple\\'s installed base of active devices at an all-time high of 1.8 billion and paid subscribers at 785 million, suggesting 44% penetration\\r- Strong margin expansion\\r- China revenues up 21% year-over-year, showing no negative geopolitical impact\\r- Health options likely to represent a larger aspect of iPhones and wearables differentiation\\r- Apple TV ignoring audience segmentation that is preventing the company from making serious gains in streaming\\r- Supply constraints and chip shortages becoming less of a headwind in the March quarter\\r- Apple card and Apple pay, health alerts for wearables and innovative apps and services likely to be top growth areas\\r- All-time high revenues including both Products and Services\\r- Apple seeing opportunities in the metaverse\\r- Updates on the balance sheet, free cash flow and return of capitalRelated Link: Apple Becomes First Company To Top $3 Trillion Market Cap; Analyst Says Rally Has Further Legs Raymond James Dissects March Quarter Guidance: Apple guided to solid but decelerating year-over-year growth in the March quarter, against strong comps in the year-ago quarter due to late iPhone launch in 2020, Raymond James analyst Caso noted.The guidance implies 5% to 6% growth, above Raymond Jame\\'s estimates and well above the consensus, as some easing in supply constraints allow Apple to catch up on unfulfilled demand, the analyst said.\"Looking ahead, we think constraints over the last two years have likely tended to extend the 5G upgrade cycle, and means that iPhone can still manage to grow next year,\" the analyst said in the note.The growing installed base will continue to pay dividends for services growth, the analyst said. The next \"one more thing\" is likely to be VR, although the product may not arrive in 2022, he added.Wedbush Sees Quarterly Performance As ‘Stunner\\': Overall, with about $10 billion already pushed due to the supply chain in the quarter, this quarter is a \"stunner\" on iPhone/Services demand and Cupertino\\'s ability to navigate a supply chain shortage in almost Teflon-like fashion, Wedbush analyst Ives said.KeyBanc Recommends Buying Apple Shares: Mac and iPhone drove upside to Products revenue, and 785 million paid subscriptions drove Services growth and margin upside, KeyBanc analyst Nispel said. The active base of installed devices grew at a healthy 9% rate, he added.\"With the stock pullback and demand signs strong, we see the pullback as an opportunity to add to positions,\" the analyst said.Tigress Financial Sees Further Upside From Current Levels: The strong first-quarter performance was a function of innovation and strong customer demand, as Apple managed through supply chain issues, Tigress Financial analyst Ivan Feinseth said.Strong customer response to new products and services launches drove an all-time high for its installed base of active users, the analyst said. All products, except the iPad, experienced record demand, he added.Apple also announced several new service initiatives, including a new integrated payment platform for iPhones enabling small businesses to accept electronic payments without additional hardware, the analyst noted.\"I continue to believe further upside exists from current levels and continue to recommend purchase,\" the analyst said.Munster Sees Apple At $250 In Next 2 Years: Apple\\'s quarterly results come at a time when tech investors are on the edge, Loup Funds Managing Partner Gene Munster said. Against this backdrop, Apple shares may not get proper credit in the near term for the results but will be fairly rewarded over the long term, the analyst added.The company, Munster said, will keep making the best consumer tech in the world, and things will keep turning out this way.Over the next two years, the analyst believes Apple shares can reach $250. This is premised on the belief that a multi-year iPhone 5G upgrade cycle will lead the company to $7 per share in fiscal-year 2023 earnings, he added.The Street, however, is currently at $6.20, he noted.Additionally, investor anticipation of the new addressable markets over the next five years — including the metaverse and autonomy — will likely increase Apple\\'s valuation multiple to 35 times, Munster said.APPL Price Action: At last check, Apple shares were adding 4.72% to $166.73 Friday morning at publication.Related Link: Apple\\'s Q1 Results A \\'Major Statement Of iPhone/Services Demand\\': Analyst Photo by Laurenz Heymann on Unsplash',\n",
       " 'Apple Inc. AAPL shares have come under selling pressure after the company\\'s fourth-quarter revenues  missed expectations amid supply chain constraints.The Apple Analysts:  Morgan Stanley analyst Katy Huberty maintained an Overweight rating on Apple shares and reduced the price target from $166 to $164.Oppenheimer analyst Martin Yang reiterated an Outperform rating and raised the price target from $165 to $170.Wells Fargo Securities analyst Aaron Rakers maintained an Overweight rating and $165 price target.Raymond James analyst Chris Caso reiterated an Outperform rating and $185 price target.Needham analyst Laura Martin maintained a Buy rating and $170 price target.BofA Securities analyst Wamsi Mohan reiterated a Buy rating and $160 price target.What Morgan Stanley Learned From Apple\\'s Q4:  Taking into account the $1.5 billion worse-than-expected supply chain headwind, September quarter revenues would have been in line with the consensus estimate of $84.8 billion, Morgan Stanley analyst Huberty said.Additionally, Morgan Stanley\\'s December quarter revenue estimates, though down from its previous forecasts, are in-line with the consensus projections that were estimated ahead of the print, despite greater component shortages, the analyst said.\"Apple just wrapped up its most prolific year in recent history, growing revenue, operating income, and EPS 33% Y/Y, 64% Y/Y and 71% Y/Y, respectively, despite pandemic limitations,\" she said. The analyst said she sees reasons to be bullish heading into fiscal year 2022. The 2% reduction in Morgan Stanley\\'s revenue and EPS estimates, the analyst said, is a result of more transitory issues.Demand remains robust, and any dissipation of supply chain headwinds is likely to drive upside to estimates, the analyst said. As near-term regulatory and supply chain headwinds dissipate, investors will begin to refocus on what is likely to be a strong fundamental outlook, she added.Tigress Views Any Weakness As Buying Opportunity:  Supply chain issues weighed on what should have been strong results and a positive outlook into the holiday season, Tigress Financial\\'s Ivan Feinseth said. Apple, however, continues to highlight extremely robust demand for all of its key products, including its iPhone, the analyst noted. The company will eventually ramp up production to meet what will continue to be extremely strong demand, he added.Apple still saw strong fourth-quarter results with revenue increasing 29% year-over-year to $83.4 billion, which however, was slightly below the $84.7 billion consensus estimate, the analyst said.\"I continue to believe significant upside exists and view any weakness as a buying opportunity,\" Feinseth said.Related Link: Microsoft Surpasses Apple And Is Now The World\\'s Most Valuable Public Company Oppenheimer Is Bullish On Apple:  Apple\\'s fiscal-year fourth quarter broke historical records again, with Mac and Services at all-time highs, and other categories reaching a fourth-quarter high, Oppenheimer analyst Yang said.Apple\\'s active installed base and paid subscriber count both achieved all-time highs, the analyst said. Gross margin remained strong, up over 400 basis points, he added.\"While supply crunch remains a headwind for the next couple of quarters, we expect Apple will accelerate its share gains (primarily in handsets and notebook) due to its superior supply chain management and scale advantage,\" Yang said.Despite near-term supply challenges, Oppenheimer said it remains bullish on Apple. The firm sees the strong fundamental demand across product categories, chip supply constraints, and Apple\\'s superior supply chain management and scale providing the ideal setup for Apple hardware to gain share over its competitors in the next 12 months.Wells Fargo\\'s Key Takeaway From The Quarter:  Apple\\'s Services revenue of $18.277 billion came in about $650 million above consensus estimates, with subscribers up about 160 million year-over-year, Wells Fargo analyst Rakers said.Apple reported a $6-billion impact from silicon shortages and COVID-related disruptions, with impact centered on legacy nodes silicon shortages and manufacturing in Southeast Asia, the analyst said. The company expects the impact to increase on a dollar basis in the December quarter despite an improved overall position, he added.The company noted a robust demand environment for the  iPhone  and said channel inventory remains below its targeted range, the analyst noted.\"Our overall thesis remains intact underlined by stronger-than-expected Services growth and strong demand across the portfolio,\" Wells Fargo said.Fundamental iPhone Demand Remains Strong, RayJay Says:  Apple is still guiding to \"solid\" year-over-year growth in all product categories except iPad, RayJay analyst Caso said. This, the analyst said, is a strong outcome considering tough comps from last year\\'s late iPhone launch, he added.The analyst, therefore, maintained his above-consensus December quarter revenues estimates largely unchanged.The firm also raised its March quarter estimate, assuming Apple catches up on unfulfilled demand early next year.\"Net, our F22 revenue moves higher and remains well above the Street since we believe fundamental iPhone demand remains strong, and iPhone mix remains favorable,\" RayJay said.Needham\\'s Takeaways From Earnings Call:  Despite the revenue headwinds from chip shortages and supply chain issues expected to be higher than $6 billion in the December quarter, Apple expects healthy revenue growth, including growth in every product category, other than iPads and Macs, Needham analyst Martin said.Paid subscribers at the end of the September quarter stood at 745 million, up 45 million at the end of the June quarter, the analyst noted.Nearly every service, including music, video, advertising, Apple care, payments, etc, hit record revenues, Martin said. The App Store hit a September revenue record and services gross margin reached 70.5%, she added.Apple said its consumers love iOS 14.5 and that \"privacy is job 1,\" that privacy is an iOS user\\'s basic right to choose and other companies\\' business models aren\\'t its concern, the analyst said.Apple\\'s Risk/Reward In Balance? The results and guidance are a precursor to more inline results relative to consensus vs. the significant beats over the past several quarters, BofA analyst Mohan said.\"We remain Neutral on risk/reward balance, where negative revisions could create a headwind to the multiple,\" the analyst said.AAPL Price Action:  At last check, Apple shares were slipping 2.16% to $149.27.Related Link:  Analyst Says Apple\\'s Supply Chain That Crashed The iPhone Party Is \\'Transitory,\\' Views Sell-Off As \\'Golden Buying Opportunity\\' ']"
      ]
     },
     "execution_count": 33,
     "metadata": {},
     "output_type": "execute_result"
    }
   ],
   "source": [
    "topic_info_df.loc[1][\"Representative_Docs\"]"
   ]
  },
  {
   "cell_type": "markdown",
   "metadata": {},
   "source": [
    "## Calculate the semantic score for each articles"
   ]
  },
  {
   "cell_type": "code",
   "execution_count": 18,
   "metadata": {
    "tags": []
   },
   "outputs": [],
   "source": [
    "def calculate_article_score(top_distribution, score_array):\n",
    "    product = [a * b for a, b in zip(top_distribution, score_array)]\n",
    "    sum_of_products = sum(product)\n",
    "    \n",
    "    return sum_of_products"
   ]
  },
  {
   "cell_type": "code",
   "execution_count": 40,
   "metadata": {
    "tags": []
   },
   "outputs": [
    {
     "data": {
      "text/html": [
       "<div>\n",
       "<style scoped>\n",
       "    .dataframe tbody tr th:only-of-type {\n",
       "        vertical-align: middle;\n",
       "    }\n",
       "\n",
       "    .dataframe tbody tr th {\n",
       "        vertical-align: top;\n",
       "    }\n",
       "\n",
       "    .dataframe thead th {\n",
       "        text-align: right;\n",
       "    }\n",
       "</style>\n",
       "<table border=\"1\" class=\"dataframe\">\n",
       "  <thead>\n",
       "    <tr style=\"text-align: right;\">\n",
       "      <th></th>\n",
       "      <th>fk_stock_news_id</th>\n",
       "      <th>ticker</th>\n",
       "      <th>title</th>\n",
       "      <th>url</th>\n",
       "      <th>article</th>\n",
       "      <th>date</th>\n",
       "      <th>positive</th>\n",
       "      <th>negative</th>\n",
       "      <th>neutral</th>\n",
       "    </tr>\n",
       "  </thead>\n",
       "  <tbody>\n",
       "    <tr>\n",
       "      <th>4358</th>\n",
       "      <td>3086</td>\n",
       "      <td>AAPL</td>\n",
       "      <td>Homeland Security Warns Of Critical Flaw In Wi...</td>\n",
       "      <td>https://www.benzinga.com/news/21/12/24562511/h...</td>\n",
       "      <td>The Department of Homeland Security's (DHS) to...</td>\n",
       "      <td>2021-12-12</td>\n",
       "      <td>0.816300</td>\n",
       "      <td>0.094800</td>\n",
       "      <td>0.088900</td>\n",
       "    </tr>\n",
       "    <tr>\n",
       "      <th>2981</th>\n",
       "      <td>400</td>\n",
       "      <td>AAPL</td>\n",
       "      <td>Google Wants To Be Your Bank Account</td>\n",
       "      <td>https://www.benzinga.com/node/14796825</td>\n",
       "      <td>Google wants to expand its reach to consumers ...</td>\n",
       "      <td>2019-11-13</td>\n",
       "      <td>0.816300</td>\n",
       "      <td>0.094800</td>\n",
       "      <td>0.088900</td>\n",
       "    </tr>\n",
       "    <tr>\n",
       "      <th>3906</th>\n",
       "      <td>2417</td>\n",
       "      <td>AAPL</td>\n",
       "      <td>Why Are Baidu's Shares Trading Higher Today?</td>\n",
       "      <td>https://www.benzinga.com/news/21/08/22630905/w...</td>\n",
       "      <td>Baidu Inc's BIDU Xiaodu Technology closed Seri...</td>\n",
       "      <td>2021-08-24</td>\n",
       "      <td>0.806015</td>\n",
       "      <td>0.109477</td>\n",
       "      <td>0.084502</td>\n",
       "    </tr>\n",
       "    <tr>\n",
       "      <th>5371</th>\n",
       "      <td>5366</td>\n",
       "      <td>AAPL</td>\n",
       "      <td>Microsoft Nears Workers' Union Debut In US</td>\n",
       "      <td>https://www.benzinga.com/news/23/01/30269267/m...</td>\n",
       "      <td>A group of Microsoft Corp MSFT employees voted...</td>\n",
       "      <td>2023-01-04</td>\n",
       "      <td>0.799179</td>\n",
       "      <td>0.119232</td>\n",
       "      <td>0.081578</td>\n",
       "    </tr>\n",
       "    <tr>\n",
       "      <th>2154</th>\n",
       "      <td>4137</td>\n",
       "      <td>AAPL</td>\n",
       "      <td>Microsoft Azure Data Centers are Operating Wit...</td>\n",
       "      <td>https://www.benzinga.com/news/22/07/27935265/m...</td>\n",
       "      <td>Global Microsoft Corp MSFT Azure data centers ...</td>\n",
       "      <td>2022-07-01</td>\n",
       "      <td>0.798841</td>\n",
       "      <td>0.119713</td>\n",
       "      <td>0.081434</td>\n",
       "    </tr>\n",
       "  </tbody>\n",
       "</table>\n",
       "</div>"
      ],
      "text/plain": [
       "      fk_stock_news_id ticker  \\\n",
       "4358              3086   AAPL   \n",
       "2981               400   AAPL   \n",
       "3906              2417   AAPL   \n",
       "5371              5366   AAPL   \n",
       "2154              4137   AAPL   \n",
       "\n",
       "                                                  title  \\\n",
       "4358  Homeland Security Warns Of Critical Flaw In Wi...   \n",
       "2981               Google Wants To Be Your Bank Account   \n",
       "3906       Why Are Baidu's Shares Trading Higher Today?   \n",
       "5371         Microsoft Nears Workers' Union Debut In US   \n",
       "2154  Microsoft Azure Data Centers are Operating Wit...   \n",
       "\n",
       "                                                    url  \\\n",
       "4358  https://www.benzinga.com/news/21/12/24562511/h...   \n",
       "2981             https://www.benzinga.com/node/14796825   \n",
       "3906  https://www.benzinga.com/news/21/08/22630905/w...   \n",
       "5371  https://www.benzinga.com/news/23/01/30269267/m...   \n",
       "2154  https://www.benzinga.com/news/22/07/27935265/m...   \n",
       "\n",
       "                                                article        date  positive  \\\n",
       "4358  The Department of Homeland Security's (DHS) to...  2021-12-12  0.816300   \n",
       "2981  Google wants to expand its reach to consumers ...  2019-11-13  0.816300   \n",
       "3906  Baidu Inc's BIDU Xiaodu Technology closed Seri...  2021-08-24  0.806015   \n",
       "5371  A group of Microsoft Corp MSFT employees voted...  2023-01-04  0.799179   \n",
       "2154  Global Microsoft Corp MSFT Azure data centers ...  2022-07-01  0.798841   \n",
       "\n",
       "      negative   neutral  \n",
       "4358  0.094800  0.088900  \n",
       "2981  0.094800  0.088900  \n",
       "3906  0.109477  0.084502  \n",
       "5371  0.119232  0.081578  \n",
       "2154  0.119713  0.081434  "
      ]
     },
     "execution_count": 40,
     "metadata": {},
     "output_type": "execute_result"
    }
   ],
   "source": [
    "# Get the topic scores\n",
    "topics_positive_score = topic_info_df[\"positive\"][1:].tolist()\n",
    "topics_negative_score = topic_info_df[\"negative\"][1:].tolist()\n",
    "topics_neutral_score = topic_info_df[\"neutral\"][1:].tolist()\n",
    "\n",
    "article_score_array = []\n",
    "\n",
    "for article_topic_distribution in topic_distr:\n",
    "    article_positive = calculate_article_score(article_topic_distribution, topics_positive_score)\n",
    "    article_negative = calculate_article_score(article_topic_distribution, topics_negative_score)\n",
    "    article_neutral = calculate_article_score(article_topic_distribution, topics_neutral_score)\n",
    "\n",
    "    article_score_array.append([article_positive, article_negative,  article_neutral])\n",
    "\n",
    "df[[\"positive\", \"negative\", \"neutral\"]] = article_score_array\n",
    "sort_df = df.sort_values(by=\"positive\", ascending=False)\n",
    "sort_df.head()"
   ]
  },
  {
   "cell_type": "code",
   "execution_count": 39,
   "metadata": {},
   "outputs": [
    {
     "name": "stdout",
     "output_type": "stream",
     "text": [
      "Investors who placed their hard-earned cash into major U.S. indices have enjoyed respectable returns over the past five years. Despite a number of market corrections in recent years, the recent market downturn partially generated by the Russia-Ukraine war and the previous stock market crash of 2020, the SPDR S&P 500 ETF SPY, Invesco QQQ Trust Series 1 QQQ and SPDR Dow Jones Industrial Average ETF Trust DIA have returned 58.31%, 104.65% and 45.65%.As good as investors in the major U.S. indices have had it over the past five years, a number of the world’s most popular consumer discretionary, EV and tech stocks have provided even better returns. Bulls that took a chance on these names were rewarded with gains that outperformed much of the broader market.Winners Since July 2017: Here’s how much $100 in each of the following stocks bought back in summer 2017 would be worth today:Bitcoin BTC/USD: $655.70Ethereum ETH/USD: $744.73Apple Inc AAPL: $405.56Microsoft Corporation MSFT: $344.88Tesla Inc TSLA: $1,158.90Amazon.com, Inc. AMZN: $225.12NVIDIA Corporation NVDA: $402.26\n"
     ]
    }
   ],
   "source": [
    "print(sort_df.iloc[4][\"article\"])"
   ]
  },
  {
   "cell_type": "markdown",
   "metadata": {},
   "source": [
    "Investors who placed their hard-earned cash into major U.S. indices have enjoyed respectable returns over the past five years. Despite a number of market corrections in recent years, the recent market downturn partially generated by the Russia-Ukraine war and the previous stock market crash of 2020, the SPDR S&P 500 ETF SPY, Invesco QQQ Trust Series 1 QQQ and SPDR Dow Jones Industrial Average ETF Trust DIA have returned 58.31%, 104.65% and 45.65%.As good as investors in the major U.S. indices have had it over the past five years, a number of the world’s most popular consumer discretionary, EV and tech stocks have provided even better returns. Bulls that took a chance on these names were rewarded with gains that outperformed much of the broader market.Winners Since July 2017: Here’s how much $100 in each of the following stocks bought back in summer 2017 would be worth today:Bitcoin BTC/USD: $655.70Ethereum ETH/USD: $744.73Apple Inc AAPL: $405.56Microsoft Corporation MSFT: $344.88Tesla Inc TSLA: $1,158.90Amazon.com, Inc. AMZN: $225.12NVIDIA Corporation NVDA: $402.26\n"
   ]
  },
  {
   "cell_type": "code",
   "execution_count": 35,
   "metadata": {},
   "outputs": [],
   "source": [
    "## Save the DataFrame to csv file\n",
    "df = df.rename(columns={\"id\": \"fk_stock_news_id\"})\n",
    "df.to_csv('bertopic_sentiment_score.csv', index=False)"
   ]
  },
  {
   "cell_type": "code",
   "execution_count": null,
   "metadata": {
    "tags": []
   },
   "outputs": [],
   "source": [
    "#bert_topic_model.visualize_barchart()"
   ]
  },
  {
   "cell_type": "code",
   "execution_count": 8,
   "metadata": {
    "tags": []
   },
   "outputs": [],
   "source": [
    "#bert_topic_model.visualize_heatmap()"
   ]
  },
  {
   "cell_type": "code",
   "execution_count": 9,
   "metadata": {
    "tags": []
   },
   "outputs": [],
   "source": [
    "#bert_topic_model.visualize_topics()"
   ]
  },
  {
   "cell_type": "markdown",
   "metadata": {},
   "source": [
    "# Use Finbert Embedding"
   ]
  },
  {
   "cell_type": "code",
   "execution_count": 82,
   "metadata": {
    "tags": []
   },
   "outputs": [],
   "source": [
    "#finbert_embedding = FinbertEmbedding()"
   ]
  },
  {
   "cell_type": "code",
   "execution_count": 83,
   "metadata": {
    "tags": []
   },
   "outputs": [],
   "source": [
    "# bert_topic_model = BERTopic(\n",
    "#     embedding_model=finbert_embedding,\n",
    "#     language=\"english\",\n",
    "#     calculate_probabilities=True,\n",
    "#     nr_topics=10,\n",
    "# )\n",
    "# topics, probs = bert_topic_model.fit_transform(list(df[\"article\"]))\n",
    "# freq = bert_topic_model.get_topic_info()\n",
    "# freq.head(10)"
   ]
  },
  {
   "cell_type": "code",
   "execution_count": null,
   "metadata": {
    "tags": []
   },
   "outputs": [],
   "source": [
    "#bert_topic_model.visualize_barchart()"
   ]
  },
  {
   "cell_type": "code",
   "execution_count": null,
   "metadata": {
    "tags": []
   },
   "outputs": [],
   "source": [
    "#bert_topic_model.visualize_heatmap()"
   ]
  },
  {
   "cell_type": "code",
   "execution_count": null,
   "metadata": {
    "tags": []
   },
   "outputs": [],
   "source": [
    "#bert_topic_model.visualize_topics()"
   ]
  },
  {
   "cell_type": "code",
   "execution_count": null,
   "metadata": {},
   "outputs": [],
   "source": []
  }
 ],
 "metadata": {
  "kernelspec": {
   "display_name": "Python 3 (ipykernel)",
   "language": "python",
   "name": "python3"
  },
  "language_info": {
   "codemirror_mode": {
    "name": "ipython",
    "version": 3
   },
   "file_extension": ".py",
   "mimetype": "text/x-python",
   "name": "python",
   "nbconvert_exporter": "python",
   "pygments_lexer": "ipython3",
   "version": "3.9.0"
  }
 },
 "nbformat": 4,
 "nbformat_minor": 4
}

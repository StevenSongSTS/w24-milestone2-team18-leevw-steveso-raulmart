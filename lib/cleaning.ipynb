{
 "cells": [
  {
   "cell_type": "code",
   "execution_count": 53,
   "metadata": {},
   "outputs": [
    {
     "name": "stderr",
     "output_type": "stream",
     "text": [
      "[nltk_data] Downloading package punkt to\n",
      "[nltk_data]     C:\\Users\\vince\\AppData\\Roaming\\nltk_data...\n",
      "[nltk_data]   Package punkt is already up-to-date!\n",
      "[nltk_data] Downloading package stopwords to\n",
      "[nltk_data]     C:\\Users\\vince\\AppData\\Roaming\\nltk_data...\n",
      "[nltk_data]   Package stopwords is already up-to-date!\n",
      "[nltk_data] Downloading package wordnet to\n",
      "[nltk_data]     C:\\Users\\vince\\AppData\\Roaming\\nltk_data...\n",
      "[nltk_data]   Package wordnet is already up-to-date!\n"
     ]
    },
    {
     "data": {
      "text/plain": [
       "True"
      ]
     },
     "execution_count": 53,
     "metadata": {},
     "output_type": "execute_result"
    }
   ],
   "source": [
    "from db_helper_functions import get_stock_news_from_db\n",
    "\n",
    "from finvader import finvader\n",
    "import nltk\n",
    "from nltk.corpus import stopwords\n",
    "from nltk.stem import WordNetLemmatizer\n",
    "nltk.download('punkt')\n",
    "nltk.download('stopwords')\n",
    "nltk.download('wordnet')"
   ]
  },
  {
   "cell_type": "code",
   "execution_count": 44,
   "metadata": {},
   "outputs": [],
   "source": [
    "def clean_text(text):\n",
    "    tokens = nltk.word_tokenize(text.lower())   # lowercase text\n",
    "    stop_words = stopwords.words('english')   # remove stopwords\n",
    "    stop_words.extend([])   # TO DO: find a list of financial specific stopwords online\n",
    "\n",
    "    # tokenize and remove special characters like punctuation\n",
    "    tokens = [token for token in tokens if token not in stop_words]\n",
    "    tokens = [token for token in tokens if token.isalnum()]\n",
    "\n",
    "    # apply lemmatization\n",
    "    lemmatizer = WordNetLemmatizer()\n",
    "    tokens = [lemmatizer.lemmatize(token) for token in tokens]\n",
    "\n",
    "    cleaned_text = ' '.join(tokens)\n",
    "\n",
    "    return cleaned_text"
   ]
  },
  {
   "cell_type": "code",
   "execution_count": 46,
   "metadata": {},
   "outputs": [
    {
     "data": {
      "text/plain": [
       "'monday market open investor appear optimistic start new week equity index future headed higher ahead opening bell however full economic calendar week including federal open market committee interest rate decision market moversthis morning cme fedwatch tool calculating probability fed would raise overnight rate 75 basis point wednesday probability likely rise closer get announcement likely fall accompanying statement press conference federal reserve chair jerome powell move market rate gross domestic product gdp potential controversial well ongoing debate constitutes recession historically two consecutive quarter negative gdp growth defined recession including white house arguing time different strength job first quarter gdp currently federal reserve bank atlanta gdpnow tool projecting growth second quarter however unemployment rate therefore eye national bureau economic research nber get privilege determining whether recession whatever happens labeling gdp report help analyst investor see weakness recession fear limited july german business climate index measure economic expectation next six month came lower expected much lower previous month survey german manufacturer builder wholesaler retailer revealed many expecting recession germany german dax trading higher overnight despite packed earnings calendar release nxp semiconductor nxpi whirlpool whr f5 network ffiv big tech hitter reporting throughout week including microsoft msft alphabet googl meta meta apple aapl amazon amzn energy giant exxon mobil xom chevron cvx also report market minutesthe stock market ended positive week sour note p index spx nasdaq comp dow jones industrials dji respectively fell friday however index end week gain appeared dragged negative manufacturing news australia france germany japan reported preliminary manufacturing number suggested manufacturing country contracting news fed global economic slowdown narrative haunting stock internet stock took additional hit snap snap twitter twtr reported earnings miss snap biggest miss far causing plunge day however twitter able eke gain despite split reaction miss internet stock fell alphabet googl meta meta pinterest pin tumbled consumer discretionary sector week top performer week consumer discretionary select sector index rose 5 monday opening price industrials select sector index climbed shy material select sector index real estate select sector index rallied round top three appeared ignore stock defensive sector health care utility consumer staple ended week near consumer discretionary sector best sector last week track best month consumer discretionary index first july last friday close technology select sector index second place two index represented sector outpace p 500 time frame utility select sector index sector index red far month chart day consumer strength consumer discretionary select sector index underperformed p 500 last 12 month however consumer discretionary index gaining relative strength green p 500 could bullish sign sector data source ice p dow jones index chart source platform illustrative purpose past performance guarantee future result three thing watchskewed consumer discretionary select sector index closed near june high last week investor found taste growth stock amazon amzn tesla tsla two largest company index account approximately 42 performance amzn tsla skewing return index difficult say investor bullish consumer discretionary stock total amazon tesla investor would need break industry group within sector better determine update according refinitiv p 500 company q2 2022 earnings season track earnings growth year year however excluding energy growth fall far 106 p 500 company reported earnings beating analyst estimate average lower previous average energy sector highest earnings growth rate whopping year year industrials second 26 financials worst beat p 500 company still reporting fewer smaller earnings surprise last average according factset financials communication sector greatest number earnings miss utility health care reported highest number earnings beat energy industrials reported fewest however energy industrials also reporting high number earnings analyst calendar itemsjuly 26 new home sale earnings microsoft msft alphabet googl visa v ko mcdonald mcd united parcel service ups 3m mmmjuly 27 durable good order pending home sale fomc interest rate decision earnings meta meta qualcomm qcom rio tinto rio boeing ba automatic data processing adpjuly 28 gross domestic product gdp earnings apple aapl amazon amzn mastercard intel intc caterpillar catjuly 29 pce price index earnings exxon mobil xom procter gamble pg chevron cvxaug 1 ism manufacturing pmi earnings activision blizzard atvi simon property spg devon energy dvn aflac afltd commentary educational purpose member post contains sponsored advertising content content informational purpose intended investing sourced shutterstock'"
      ]
     },
     "execution_count": 46,
     "metadata": {},
     "output_type": "execute_result"
    }
   ],
   "source": [
    "# test clean_text function\n",
    "df = get_stock_news_from_db(\"AAPL\")\n",
    "cleaned_text = clean_text(df['article'].iloc[0])\n",
    "cleaned_text"
   ]
  },
  {
   "cell_type": "code",
   "execution_count": 55,
   "metadata": {},
   "outputs": [
    {
     "data": {
      "text/plain": [
       "0.9918"
      ]
     },
     "execution_count": 55,
     "metadata": {},
     "output_type": "execute_result"
    }
   ],
   "source": [
    "# test finvader using both the sentibignomics and henry financial lexicons. We will use finvader on topics when the LDA model is complete\n",
    "\n",
    "scores = finvader(cleaned_text,\n",
    "                  use_sentibignomics = True,\n",
    "                  use_henry = True,\n",
    "                  indicator = 'compound')\n",
    "scores"
   ]
  },
  {
   "cell_type": "code",
   "execution_count": null,
   "metadata": {},
   "outputs": [],
   "source": []
  }
 ],
 "metadata": {
  "kernelspec": {
   "display_name": "venv",
   "language": "python",
   "name": "python3"
  },
  "language_info": {
   "codemirror_mode": {
    "name": "ipython",
    "version": 3
   },
   "file_extension": ".py",
   "mimetype": "text/x-python",
   "name": "python",
   "nbconvert_exporter": "python",
   "pygments_lexer": "ipython3",
   "version": "3.12.1"
  }
 },
 "nbformat": 4,
 "nbformat_minor": 2
}

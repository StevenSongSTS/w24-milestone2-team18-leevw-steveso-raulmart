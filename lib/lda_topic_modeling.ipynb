{
 "cells": [
  {
   "cell_type": "code",
   "execution_count": 1,
   "metadata": {},
   "outputs": [
    {
     "name": "stderr",
     "output_type": "stream",
     "text": [
      "[nltk_data] Downloading package punkt to\n",
      "[nltk_data]     /Users/raulmartinez/nltk_data...\n",
      "[nltk_data]   Package punkt is already up-to-date!\n",
      "[nltk_data] Downloading package stopwords to\n",
      "[nltk_data]     /Users/raulmartinez/nltk_data...\n",
      "[nltk_data]   Package stopwords is already up-to-date!\n",
      "[nltk_data] Downloading package wordnet to\n",
      "[nltk_data]     /Users/raulmartinez/nltk_data...\n",
      "[nltk_data]   Package wordnet is already up-to-date!\n"
     ]
    }
   ],
   "source": [
    "import numpy as np\n",
    "from constants import SHARED_RANDOM_STATE\n",
    "from db_helper_functions import get_stock_news_from_db\n",
    "from sklearn.decomposition import LatentDirichletAllocation\n",
    "from sklearn.feature_extraction.text import CountVectorizer\n",
    "from text_cleaning_functions import clean_text"
   ]
  },
  {
   "cell_type": "code",
   "execution_count": 2,
   "metadata": {},
   "outputs": [],
   "source": [
    "df = get_stock_news_from_db(\"AAPL\")\n",
    "df = df[~df.article.isnull()]"
   ]
  },
  {
   "cell_type": "code",
   "execution_count": 3,
   "metadata": {},
   "outputs": [],
   "source": [
    "df[\"article\"] = df[\"article\"].apply(lambda x: clean_text(x))"
   ]
  },
  {
   "cell_type": "code",
   "execution_count": 4,
   "metadata": {},
   "outputs": [
    {
     "data": {
      "text/plain": [
       "array(['10', '10 15', '10 20', ..., 'zymeworks', 'zymeworks zyme',\n",
       "       'zynga'], dtype=object)"
      ]
     },
     "execution_count": 4,
     "metadata": {},
     "output_type": "execute_result"
    }
   ],
   "source": [
    "tf = CountVectorizer(stop_words=\"english\", max_df=0.90, min_df=10, ngram_range=(1, 3))\n",
    "tf_mat = tf.fit_transform(df.article)\n",
    "tf_vocab = tf.get_feature_names_out()\n",
    "tf_vocab"
   ]
  },
  {
   "cell_type": "code",
   "execution_count": 5,
   "metadata": {},
   "outputs": [],
   "source": [
    "num_topics = 2\n",
    "num_top_words = 20"
   ]
  },
  {
   "cell_type": "code",
   "execution_count": 6,
   "metadata": {},
   "outputs": [
    {
     "data": {
      "text/plain": [
       "array([[9.99356477e-01, 6.43522507e-04],\n",
       "       [9.99455505e-01, 5.44495409e-04],\n",
       "       [9.99317820e-01, 6.82179931e-04],\n",
       "       ...,\n",
       "       [9.93224494e-01, 6.77550650e-03],\n",
       "       [9.96528823e-01, 3.47117683e-03],\n",
       "       [9.96834065e-01, 3.16593542e-03]])"
      ]
     },
     "execution_count": 6,
     "metadata": {},
     "output_type": "execute_result"
    }
   ],
   "source": [
    "lda = LatentDirichletAllocation(\n",
    "    n_components=num_topics,\n",
    "    max_iter=5,\n",
    "    random_state=SHARED_RANDOM_STATE,\n",
    ")\n",
    "\n",
    "lda.fit_transform(tf_mat)"
   ]
  },
  {
   "cell_type": "code",
   "execution_count": 7,
   "metadata": {},
   "outputs": [
    {
     "name": "stdout",
     "output_type": "stream",
     "text": [
      "TOPIC #1\n",
      "TOP WORDS: ['company' 'market' 'said' 'stock' 'share' 'year' 'new' 'price' 'week'\n",
      " 'earnings' 'analyst' 'investor' 'index' 'billion' 'report' 'million'\n",
      " 'reported' 'time' 'iphone' 'higher']\n",
      "TOPIC #2\n",
      "TOP WORDS: ['share' 'high' 'new' 'stock' 'new high' 'hit' 'morning' 'traded'\n",
      " 'session' 'yearly' 'yearly high' 'change' 'friday' 'quarterly' 'earnings'\n",
      " 'revenue' 'share revenue' 'report' 'set' 'monday']\n"
     ]
    }
   ],
   "source": [
    "for topic_idx, topic_scores in enumerate(lda.components_):\n",
    "    top_words = np.argsort(topic_scores)[::-1][:num_top_words]\n",
    "    print(f\"TOPIC #{topic_idx + 1}\")\n",
    "    print(f\"TOP WORDS: {tf_vocab[top_words]}\")"
   ]
  }
 ],
 "metadata": {
  "kernelspec": {
   "display_name": ".venv",
   "language": "python",
   "name": "python3"
  },
  "language_info": {
   "codemirror_mode": {
    "name": "ipython",
    "version": 3
   },
   "file_extension": ".py",
   "mimetype": "text/x-python",
   "name": "python",
   "nbconvert_exporter": "python",
   "pygments_lexer": "ipython3",
   "version": "3.11.6"
  }
 },
 "nbformat": 4,
 "nbformat_minor": 2
}

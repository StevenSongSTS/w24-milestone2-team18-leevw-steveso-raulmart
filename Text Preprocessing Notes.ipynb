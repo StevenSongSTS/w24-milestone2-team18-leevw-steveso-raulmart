{
 "cells": [
  {
   "cell_type": "markdown",
   "metadata": {},
   "source": [
    "vader DOES remove punctuation and symbols, convert text to lowercase, normalize whitespace, and consider contractions and negations\\\n",
    "vader DOES automatically use lexicon-based sentiment analysis to assign sentiment scores to individual words\\\n",
    "vader DOES NOT lemmatize or stem words, which should not be a problem when considering news articles that do not use informal language\\\n",
    "vader DOES NOT normalize financial specific terms like abbreviations or acronyms\\\n",
    "vader DOES NOT analyze n-grams, which could miss sentiment in multi-word phrases\n",
    "\n",
    "Potential Solutions:\\\n",
    "finVADER, which is a fork of VADER with lexicons specifically designed for financial applications\\\n",
    "Notes: Easy to use, but maybe not as accurate\\\n",
    "Flair Financial Sentiment, which is a model built for financial sentiment analysis, and can perform will in diverse financial contexts\\\n",
    "Notes: Custom model can be trained on our data, which could lead to higher accuracy\n"
   ]
  },
  {
   "cell_type": "markdown",
   "metadata": {},
   "source": [
    "Using Flair Financial Sentiment:\n",
    "1. Flair handles tokenization, normalization, part-of-speech tagging, and word embedding generation\n",
    "2. Build LDA model with gensim or sklearn, then train the model on preprocessed text data (sequences of word vectors)\n",
    "3. Tune number of topics\n",
    "4. Use something to determine topic coherence for validation\n",
    "5. Feed the topics to finVADER, which will return sentiment scores for each topic\n",
    "6. Aggregate the scores, weighting by importance of topic\n",
    "\n",
    "Concerns: Roundabout way of achieving the same thing that finVADER achives out of the box.\\\n",
    "Advantages:\n",
    "1. Feeding finVADER topics instead of the whole text directs its analysis towards relevant keywords and phrases, so it doesn't focus on irrelevant text\n",
    "2. Greater interpretability in the model. We can see how finVADER interprets specific topics and how those topics drive the sentiment score"
   ]
  },
  {
   "cell_type": "markdown",
   "metadata": {},
   "source": [
    "Why finBERT over finVADER?\n",
    "\n",
    "Cleaning:\\\n",
    "VADER does not explicity perform data cleaning, and performs better with pre-processed text data. Using VADER would require something like NLTK for preprocessing.\\\n",
    "BERT includes text cleaning such as removing stop words, removing punctuation, stemming words, and creating n-grams (use BERT cased to keep capitalization)\n",
    "\n",
    "Sentiment Scoring:\\\n",
    "VADER uses a lexicon dictionary, and it is good at understanding specific words like slang and emojis in informal texts\\\n",
    "BERT uses a deep-learning approach trained from large text datasets, so it is better at understanding context and complex sentiments. Because our articles are more formal, we will use BERT for better results.\n",
    "\n",
    "Topic Modeling:\\\n",
    "VADER does not have an embedding for topic modeling while BERT does. If we want to use topic modeling before sentiment scoring, both should be done with the same embedding, which is possible with BERT, but not with VADER.\n",
    "\n",
    "\n",
    "\n"
   ]
  },
  {
   "cell_type": "markdown",
   "metadata": {},
   "source": []
  },
  {
   "cell_type": "markdown",
   "metadata": {},
   "source": []
  }
 ],
 "metadata": {
  "language_info": {
   "name": "python"
  }
 },
 "nbformat": 4,
 "nbformat_minor": 2
}

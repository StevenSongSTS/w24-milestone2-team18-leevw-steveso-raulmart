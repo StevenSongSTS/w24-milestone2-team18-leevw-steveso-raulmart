{
 "cells": [
  {
   "cell_type": "code",
   "execution_count": 52,
   "metadata": {
    "tags": []
   },
   "outputs": [],
   "source": [
    "import numpy as np\n",
    "from constants import SHARED_RANDOM_STATE\n",
    "from db_helper_functions import get_stock_news_from_db\n",
    "from text_cleaning_functions import clean_text\n",
    "from bertopic import BERTopic\n",
    "from sklearn.feature_extraction.text import CountVectorizer\n",
    "from finbert_embedding.embedding import FinbertEmbedding\n",
    "from transformers import (\n",
    "    AutoModelForSequenceClassification,\n",
    "    AutoTokenizer,\n",
    ")\n",
    "import torch"
   ]
  },
  {
   "cell_type": "code",
   "execution_count": 2,
   "metadata": {
    "tags": []
   },
   "outputs": [],
   "source": [
    "df = get_stock_news_from_db(\"AAPL\")\n",
    "df = df[~df.article.isnull()]"
   ]
  },
  {
   "cell_type": "code",
   "execution_count": 3,
   "metadata": {
    "tags": []
   },
   "outputs": [],
   "source": [
    "df[\"article\"] = df[\"article\"].apply(lambda x: clean_text(x))"
   ]
  },
  {
   "cell_type": "code",
   "execution_count": 5,
   "metadata": {
    "tags": []
   },
   "outputs": [],
   "source": [
    "tf_vectorizer = CountVectorizer(stop_words=\"english\", ngram_range=(1, 3))"
   ]
  },
  {
   "cell_type": "code",
   "execution_count": 13,
   "metadata": {
    "tags": []
   },
   "outputs": [
    {
     "data": {
      "text/html": [
       "<div>\n",
       "<style scoped>\n",
       "    .dataframe tbody tr th:only-of-type {\n",
       "        vertical-align: middle;\n",
       "    }\n",
       "\n",
       "    .dataframe tbody tr th {\n",
       "        vertical-align: top;\n",
       "    }\n",
       "\n",
       "    .dataframe thead th {\n",
       "        text-align: right;\n",
       "    }\n",
       "</style>\n",
       "<table border=\"1\" class=\"dataframe\">\n",
       "  <thead>\n",
       "    <tr style=\"text-align: right;\">\n",
       "      <th></th>\n",
       "      <th>Topic</th>\n",
       "      <th>Count</th>\n",
       "      <th>Name</th>\n",
       "      <th>Representation</th>\n",
       "      <th>Representative_Docs</th>\n",
       "    </tr>\n",
       "  </thead>\n",
       "  <tbody>\n",
       "    <tr>\n",
       "      <th>0</th>\n",
       "      <td>-1</td>\n",
       "      <td>1398</td>\n",
       "      <td>-1_apple_company_market_said</td>\n",
       "      <td>[apple, company, market, said, stock, year, aa...</td>\n",
       "      <td>[There  likely going hunt direction morning in...</td>\n",
       "    </tr>\n",
       "    <tr>\n",
       "      <th>1</th>\n",
       "      <td>0</td>\n",
       "      <td>1346</td>\n",
       "      <td>0_market_company_index_stock</td>\n",
       "      <td>[market, company, index, stock, earnings, week...</td>\n",
       "      <td>[When think Bastille Day  maybe parade firewor...</td>\n",
       "    </tr>\n",
       "    <tr>\n",
       "      <th>2</th>\n",
       "      <td>1</td>\n",
       "      <td>730</td>\n",
       "      <td>1_apple_app_company_said</td>\n",
       "      <td>[apple, app, company, said, user, facebook, tw...</td>\n",
       "      <td>[Apple Inc AAPL said Wednesday would allow lik...</td>\n",
       "    </tr>\n",
       "    <tr>\n",
       "      <th>3</th>\n",
       "      <td>2</td>\n",
       "      <td>415</td>\n",
       "      <td>2_apple_chip_china_company</td>\n",
       "      <td>[apple, chip, china, company, said, production...</td>\n",
       "      <td>[Taiwan Semiconductor Manufacturing Co TSM  wo...</td>\n",
       "    </tr>\n",
       "    <tr>\n",
       "      <th>4</th>\n",
       "      <td>3</td>\n",
       "      <td>387</td>\n",
       "      <td>3_apple_iphone_pro_watch</td>\n",
       "      <td>[apple, iphone, pro, watch, device, new, said,...</td>\n",
       "      <td>[Apple  Inc  AAPL  Far Out  hardware launch ev...</td>\n",
       "    </tr>\n",
       "    <tr>\n",
       "      <th>5</th>\n",
       "      <td>4</td>\n",
       "      <td>278</td>\n",
       "      <td>4_streaming_netflix_apple_million</td>\n",
       "      <td>[streaming, netflix, apple, million, subscribe...</td>\n",
       "      <td>[Streaming giant Netflix Inc NFLX known bingew...</td>\n",
       "    </tr>\n",
       "    <tr>\n",
       "      <th>6</th>\n",
       "      <td>5</td>\n",
       "      <td>196</td>\n",
       "      <td>5_apple_analyst_stock_revenue</td>\n",
       "      <td>[apple, analyst, stock, revenue, iphone, aapl,...</td>\n",
       "      <td>[Apple Inc AAPL share come selling pressure co...</td>\n",
       "    </tr>\n",
       "    <tr>\n",
       "      <th>7</th>\n",
       "      <td>6</td>\n",
       "      <td>184</td>\n",
       "      <td>6_tesla_vehicle_car_ev</td>\n",
       "      <td>[tesla, vehicle, car, ev, apple, electric, com...</td>\n",
       "      <td>[Key Apple Inc AAPL supplier Hon Hai Precision...</td>\n",
       "    </tr>\n",
       "    <tr>\n",
       "      <th>8</th>\n",
       "      <td>7</td>\n",
       "      <td>115</td>\n",
       "      <td>7_company_covid19_apple_store</td>\n",
       "      <td>[company, covid19, apple, store, said, coronav...</td>\n",
       "      <td>[CNBCModerna To establish New Vaccine Facility...</td>\n",
       "    </tr>\n",
       "    <tr>\n",
       "      <th>9</th>\n",
       "      <td>8</td>\n",
       "      <td>78</td>\n",
       "      <td>8_high_52week high_52week_new 52week</td>\n",
       "      <td>[high, 52week high, 52week, new 52week, new 52...</td>\n",
       "      <td>[Loading  Loading  This morning 320 company re...</td>\n",
       "    </tr>\n",
       "    <tr>\n",
       "      <th>10</th>\n",
       "      <td>9</td>\n",
       "      <td>56</td>\n",
       "      <td>9_cannabis_company_cbd_marijuana</td>\n",
       "      <td>[cannabis, company, cbd, marijuana, industry, ...</td>\n",
       "      <td>[What week cannabis stock  Finally rebounding ...</td>\n",
       "    </tr>\n",
       "    <tr>\n",
       "      <th>11</th>\n",
       "      <td>10</td>\n",
       "      <td>45</td>\n",
       "      <td>10_film_movie_best_disney</td>\n",
       "      <td>[film, movie, best, disney, award, smith, rele...</td>\n",
       "      <td>[While movie lover debating surprise snub late...</td>\n",
       "    </tr>\n",
       "    <tr>\n",
       "      <th>12</th>\n",
       "      <td>11</td>\n",
       "      <td>31</td>\n",
       "      <td>11_russia_russian_ukraine_said</td>\n",
       "      <td>[russia, russian, ukraine, said, apple, invasi...</td>\n",
       "      <td>[With Russian ruble sinking fresh low global c...</td>\n",
       "    </tr>\n",
       "    <tr>\n",
       "      <th>13</th>\n",
       "      <td>12</td>\n",
       "      <td>20</td>\n",
       "      <td>12_tiktok_meta_video_instagram</td>\n",
       "      <td>[tiktok, meta, video, instagram, app, reels, u...</td>\n",
       "      <td>[Meta Platforms Inc META tout Instagram Reels ...</td>\n",
       "    </tr>\n",
       "    <tr>\n",
       "      <th>14</th>\n",
       "      <td>13</td>\n",
       "      <td>20</td>\n",
       "      <td>13_peloton_fitness_bike_apple</td>\n",
       "      <td>[peloton, fitness, bike, apple, company, pton,...</td>\n",
       "      <td>[Fitness company Peloton Interactive Inc PTON ...</td>\n",
       "    </tr>\n",
       "    <tr>\n",
       "      <th>15</th>\n",
       "      <td>14</td>\n",
       "      <td>19</td>\n",
       "      <td>14_pelosi_congress_member congress_option</td>\n",
       "      <td>[pelosi, congress, member congress, option, me...</td>\n",
       "      <td>[Speaker House Nancy Pelosi one highprofile me...</td>\n",
       "    </tr>\n",
       "    <tr>\n",
       "      <th>16</th>\n",
       "      <td>15</td>\n",
       "      <td>18</td>\n",
       "      <td>15_debt_debtratio_ratio_current debt</td>\n",
       "      <td>[debt, debtratio, ratio, current debt, longter...</td>\n",
       "      <td>[Over past three month  share Apple AAPL moved...</td>\n",
       "    </tr>\n",
       "    <tr>\n",
       "      <th>17</th>\n",
       "      <td>16</td>\n",
       "      <td>16</td>\n",
       "      <td>16_disney_company_streaming_iger</td>\n",
       "      <td>[disney, company, streaming, iger, dis, servic...</td>\n",
       "      <td>[Once upon time  last quarter  The Walt Disney...</td>\n",
       "    </tr>\n",
       "    <tr>\n",
       "      <th>18</th>\n",
       "      <td>17</td>\n",
       "      <td>12</td>\n",
       "      <td>17_microsoft_nuance_msft_loading</td>\n",
       "      <td>[microsoft, nuance, msft, loading, loading loa...</td>\n",
       "      <td>[Loading  Loading  Microsoft Corporation MSFT ...</td>\n",
       "    </tr>\n",
       "    <tr>\n",
       "      <th>19</th>\n",
       "      <td>18</td>\n",
       "      <td>11</td>\n",
       "      <td>18_saudi_aramco_oil_saudi aramco</td>\n",
       "      <td>[saudi, aramco, oil, saudi aramco, company, oi...</td>\n",
       "      <td>[Suggestions much Saudi Aramco actually worth ...</td>\n",
       "    </tr>\n",
       "  </tbody>\n",
       "</table>\n",
       "</div>"
      ],
      "text/plain": [
       "    Topic  Count                                       Name  \\\n",
       "0      -1   1398               -1_apple_company_market_said   \n",
       "1       0   1346               0_market_company_index_stock   \n",
       "2       1    730                   1_apple_app_company_said   \n",
       "3       2    415                 2_apple_chip_china_company   \n",
       "4       3    387                   3_apple_iphone_pro_watch   \n",
       "5       4    278          4_streaming_netflix_apple_million   \n",
       "6       5    196              5_apple_analyst_stock_revenue   \n",
       "7       6    184                     6_tesla_vehicle_car_ev   \n",
       "8       7    115              7_company_covid19_apple_store   \n",
       "9       8     78       8_high_52week high_52week_new 52week   \n",
       "10      9     56           9_cannabis_company_cbd_marijuana   \n",
       "11     10     45                  10_film_movie_best_disney   \n",
       "12     11     31             11_russia_russian_ukraine_said   \n",
       "13     12     20             12_tiktok_meta_video_instagram   \n",
       "14     13     20              13_peloton_fitness_bike_apple   \n",
       "15     14     19  14_pelosi_congress_member congress_option   \n",
       "16     15     18       15_debt_debtratio_ratio_current debt   \n",
       "17     16     16           16_disney_company_streaming_iger   \n",
       "18     17     12           17_microsoft_nuance_msft_loading   \n",
       "19     18     11           18_saudi_aramco_oil_saudi aramco   \n",
       "\n",
       "                                       Representation  \\\n",
       "0   [apple, company, market, said, stock, year, aa...   \n",
       "1   [market, company, index, stock, earnings, week...   \n",
       "2   [apple, app, company, said, user, facebook, tw...   \n",
       "3   [apple, chip, china, company, said, production...   \n",
       "4   [apple, iphone, pro, watch, device, new, said,...   \n",
       "5   [streaming, netflix, apple, million, subscribe...   \n",
       "6   [apple, analyst, stock, revenue, iphone, aapl,...   \n",
       "7   [tesla, vehicle, car, ev, apple, electric, com...   \n",
       "8   [company, covid19, apple, store, said, coronav...   \n",
       "9   [high, 52week high, 52week, new 52week, new 52...   \n",
       "10  [cannabis, company, cbd, marijuana, industry, ...   \n",
       "11  [film, movie, best, disney, award, smith, rele...   \n",
       "12  [russia, russian, ukraine, said, apple, invasi...   \n",
       "13  [tiktok, meta, video, instagram, app, reels, u...   \n",
       "14  [peloton, fitness, bike, apple, company, pton,...   \n",
       "15  [pelosi, congress, member congress, option, me...   \n",
       "16  [debt, debtratio, ratio, current debt, longter...   \n",
       "17  [disney, company, streaming, iger, dis, servic...   \n",
       "18  [microsoft, nuance, msft, loading, loading loa...   \n",
       "19  [saudi, aramco, oil, saudi aramco, company, oi...   \n",
       "\n",
       "                                  Representative_Docs  \n",
       "0   [There  likely going hunt direction morning in...  \n",
       "1   [When think Bastille Day  maybe parade firewor...  \n",
       "2   [Apple Inc AAPL said Wednesday would allow lik...  \n",
       "3   [Taiwan Semiconductor Manufacturing Co TSM  wo...  \n",
       "4   [Apple  Inc  AAPL  Far Out  hardware launch ev...  \n",
       "5   [Streaming giant Netflix Inc NFLX known bingew...  \n",
       "6   [Apple Inc AAPL share come selling pressure co...  \n",
       "7   [Key Apple Inc AAPL supplier Hon Hai Precision...  \n",
       "8   [CNBCModerna To establish New Vaccine Facility...  \n",
       "9   [Loading  Loading  This morning 320 company re...  \n",
       "10  [What week cannabis stock  Finally rebounding ...  \n",
       "11  [While movie lover debating surprise snub late...  \n",
       "12  [With Russian ruble sinking fresh low global c...  \n",
       "13  [Meta Platforms Inc META tout Instagram Reels ...  \n",
       "14  [Fitness company Peloton Interactive Inc PTON ...  \n",
       "15  [Speaker House Nancy Pelosi one highprofile me...  \n",
       "16  [Over past three month  share Apple AAPL moved...  \n",
       "17  [Once upon time  last quarter  The Walt Disney...  \n",
       "18  [Loading  Loading  Microsoft Corporation MSFT ...  \n",
       "19  [Suggestions much Saudi Aramco actually worth ...  "
      ]
     },
     "execution_count": 13,
     "metadata": {},
     "output_type": "execute_result"
    }
   ],
   "source": [
    "bert_topic_model = BERTopic(\n",
    "    vectorizer_model=tf_vectorizer,\n",
    "    language=\"english\",\n",
    "    calculate_probabilities=True,\n",
    "    nr_topics=20,  \n",
    ")\n",
    "topics, probs = bert_topic_model.fit_transform(list(df[\"article\"]))\n",
    "freq = bert_topic_model.get_topic_info()\n",
    "freq.head(20)"
   ]
  },
  {
   "cell_type": "markdown",
   "metadata": {},
   "source": [
    "# Calculate the semantic score of each topic and get the score of the document by using topic probability distribution"
   ]
  },
  {
   "cell_type": "markdown",
   "metadata": {},
   "source": [
    " - Assign each topic a sentiment score based on the representative documents.\n",
    " - Calcualte the score of each article by using the topics distribution."
   ]
  },
  {
   "cell_type": "code",
   "execution_count": 84,
   "metadata": {
    "tags": []
   },
   "outputs": [
    {
     "name": "stdout",
     "output_type": "stream",
     "text": [
      "The topic of the document is -1; The prob distribution is: [0.59317462 0.06168447 0.02840605 0.04266905 0.01709513 0.0207562\n",
      " 0.02114811 0.02390401 0.00858002 0.0017665  0.00249505 0.00447117\n",
      " 0.00333312 0.00296641 0.00606362 0.00136248 0.00263595 0.0060224\n",
      " 0.00709487]\n",
      "The topic of the document is 6; The prob distribution is: [4.59324548e-306 1.87301652e-306 8.39159791e-307 1.06882805e-306\n",
      " 4.07100018e-307 4.41545432e-307 1.00000000e+000 5.06490357e-307\n",
      " 1.42041934e-307 5.92362516e-308 5.82075256e-308 1.56059349e-307\n",
      " 9.56802320e-308 6.71664445e-308 1.33227374e-307 2.97742362e-308\n",
      " 5.98513614e-308 1.18237468e-307 1.22878827e-307]\n",
      "The topic of the document is -1; The prob distribution is: [0.36723551 0.05147749 0.02366834 0.03508423 0.01323389 0.0174123\n",
      " 0.01740201 0.02077665 0.00617918 0.00131409 0.00188073 0.00365742\n",
      " 0.00274966 0.00238183 0.00506394 0.00098363 0.00199063 0.00534443\n",
      " 0.00640536]\n",
      "The topic of the document is -1; The prob distribution is: [0.45820828 0.06273983 0.02804172 0.04184753 0.01634713 0.02089848\n",
      " 0.0211807  0.02495086 0.00783264 0.0015833  0.00232181 0.00448347\n",
      " 0.0033779  0.00290616 0.00640435 0.00118233 0.00246059 0.00668485\n",
      " 0.0076125 ]\n",
      "The topic of the document is 0; The prob distribution is: [0.13642656 0.02015815 0.00935569 0.01304412 0.00577181 0.00629723\n",
      " 0.00822188 0.00871468 0.00326059 0.00063089 0.00085732 0.001673\n",
      " 0.0010973  0.0009397  0.00219192 0.00044778 0.00090013 0.00184679\n",
      " 0.00223356]\n"
     ]
    }
   ],
   "source": [
    "for i in range(5):\n",
    "    topic = topics[i]\n",
    "    prob = probs[i]\n",
    "    print(f\"The topic of the document is {topic}; The prob distribution is: {prob}\")"
   ]
  },
  {
   "cell_type": "markdown",
   "metadata": {},
   "source": [
    "#### One problem we can see with the above result is that some documents have a probability near 1 for certain topic and the rest of the probability for the rest of the topics are near 0.  In practice, documents may contain a mixture of topics. This will cause inaccurate results.\n",
    "#### Using the approximate_distribution() can solve the problem\n",
    "#### Reference: https://maartengr.github.io/BERTopic/getting_started/distribution/distribution.html#example"
   ]
  },
  {
   "cell_type": "code",
   "execution_count": 33,
   "metadata": {
    "tags": []
   },
   "outputs": [],
   "source": [
    "docs = list(df[\"article\"])\n",
    "\n",
    "model = BERTopic(\n",
    "    vectorizer_model=tf_vectorizer,\n",
    "    language=\"english\",\n",
    "    calculate_probabilities=True,\n",
    "    nr_topics=20,\n",
    ")\n",
    "\n",
    "topic_model = model.fit(docs)\n",
    "topic_distr, _ = topic_model.approximate_distribution(docs)"
   ]
  },
  {
   "cell_type": "code",
   "execution_count": 44,
   "metadata": {
    "tags": []
   },
   "outputs": [
    {
     "data": {
      "text/plain": [
       "array([0.0438544 , 0.16295445, 0.22507888, 0.10440445, 0.2127066 ,\n",
       "       0.05581894, 0.0686565 , 0.        , 0.01127571, 0.        ,\n",
       "       0.06760112, 0.        , 0.01268881, 0.        , 0.        ,\n",
       "       0.01135625, 0.01254379, 0.        , 0.01106012])"
      ]
     },
     "execution_count": 44,
     "metadata": {},
     "output_type": "execute_result"
    }
   ],
   "source": [
    "topic_distr[1]"
   ]
  },
  {
   "cell_type": "code",
   "execution_count": 45,
   "metadata": {
    "tags": []
   },
   "outputs": [
    {
     "data": {
      "application/vnd.plotly.v1+json": {
       "config": {
        "plotlyServerURL": "https://plot.ly"
       },
       "data": [
        {
         "marker": {
          "color": "#C8D2D7",
          "line": {
           "color": "#6E8484",
           "width": 1
          }
         },
         "orientation": "h",
         "type": "bar",
         "x": [
          0.04385439724483704,
          0.16295444734850478,
          0.22507887760253142,
          0.10440444543521643,
          0.21270660415553844,
          0.0558189357500864,
          0.06865649543550209,
          0.06760112136997515
         ],
         "y": [
          "<b>Topic 0</b>: company_market_index_sto...",
          "<b>Topic 1</b>: apple_app_said_company_t...",
          "<b>Topic 2</b>: apple_iphone_said_analys...",
          "<b>Topic 3</b>: apple_china_chip_company...",
          "<b>Topic 4</b>: tesla_vehicle_ev_car_app...",
          "<b>Topic 5</b>: netflix_streaming_apple_...",
          "<b>Topic 6</b>: apple_stock_aapl_price_l...",
          "<b>Topic 10</b>: russia_russian_ukraine_..."
         ]
        }
       ],
       "layout": {
        "height": 600,
        "hoverlabel": {
         "bgcolor": "white",
         "font": {
          "family": "Rockwell",
          "size": 16
         }
        },
        "template": {
         "data": {
          "bar": [
           {
            "error_x": {
             "color": "rgb(36,36,36)"
            },
            "error_y": {
             "color": "rgb(36,36,36)"
            },
            "marker": {
             "line": {
              "color": "white",
              "width": 0.5
             },
             "pattern": {
              "fillmode": "overlay",
              "size": 10,
              "solidity": 0.2
             }
            },
            "type": "bar"
           }
          ],
          "barpolar": [
           {
            "marker": {
             "line": {
              "color": "white",
              "width": 0.5
             },
             "pattern": {
              "fillmode": "overlay",
              "size": 10,
              "solidity": 0.2
             }
            },
            "type": "barpolar"
           }
          ],
          "carpet": [
           {
            "aaxis": {
             "endlinecolor": "rgb(36,36,36)",
             "gridcolor": "white",
             "linecolor": "white",
             "minorgridcolor": "white",
             "startlinecolor": "rgb(36,36,36)"
            },
            "baxis": {
             "endlinecolor": "rgb(36,36,36)",
             "gridcolor": "white",
             "linecolor": "white",
             "minorgridcolor": "white",
             "startlinecolor": "rgb(36,36,36)"
            },
            "type": "carpet"
           }
          ],
          "choropleth": [
           {
            "colorbar": {
             "outlinewidth": 1,
             "tickcolor": "rgb(36,36,36)",
             "ticks": "outside"
            },
            "type": "choropleth"
           }
          ],
          "contour": [
           {
            "colorbar": {
             "outlinewidth": 1,
             "tickcolor": "rgb(36,36,36)",
             "ticks": "outside"
            },
            "colorscale": [
             [
              0,
              "#440154"
             ],
             [
              0.1111111111111111,
              "#482878"
             ],
             [
              0.2222222222222222,
              "#3e4989"
             ],
             [
              0.3333333333333333,
              "#31688e"
             ],
             [
              0.4444444444444444,
              "#26828e"
             ],
             [
              0.5555555555555556,
              "#1f9e89"
             ],
             [
              0.6666666666666666,
              "#35b779"
             ],
             [
              0.7777777777777778,
              "#6ece58"
             ],
             [
              0.8888888888888888,
              "#b5de2b"
             ],
             [
              1,
              "#fde725"
             ]
            ],
            "type": "contour"
           }
          ],
          "contourcarpet": [
           {
            "colorbar": {
             "outlinewidth": 1,
             "tickcolor": "rgb(36,36,36)",
             "ticks": "outside"
            },
            "type": "contourcarpet"
           }
          ],
          "heatmap": [
           {
            "colorbar": {
             "outlinewidth": 1,
             "tickcolor": "rgb(36,36,36)",
             "ticks": "outside"
            },
            "colorscale": [
             [
              0,
              "#440154"
             ],
             [
              0.1111111111111111,
              "#482878"
             ],
             [
              0.2222222222222222,
              "#3e4989"
             ],
             [
              0.3333333333333333,
              "#31688e"
             ],
             [
              0.4444444444444444,
              "#26828e"
             ],
             [
              0.5555555555555556,
              "#1f9e89"
             ],
             [
              0.6666666666666666,
              "#35b779"
             ],
             [
              0.7777777777777778,
              "#6ece58"
             ],
             [
              0.8888888888888888,
              "#b5de2b"
             ],
             [
              1,
              "#fde725"
             ]
            ],
            "type": "heatmap"
           }
          ],
          "heatmapgl": [
           {
            "colorbar": {
             "outlinewidth": 1,
             "tickcolor": "rgb(36,36,36)",
             "ticks": "outside"
            },
            "colorscale": [
             [
              0,
              "#440154"
             ],
             [
              0.1111111111111111,
              "#482878"
             ],
             [
              0.2222222222222222,
              "#3e4989"
             ],
             [
              0.3333333333333333,
              "#31688e"
             ],
             [
              0.4444444444444444,
              "#26828e"
             ],
             [
              0.5555555555555556,
              "#1f9e89"
             ],
             [
              0.6666666666666666,
              "#35b779"
             ],
             [
              0.7777777777777778,
              "#6ece58"
             ],
             [
              0.8888888888888888,
              "#b5de2b"
             ],
             [
              1,
              "#fde725"
             ]
            ],
            "type": "heatmapgl"
           }
          ],
          "histogram": [
           {
            "marker": {
             "line": {
              "color": "white",
              "width": 0.6
             }
            },
            "type": "histogram"
           }
          ],
          "histogram2d": [
           {
            "colorbar": {
             "outlinewidth": 1,
             "tickcolor": "rgb(36,36,36)",
             "ticks": "outside"
            },
            "colorscale": [
             [
              0,
              "#440154"
             ],
             [
              0.1111111111111111,
              "#482878"
             ],
             [
              0.2222222222222222,
              "#3e4989"
             ],
             [
              0.3333333333333333,
              "#31688e"
             ],
             [
              0.4444444444444444,
              "#26828e"
             ],
             [
              0.5555555555555556,
              "#1f9e89"
             ],
             [
              0.6666666666666666,
              "#35b779"
             ],
             [
              0.7777777777777778,
              "#6ece58"
             ],
             [
              0.8888888888888888,
              "#b5de2b"
             ],
             [
              1,
              "#fde725"
             ]
            ],
            "type": "histogram2d"
           }
          ],
          "histogram2dcontour": [
           {
            "colorbar": {
             "outlinewidth": 1,
             "tickcolor": "rgb(36,36,36)",
             "ticks": "outside"
            },
            "colorscale": [
             [
              0,
              "#440154"
             ],
             [
              0.1111111111111111,
              "#482878"
             ],
             [
              0.2222222222222222,
              "#3e4989"
             ],
             [
              0.3333333333333333,
              "#31688e"
             ],
             [
              0.4444444444444444,
              "#26828e"
             ],
             [
              0.5555555555555556,
              "#1f9e89"
             ],
             [
              0.6666666666666666,
              "#35b779"
             ],
             [
              0.7777777777777778,
              "#6ece58"
             ],
             [
              0.8888888888888888,
              "#b5de2b"
             ],
             [
              1,
              "#fde725"
             ]
            ],
            "type": "histogram2dcontour"
           }
          ],
          "mesh3d": [
           {
            "colorbar": {
             "outlinewidth": 1,
             "tickcolor": "rgb(36,36,36)",
             "ticks": "outside"
            },
            "type": "mesh3d"
           }
          ],
          "parcoords": [
           {
            "line": {
             "colorbar": {
              "outlinewidth": 1,
              "tickcolor": "rgb(36,36,36)",
              "ticks": "outside"
             }
            },
            "type": "parcoords"
           }
          ],
          "pie": [
           {
            "automargin": true,
            "type": "pie"
           }
          ],
          "scatter": [
           {
            "fillpattern": {
             "fillmode": "overlay",
             "size": 10,
             "solidity": 0.2
            },
            "type": "scatter"
           }
          ],
          "scatter3d": [
           {
            "line": {
             "colorbar": {
              "outlinewidth": 1,
              "tickcolor": "rgb(36,36,36)",
              "ticks": "outside"
             }
            },
            "marker": {
             "colorbar": {
              "outlinewidth": 1,
              "tickcolor": "rgb(36,36,36)",
              "ticks": "outside"
             }
            },
            "type": "scatter3d"
           }
          ],
          "scattercarpet": [
           {
            "marker": {
             "colorbar": {
              "outlinewidth": 1,
              "tickcolor": "rgb(36,36,36)",
              "ticks": "outside"
             }
            },
            "type": "scattercarpet"
           }
          ],
          "scattergeo": [
           {
            "marker": {
             "colorbar": {
              "outlinewidth": 1,
              "tickcolor": "rgb(36,36,36)",
              "ticks": "outside"
             }
            },
            "type": "scattergeo"
           }
          ],
          "scattergl": [
           {
            "marker": {
             "colorbar": {
              "outlinewidth": 1,
              "tickcolor": "rgb(36,36,36)",
              "ticks": "outside"
             }
            },
            "type": "scattergl"
           }
          ],
          "scattermapbox": [
           {
            "marker": {
             "colorbar": {
              "outlinewidth": 1,
              "tickcolor": "rgb(36,36,36)",
              "ticks": "outside"
             }
            },
            "type": "scattermapbox"
           }
          ],
          "scatterpolar": [
           {
            "marker": {
             "colorbar": {
              "outlinewidth": 1,
              "tickcolor": "rgb(36,36,36)",
              "ticks": "outside"
             }
            },
            "type": "scatterpolar"
           }
          ],
          "scatterpolargl": [
           {
            "marker": {
             "colorbar": {
              "outlinewidth": 1,
              "tickcolor": "rgb(36,36,36)",
              "ticks": "outside"
             }
            },
            "type": "scatterpolargl"
           }
          ],
          "scatterternary": [
           {
            "marker": {
             "colorbar": {
              "outlinewidth": 1,
              "tickcolor": "rgb(36,36,36)",
              "ticks": "outside"
             }
            },
            "type": "scatterternary"
           }
          ],
          "surface": [
           {
            "colorbar": {
             "outlinewidth": 1,
             "tickcolor": "rgb(36,36,36)",
             "ticks": "outside"
            },
            "colorscale": [
             [
              0,
              "#440154"
             ],
             [
              0.1111111111111111,
              "#482878"
             ],
             [
              0.2222222222222222,
              "#3e4989"
             ],
             [
              0.3333333333333333,
              "#31688e"
             ],
             [
              0.4444444444444444,
              "#26828e"
             ],
             [
              0.5555555555555556,
              "#1f9e89"
             ],
             [
              0.6666666666666666,
              "#35b779"
             ],
             [
              0.7777777777777778,
              "#6ece58"
             ],
             [
              0.8888888888888888,
              "#b5de2b"
             ],
             [
              1,
              "#fde725"
             ]
            ],
            "type": "surface"
           }
          ],
          "table": [
           {
            "cells": {
             "fill": {
              "color": "rgb(237,237,237)"
             },
             "line": {
              "color": "white"
             }
            },
            "header": {
             "fill": {
              "color": "rgb(217,217,217)"
             },
             "line": {
              "color": "white"
             }
            },
            "type": "table"
           }
          ]
         },
         "layout": {
          "annotationdefaults": {
           "arrowhead": 0,
           "arrowwidth": 1
          },
          "autotypenumbers": "strict",
          "coloraxis": {
           "colorbar": {
            "outlinewidth": 1,
            "tickcolor": "rgb(36,36,36)",
            "ticks": "outside"
           }
          },
          "colorscale": {
           "diverging": [
            [
             0,
             "rgb(103,0,31)"
            ],
            [
             0.1,
             "rgb(178,24,43)"
            ],
            [
             0.2,
             "rgb(214,96,77)"
            ],
            [
             0.3,
             "rgb(244,165,130)"
            ],
            [
             0.4,
             "rgb(253,219,199)"
            ],
            [
             0.5,
             "rgb(247,247,247)"
            ],
            [
             0.6,
             "rgb(209,229,240)"
            ],
            [
             0.7,
             "rgb(146,197,222)"
            ],
            [
             0.8,
             "rgb(67,147,195)"
            ],
            [
             0.9,
             "rgb(33,102,172)"
            ],
            [
             1,
             "rgb(5,48,97)"
            ]
           ],
           "sequential": [
            [
             0,
             "#440154"
            ],
            [
             0.1111111111111111,
             "#482878"
            ],
            [
             0.2222222222222222,
             "#3e4989"
            ],
            [
             0.3333333333333333,
             "#31688e"
            ],
            [
             0.4444444444444444,
             "#26828e"
            ],
            [
             0.5555555555555556,
             "#1f9e89"
            ],
            [
             0.6666666666666666,
             "#35b779"
            ],
            [
             0.7777777777777778,
             "#6ece58"
            ],
            [
             0.8888888888888888,
             "#b5de2b"
            ],
            [
             1,
             "#fde725"
            ]
           ],
           "sequentialminus": [
            [
             0,
             "#440154"
            ],
            [
             0.1111111111111111,
             "#482878"
            ],
            [
             0.2222222222222222,
             "#3e4989"
            ],
            [
             0.3333333333333333,
             "#31688e"
            ],
            [
             0.4444444444444444,
             "#26828e"
            ],
            [
             0.5555555555555556,
             "#1f9e89"
            ],
            [
             0.6666666666666666,
             "#35b779"
            ],
            [
             0.7777777777777778,
             "#6ece58"
            ],
            [
             0.8888888888888888,
             "#b5de2b"
            ],
            [
             1,
             "#fde725"
            ]
           ]
          },
          "colorway": [
           "#1F77B4",
           "#FF7F0E",
           "#2CA02C",
           "#D62728",
           "#9467BD",
           "#8C564B",
           "#E377C2",
           "#7F7F7F",
           "#BCBD22",
           "#17BECF"
          ],
          "font": {
           "color": "rgb(36,36,36)"
          },
          "geo": {
           "bgcolor": "white",
           "lakecolor": "white",
           "landcolor": "white",
           "showlakes": true,
           "showland": true,
           "subunitcolor": "white"
          },
          "hoverlabel": {
           "align": "left"
          },
          "hovermode": "closest",
          "mapbox": {
           "style": "light"
          },
          "paper_bgcolor": "white",
          "plot_bgcolor": "white",
          "polar": {
           "angularaxis": {
            "gridcolor": "rgb(232,232,232)",
            "linecolor": "rgb(36,36,36)",
            "showgrid": false,
            "showline": true,
            "ticks": "outside"
           },
           "bgcolor": "white",
           "radialaxis": {
            "gridcolor": "rgb(232,232,232)",
            "linecolor": "rgb(36,36,36)",
            "showgrid": false,
            "showline": true,
            "ticks": "outside"
           }
          },
          "scene": {
           "xaxis": {
            "backgroundcolor": "white",
            "gridcolor": "rgb(232,232,232)",
            "gridwidth": 2,
            "linecolor": "rgb(36,36,36)",
            "showbackground": true,
            "showgrid": false,
            "showline": true,
            "ticks": "outside",
            "zeroline": false,
            "zerolinecolor": "rgb(36,36,36)"
           },
           "yaxis": {
            "backgroundcolor": "white",
            "gridcolor": "rgb(232,232,232)",
            "gridwidth": 2,
            "linecolor": "rgb(36,36,36)",
            "showbackground": true,
            "showgrid": false,
            "showline": true,
            "ticks": "outside",
            "zeroline": false,
            "zerolinecolor": "rgb(36,36,36)"
           },
           "zaxis": {
            "backgroundcolor": "white",
            "gridcolor": "rgb(232,232,232)",
            "gridwidth": 2,
            "linecolor": "rgb(36,36,36)",
            "showbackground": true,
            "showgrid": false,
            "showline": true,
            "ticks": "outside",
            "zeroline": false,
            "zerolinecolor": "rgb(36,36,36)"
           }
          },
          "shapedefaults": {
           "fillcolor": "black",
           "line": {
            "width": 0
           },
           "opacity": 0.3
          },
          "ternary": {
           "aaxis": {
            "gridcolor": "rgb(232,232,232)",
            "linecolor": "rgb(36,36,36)",
            "showgrid": false,
            "showline": true,
            "ticks": "outside"
           },
           "baxis": {
            "gridcolor": "rgb(232,232,232)",
            "linecolor": "rgb(36,36,36)",
            "showgrid": false,
            "showline": true,
            "ticks": "outside"
           },
           "bgcolor": "white",
           "caxis": {
            "gridcolor": "rgb(232,232,232)",
            "linecolor": "rgb(36,36,36)",
            "showgrid": false,
            "showline": true,
            "ticks": "outside"
           }
          },
          "title": {
           "x": 0.05
          },
          "xaxis": {
           "automargin": true,
           "gridcolor": "rgb(232,232,232)",
           "linecolor": "rgb(36,36,36)",
           "showgrid": false,
           "showline": true,
           "ticks": "outside",
           "title": {
            "standoff": 15
           },
           "zeroline": false,
           "zerolinecolor": "rgb(36,36,36)"
          },
          "yaxis": {
           "automargin": true,
           "gridcolor": "rgb(232,232,232)",
           "linecolor": "rgb(36,36,36)",
           "showgrid": false,
           "showline": true,
           "ticks": "outside",
           "title": {
            "standoff": 15
           },
           "zeroline": false,
           "zerolinecolor": "rgb(36,36,36)"
          }
         }
        },
        "title": {
         "font": {
          "color": "Black",
          "size": 22
         },
         "text": "<b>Topic Probability Distribution</b>",
         "x": 0.5,
         "xanchor": "center",
         "y": 0.95,
         "yanchor": "top"
        },
        "width": 800,
        "xaxis": {
         "autorange": true,
         "range": [
          0,
          0.23692513431845413
         ],
         "title": {
          "text": "Probability"
         },
         "type": "linear"
        },
        "yaxis": {
         "autorange": true,
         "range": [
          -0.5,
          7.5
         ],
         "type": "category"
        }
       }
      },
      "image/png": "[encoded data removed]",
      "text/html": [
       "<div>                            <div id=\"66edf3ed-5572-4b64-b425-86254c5297a9\" class=\"plotly-graph-div\" style=\"height:600px; width:800px;\"></div>            <script type=\"text/javascript\">                require([\"plotly\"], function(Plotly) {                    window.PLOTLYENV=window.PLOTLYENV || {};                                    if (document.getElementById(\"66edf3ed-5572-4b64-b425-86254c5297a9\")) {                    Plotly.newPlot(                        \"66edf3ed-5572-4b64-b425-86254c5297a9\",                        [{\"marker\":{\"color\":\"#C8D2D7\",\"line\":{\"color\":\"#6E8484\",\"width\":1}},\"orientation\":\"h\",\"x\":[0.04385439724483704,0.16295444734850478,0.22507887760253142,0.10440444543521643,0.21270660415553844,0.0558189357500864,0.06865649543550209,0.06760112136997515],\"y\":[\"\\u003cb\\u003eTopic 0\\u003c\\u002fb\\u003e: company_market_index_sto...\",\"\\u003cb\\u003eTopic 1\\u003c\\u002fb\\u003e: apple_app_said_company_t...\",\"\\u003cb\\u003eTopic 2\\u003c\\u002fb\\u003e: apple_iphone_said_analys...\",\"\\u003cb\\u003eTopic 3\\u003c\\u002fb\\u003e: apple_china_chip_company...\",\"\\u003cb\\u003eTopic 4\\u003c\\u002fb\\u003e: tesla_vehicle_ev_car_app...\",\"\\u003cb\\u003eTopic 5\\u003c\\u002fb\\u003e: netflix_streaming_apple_...\",\"\\u003cb\\u003eTopic 6\\u003c\\u002fb\\u003e: apple_stock_aapl_price_l...\",\"\\u003cb\\u003eTopic 10\\u003c\\u002fb\\u003e: russia_russian_ukraine_...\"],\"type\":\"bar\"}],                        {\"template\":{\"data\":{\"barpolar\":[{\"marker\":{\"line\":{\"color\":\"white\",\"width\":0.5},\"pattern\":{\"fillmode\":\"overlay\",\"size\":10,\"solidity\":0.2}},\"type\":\"barpolar\"}],\"bar\":[{\"error_x\":{\"color\":\"rgb(36,36,36)\"},\"error_y\":{\"color\":\"rgb(36,36,36)\"},\"marker\":{\"line\":{\"color\":\"white\",\"width\":0.5},\"pattern\":{\"fillmode\":\"overlay\",\"size\":10,\"solidity\":0.2}},\"type\":\"bar\"}],\"carpet\":[{\"aaxis\":{\"endlinecolor\":\"rgb(36,36,36)\",\"gridcolor\":\"white\",\"linecolor\":\"white\",\"minorgridcolor\":\"white\",\"startlinecolor\":\"rgb(36,36,36)\"},\"baxis\":{\"endlinecolor\":\"rgb(36,36,36)\",\"gridcolor\":\"white\",\"linecolor\":\"white\",\"minorgridcolor\":\"white\",\"startlinecolor\":\"rgb(36,36,36)\"},\"type\":\"carpet\"}],\"choropleth\":[{\"colorbar\":{\"outlinewidth\":1,\"tickcolor\":\"rgb(36,36,36)\",\"ticks\":\"outside\"},\"type\":\"choropleth\"}],\"contourcarpet\":[{\"colorbar\":{\"outlinewidth\":1,\"tickcolor\":\"rgb(36,36,36)\",\"ticks\":\"outside\"},\"type\":\"contourcarpet\"}],\"contour\":[{\"colorbar\":{\"outlinewidth\":1,\"tickcolor\":\"rgb(36,36,36)\",\"ticks\":\"outside\"},\"colorscale\":[[0.0,\"#440154\"],[0.1111111111111111,\"#482878\"],[0.2222222222222222,\"#3e4989\"],[0.3333333333333333,\"#31688e\"],[0.4444444444444444,\"#26828e\"],[0.5555555555555556,\"#1f9e89\"],[0.6666666666666666,\"#35b779\"],[0.7777777777777778,\"#6ece58\"],[0.8888888888888888,\"#b5de2b\"],[1.0,\"#fde725\"]],\"type\":\"contour\"}],\"heatmapgl\":[{\"colorbar\":{\"outlinewidth\":1,\"tickcolor\":\"rgb(36,36,36)\",\"ticks\":\"outside\"},\"colorscale\":[[0.0,\"#440154\"],[0.1111111111111111,\"#482878\"],[0.2222222222222222,\"#3e4989\"],[0.3333333333333333,\"#31688e\"],[0.4444444444444444,\"#26828e\"],[0.5555555555555556,\"#1f9e89\"],[0.6666666666666666,\"#35b779\"],[0.7777777777777778,\"#6ece58\"],[0.8888888888888888,\"#b5de2b\"],[1.0,\"#fde725\"]],\"type\":\"heatmapgl\"}],\"heatmap\":[{\"colorbar\":{\"outlinewidth\":1,\"tickcolor\":\"rgb(36,36,36)\",\"ticks\":\"outside\"},\"colorscale\":[[0.0,\"#440154\"],[0.1111111111111111,\"#482878\"],[0.2222222222222222,\"#3e4989\"],[0.3333333333333333,\"#31688e\"],[0.4444444444444444,\"#26828e\"],[0.5555555555555556,\"#1f9e89\"],[0.6666666666666666,\"#35b779\"],[0.7777777777777778,\"#6ece58\"],[0.8888888888888888,\"#b5de2b\"],[1.0,\"#fde725\"]],\"type\":\"heatmap\"}],\"histogram2dcontour\":[{\"colorbar\":{\"outlinewidth\":1,\"tickcolor\":\"rgb(36,36,36)\",\"ticks\":\"outside\"},\"colorscale\":[[0.0,\"#440154\"],[0.1111111111111111,\"#482878\"],[0.2222222222222222,\"#3e4989\"],[0.3333333333333333,\"#31688e\"],[0.4444444444444444,\"#26828e\"],[0.5555555555555556,\"#1f9e89\"],[0.6666666666666666,\"#35b779\"],[0.7777777777777778,\"#6ece58\"],[0.8888888888888888,\"#b5de2b\"],[1.0,\"#fde725\"]],\"type\":\"histogram2dcontour\"}],\"histogram2d\":[{\"colorbar\":{\"outlinewidth\":1,\"tickcolor\":\"rgb(36,36,36)\",\"ticks\":\"outside\"},\"colorscale\":[[0.0,\"#440154\"],[0.1111111111111111,\"#482878\"],[0.2222222222222222,\"#3e4989\"],[0.3333333333333333,\"#31688e\"],[0.4444444444444444,\"#26828e\"],[0.5555555555555556,\"#1f9e89\"],[0.6666666666666666,\"#35b779\"],[0.7777777777777778,\"#6ece58\"],[0.8888888888888888,\"#b5de2b\"],[1.0,\"#fde725\"]],\"type\":\"histogram2d\"}],\"histogram\":[{\"marker\":{\"line\":{\"color\":\"white\",\"width\":0.6}},\"type\":\"histogram\"}],\"mesh3d\":[{\"colorbar\":{\"outlinewidth\":1,\"tickcolor\":\"rgb(36,36,36)\",\"ticks\":\"outside\"},\"type\":\"mesh3d\"}],\"parcoords\":[{\"line\":{\"colorbar\":{\"outlinewidth\":1,\"tickcolor\":\"rgb(36,36,36)\",\"ticks\":\"outside\"}},\"type\":\"parcoords\"}],\"pie\":[{\"automargin\":true,\"type\":\"pie\"}],\"scatter3d\":[{\"line\":{\"colorbar\":{\"outlinewidth\":1,\"tickcolor\":\"rgb(36,36,36)\",\"ticks\":\"outside\"}},\"marker\":{\"colorbar\":{\"outlinewidth\":1,\"tickcolor\":\"rgb(36,36,36)\",\"ticks\":\"outside\"}},\"type\":\"scatter3d\"}],\"scattercarpet\":[{\"marker\":{\"colorbar\":{\"outlinewidth\":1,\"tickcolor\":\"rgb(36,36,36)\",\"ticks\":\"outside\"}},\"type\":\"scattercarpet\"}],\"scattergeo\":[{\"marker\":{\"colorbar\":{\"outlinewidth\":1,\"tickcolor\":\"rgb(36,36,36)\",\"ticks\":\"outside\"}},\"type\":\"scattergeo\"}],\"scattergl\":[{\"marker\":{\"colorbar\":{\"outlinewidth\":1,\"tickcolor\":\"rgb(36,36,36)\",\"ticks\":\"outside\"}},\"type\":\"scattergl\"}],\"scattermapbox\":[{\"marker\":{\"colorbar\":{\"outlinewidth\":1,\"tickcolor\":\"rgb(36,36,36)\",\"ticks\":\"outside\"}},\"type\":\"scattermapbox\"}],\"scatterpolargl\":[{\"marker\":{\"colorbar\":{\"outlinewidth\":1,\"tickcolor\":\"rgb(36,36,36)\",\"ticks\":\"outside\"}},\"type\":\"scatterpolargl\"}],\"scatterpolar\":[{\"marker\":{\"colorbar\":{\"outlinewidth\":1,\"tickcolor\":\"rgb(36,36,36)\",\"ticks\":\"outside\"}},\"type\":\"scatterpolar\"}],\"scatter\":[{\"fillpattern\":{\"fillmode\":\"overlay\",\"size\":10,\"solidity\":0.2},\"type\":\"scatter\"}],\"scatterternary\":[{\"marker\":{\"colorbar\":{\"outlinewidth\":1,\"tickcolor\":\"rgb(36,36,36)\",\"ticks\":\"outside\"}},\"type\":\"scatterternary\"}],\"surface\":[{\"colorbar\":{\"outlinewidth\":1,\"tickcolor\":\"rgb(36,36,36)\",\"ticks\":\"outside\"},\"colorscale\":[[0.0,\"#440154\"],[0.1111111111111111,\"#482878\"],[0.2222222222222222,\"#3e4989\"],[0.3333333333333333,\"#31688e\"],[0.4444444444444444,\"#26828e\"],[0.5555555555555556,\"#1f9e89\"],[0.6666666666666666,\"#35b779\"],[0.7777777777777778,\"#6ece58\"],[0.8888888888888888,\"#b5de2b\"],[1.0,\"#fde725\"]],\"type\":\"surface\"}],\"table\":[{\"cells\":{\"fill\":{\"color\":\"rgb(237,237,237)\"},\"line\":{\"color\":\"white\"}},\"header\":{\"fill\":{\"color\":\"rgb(217,217,217)\"},\"line\":{\"color\":\"white\"}},\"type\":\"table\"}]},\"layout\":{\"annotationdefaults\":{\"arrowhead\":0,\"arrowwidth\":1},\"autotypenumbers\":\"strict\",\"coloraxis\":{\"colorbar\":{\"outlinewidth\":1,\"tickcolor\":\"rgb(36,36,36)\",\"ticks\":\"outside\"}},\"colorscale\":{\"diverging\":[[0.0,\"rgb(103,0,31)\"],[0.1,\"rgb(178,24,43)\"],[0.2,\"rgb(214,96,77)\"],[0.3,\"rgb(244,165,130)\"],[0.4,\"rgb(253,219,199)\"],[0.5,\"rgb(247,247,247)\"],[0.6,\"rgb(209,229,240)\"],[0.7,\"rgb(146,197,222)\"],[0.8,\"rgb(67,147,195)\"],[0.9,\"rgb(33,102,172)\"],[1.0,\"rgb(5,48,97)\"]],\"sequential\":[[0.0,\"#440154\"],[0.1111111111111111,\"#482878\"],[0.2222222222222222,\"#3e4989\"],[0.3333333333333333,\"#31688e\"],[0.4444444444444444,\"#26828e\"],[0.5555555555555556,\"#1f9e89\"],[0.6666666666666666,\"#35b779\"],[0.7777777777777778,\"#6ece58\"],[0.8888888888888888,\"#b5de2b\"],[1.0,\"#fde725\"]],\"sequentialminus\":[[0.0,\"#440154\"],[0.1111111111111111,\"#482878\"],[0.2222222222222222,\"#3e4989\"],[0.3333333333333333,\"#31688e\"],[0.4444444444444444,\"#26828e\"],[0.5555555555555556,\"#1f9e89\"],[0.6666666666666666,\"#35b779\"],[0.7777777777777778,\"#6ece58\"],[0.8888888888888888,\"#b5de2b\"],[1.0,\"#fde725\"]]},\"colorway\":[\"#1F77B4\",\"#FF7F0E\",\"#2CA02C\",\"#D62728\",\"#9467BD\",\"#8C564B\",\"#E377C2\",\"#7F7F7F\",\"#BCBD22\",\"#17BECF\"],\"font\":{\"color\":\"rgb(36,36,36)\"},\"geo\":{\"bgcolor\":\"white\",\"lakecolor\":\"white\",\"landcolor\":\"white\",\"showlakes\":true,\"showland\":true,\"subunitcolor\":\"white\"},\"hoverlabel\":{\"align\":\"left\"},\"hovermode\":\"closest\",\"mapbox\":{\"style\":\"light\"},\"paper_bgcolor\":\"white\",\"plot_bgcolor\":\"white\",\"polar\":{\"angularaxis\":{\"gridcolor\":\"rgb(232,232,232)\",\"linecolor\":\"rgb(36,36,36)\",\"showgrid\":false,\"showline\":true,\"ticks\":\"outside\"},\"bgcolor\":\"white\",\"radialaxis\":{\"gridcolor\":\"rgb(232,232,232)\",\"linecolor\":\"rgb(36,36,36)\",\"showgrid\":false,\"showline\":true,\"ticks\":\"outside\"}},\"scene\":{\"xaxis\":{\"backgroundcolor\":\"white\",\"gridcolor\":\"rgb(232,232,232)\",\"gridwidth\":2,\"linecolor\":\"rgb(36,36,36)\",\"showbackground\":true,\"showgrid\":false,\"showline\":true,\"ticks\":\"outside\",\"zeroline\":false,\"zerolinecolor\":\"rgb(36,36,36)\"},\"yaxis\":{\"backgroundcolor\":\"white\",\"gridcolor\":\"rgb(232,232,232)\",\"gridwidth\":2,\"linecolor\":\"rgb(36,36,36)\",\"showbackground\":true,\"showgrid\":false,\"showline\":true,\"ticks\":\"outside\",\"zeroline\":false,\"zerolinecolor\":\"rgb(36,36,36)\"},\"zaxis\":{\"backgroundcolor\":\"white\",\"gridcolor\":\"rgb(232,232,232)\",\"gridwidth\":2,\"linecolor\":\"rgb(36,36,36)\",\"showbackground\":true,\"showgrid\":false,\"showline\":true,\"ticks\":\"outside\",\"zeroline\":false,\"zerolinecolor\":\"rgb(36,36,36)\"}},\"shapedefaults\":{\"fillcolor\":\"black\",\"line\":{\"width\":0},\"opacity\":0.3},\"ternary\":{\"aaxis\":{\"gridcolor\":\"rgb(232,232,232)\",\"linecolor\":\"rgb(36,36,36)\",\"showgrid\":false,\"showline\":true,\"ticks\":\"outside\"},\"baxis\":{\"gridcolor\":\"rgb(232,232,232)\",\"linecolor\":\"rgb(36,36,36)\",\"showgrid\":false,\"showline\":true,\"ticks\":\"outside\"},\"bgcolor\":\"white\",\"caxis\":{\"gridcolor\":\"rgb(232,232,232)\",\"linecolor\":\"rgb(36,36,36)\",\"showgrid\":false,\"showline\":true,\"ticks\":\"outside\"}},\"title\":{\"x\":0.05},\"xaxis\":{\"automargin\":true,\"gridcolor\":\"rgb(232,232,232)\",\"linecolor\":\"rgb(36,36,36)\",\"showgrid\":false,\"showline\":true,\"ticks\":\"outside\",\"title\":{\"standoff\":15},\"zeroline\":false,\"zerolinecolor\":\"rgb(36,36,36)\"},\"yaxis\":{\"automargin\":true,\"gridcolor\":\"rgb(232,232,232)\",\"linecolor\":\"rgb(36,36,36)\",\"showgrid\":false,\"showline\":true,\"ticks\":\"outside\",\"title\":{\"standoff\":15},\"zeroline\":false,\"zerolinecolor\":\"rgb(36,36,36)\"}}},\"title\":{\"font\":{\"size\":22,\"color\":\"Black\"},\"text\":\"\\u003cb\\u003eTopic Probability Distribution\\u003c\\u002fb\\u003e\",\"y\":0.95,\"x\":0.5,\"xanchor\":\"center\",\"yanchor\":\"top\"},\"hoverlabel\":{\"font\":{\"size\":16,\"family\":\"Rockwell\"},\"bgcolor\":\"white\"},\"xaxis\":{\"title\":{\"text\":\"Probability\"}},\"width\":800,\"height\":600},                        {\"responsive\": true}                    ).then(function(){\n",
       "                            \n",
       "var gd = document.getElementById('66edf3ed-5572-4b64-b425-86254c5297a9');\n",
       "var x = new MutationObserver(function (mutations, observer) {{\n",
       "        var display = window.getComputedStyle(gd).display;\n",
       "        if (!display || display === 'none') {{\n",
       "            console.log([gd, 'removed!']);\n",
       "            Plotly.purge(gd);\n",
       "            observer.disconnect();\n",
       "        }}\n",
       "}});\n",
       "\n",
       "// Listen for the removal of the full notebook cells\n",
       "var notebookContainer = gd.closest('#notebook-container');\n",
       "if (notebookContainer) {{\n",
       "    x.observe(notebookContainer, {childList: true});\n",
       "}}\n",
       "\n",
       "// Listen for the clearing of the current output cell\n",
       "var outputEl = gd.closest('.output');\n",
       "if (outputEl) {{\n",
       "    x.observe(outputEl, {childList: true});\n",
       "}}\n",
       "\n",
       "                        })                };                });            </script>        </div>"
      ]
     },
     "metadata": {},
     "output_type": "display_data"
    }
   ],
   "source": [
    "topic_model.visualize_distribution(topic_distr[1])"
   ]
  },
  {
   "cell_type": "code",
   "execution_count": 78,
   "metadata": {
    "tags": []
   },
   "outputs": [
    {
     "data": {
      "text/html": [
       "<div>\n",
       "<style scoped>\n",
       "    .dataframe tbody tr th:only-of-type {\n",
       "        vertical-align: middle;\n",
       "    }\n",
       "\n",
       "    .dataframe tbody tr th {\n",
       "        vertical-align: top;\n",
       "    }\n",
       "\n",
       "    .dataframe thead th {\n",
       "        text-align: right;\n",
       "    }\n",
       "</style>\n",
       "<table border=\"1\" class=\"dataframe\">\n",
       "  <thead>\n",
       "    <tr style=\"text-align: right;\">\n",
       "      <th></th>\n",
       "      <th>Topic</th>\n",
       "      <th>Count</th>\n",
       "      <th>Name</th>\n",
       "      <th>Representation</th>\n",
       "      <th>Representative_Docs</th>\n",
       "    </tr>\n",
       "  </thead>\n",
       "  <tbody>\n",
       "    <tr>\n",
       "      <th>0</th>\n",
       "      <td>-1</td>\n",
       "      <td>1431</td>\n",
       "      <td>-1_apple_company_market_said</td>\n",
       "      <td>[apple, company, market, said, year, stock, aa...</td>\n",
       "      <td>[The following post written andor published co...</td>\n",
       "    </tr>\n",
       "    <tr>\n",
       "      <th>1</th>\n",
       "      <td>0</td>\n",
       "      <td>1393</td>\n",
       "      <td>0_company_market_index_stock</td>\n",
       "      <td>[company, market, index, stock, share, fell, e...</td>\n",
       "      <td>[There  likely going hunt direction morning in...</td>\n",
       "    </tr>\n",
       "    <tr>\n",
       "      <th>2</th>\n",
       "      <td>1</td>\n",
       "      <td>592</td>\n",
       "      <td>1_apple_app_said_company</td>\n",
       "      <td>[apple, app, said, company, twitter, store, us...</td>\n",
       "      <td>[After Apple Inc AAPL said allow app developer...</td>\n",
       "    </tr>\n",
       "    <tr>\n",
       "      <th>3</th>\n",
       "      <td>2</td>\n",
       "      <td>574</td>\n",
       "      <td>2_apple_iphone_said_analyst</td>\n",
       "      <td>[apple, iphone, said, analyst, pro, aapl, devi...</td>\n",
       "      <td>[Apple Inc AAPL share come selling pressure co...</td>\n",
       "    </tr>\n",
       "    <tr>\n",
       "      <th>4</th>\n",
       "      <td>3</td>\n",
       "      <td>406</td>\n",
       "      <td>3_apple_china_chip_company</td>\n",
       "      <td>[apple, china, chip, company, said, production...</td>\n",
       "      <td>[CNBCIntel Forges Foundry Chip Collaboration W...</td>\n",
       "    </tr>\n",
       "    <tr>\n",
       "      <th>5</th>\n",
       "      <td>4</td>\n",
       "      <td>258</td>\n",
       "      <td>4_tesla_vehicle_ev_car</td>\n",
       "      <td>[tesla, vehicle, ev, car, apple, electric, com...</td>\n",
       "      <td>[Popular money manager Cathie Wood Wednesday d...</td>\n",
       "    </tr>\n",
       "    <tr>\n",
       "      <th>6</th>\n",
       "      <td>5</td>\n",
       "      <td>248</td>\n",
       "      <td>5_netflix_streaming_apple_game</td>\n",
       "      <td>[netflix, streaming, apple, game, service, com...</td>\n",
       "      <td>[Streaming giant Netflix Inc NFLX known bingew...</td>\n",
       "    </tr>\n",
       "    <tr>\n",
       "      <th>7</th>\n",
       "      <td>6</td>\n",
       "      <td>105</td>\n",
       "      <td>6_apple_stock_aapl_price</td>\n",
       "      <td>[apple, stock, aapl, price, loading, pattern, ...</td>\n",
       "      <td>[Loading  Loading  Apple AAPL outperformed mar...</td>\n",
       "    </tr>\n",
       "    <tr>\n",
       "      <th>8</th>\n",
       "      <td>7</td>\n",
       "      <td>94</td>\n",
       "      <td>7_high_52week high_52week_new 52week</td>\n",
       "      <td>[high, 52week high, 52week, new 52week, new 52...</td>\n",
       "      <td>[Loading  Loading  This morning 320 company re...</td>\n",
       "    </tr>\n",
       "    <tr>\n",
       "      <th>9</th>\n",
       "      <td>8</td>\n",
       "      <td>57</td>\n",
       "      <td>8_cannabis_company_cbd_industry</td>\n",
       "      <td>[cannabis, company, cbd, industry, marijuana, ...</td>\n",
       "      <td>[What week cannabis stock  Finally rebounding ...</td>\n",
       "    </tr>\n",
       "    <tr>\n",
       "      <th>10</th>\n",
       "      <td>9</td>\n",
       "      <td>47</td>\n",
       "      <td>9_film_movie_best_disney</td>\n",
       "      <td>[film, movie, best, disney, award, nomination,...</td>\n",
       "      <td>[While movie lover debating surprise snub late...</td>\n",
       "    </tr>\n",
       "    <tr>\n",
       "      <th>11</th>\n",
       "      <td>10</td>\n",
       "      <td>31</td>\n",
       "      <td>10_russia_russian_ukraine_said</td>\n",
       "      <td>[russia, russian, ukraine, said, apple, invasi...</td>\n",
       "      <td>[With Russian ruble sinking fresh low global c...</td>\n",
       "    </tr>\n",
       "    <tr>\n",
       "      <th>12</th>\n",
       "      <td>11</td>\n",
       "      <td>28</td>\n",
       "      <td>11_et_scheduled_loading_august</td>\n",
       "      <td>[et, scheduled, loading, august, released, sep...</td>\n",
       "      <td>[Loading  Loading  US stock closed lower Tuesd...</td>\n",
       "    </tr>\n",
       "    <tr>\n",
       "      <th>13</th>\n",
       "      <td>12</td>\n",
       "      <td>21</td>\n",
       "      <td>12_tiktok_app_meta_video</td>\n",
       "      <td>[tiktok, app, meta, video, instagram, reels, u...</td>\n",
       "      <td>[The drama fate popular Chineseowned social me...</td>\n",
       "    </tr>\n",
       "    <tr>\n",
       "      <th>14</th>\n",
       "      <td>13</td>\n",
       "      <td>20</td>\n",
       "      <td>13_pelosi_congress_member congress_option</td>\n",
       "      <td>[pelosi, congress, member congress, option, me...</td>\n",
       "      <td>[Speaker House Nancy Pelosi one highprofile me...</td>\n",
       "    </tr>\n",
       "    <tr>\n",
       "      <th>15</th>\n",
       "      <td>14</td>\n",
       "      <td>18</td>\n",
       "      <td>14_debt_debtratio_ratio_current debt</td>\n",
       "      <td>[debt, debtratio, ratio, current debt, longter...</td>\n",
       "      <td>[Over past three month  share Apple AAPL moved...</td>\n",
       "    </tr>\n",
       "    <tr>\n",
       "      <th>16</th>\n",
       "      <td>15</td>\n",
       "      <td>15</td>\n",
       "      <td>15_disney_company_iger_streaming</td>\n",
       "      <td>[disney, company, iger, streaming, dis, park, ...</td>\n",
       "      <td>[Once upon time  last quarter  The Walt Disney...</td>\n",
       "    </tr>\n",
       "    <tr>\n",
       "      <th>17</th>\n",
       "      <td>16</td>\n",
       "      <td>13</td>\n",
       "      <td>16_computer_jobs_auction_apple</td>\n",
       "      <td>[computer, jobs, auction, apple, steve, ipod, ...</td>\n",
       "      <td>[Apple Inc AAPL fan collector excited see offe...</td>\n",
       "    </tr>\n",
       "    <tr>\n",
       "      <th>18</th>\n",
       "      <td>17</td>\n",
       "      <td>13</td>\n",
       "      <td>17_roku_streaming_tv_growth</td>\n",
       "      <td>[roku, streaming, tv, growth, million, disney,...</td>\n",
       "      <td>[You would think category nominee includes Net...</td>\n",
       "    </tr>\n",
       "    <tr>\n",
       "      <th>19</th>\n",
       "      <td>18</td>\n",
       "      <td>11</td>\n",
       "      <td>18_saudi_aramco_oil_saudi aramco</td>\n",
       "      <td>[saudi, aramco, oil, saudi aramco, company, oi...</td>\n",
       "      <td>[Suggestions much Saudi Aramco actually worth ...</td>\n",
       "    </tr>\n",
       "  </tbody>\n",
       "</table>\n",
       "</div>"
      ],
      "text/plain": [
       "    Topic  Count                                       Name  \\\n",
       "0      -1   1431               -1_apple_company_market_said   \n",
       "1       0   1393               0_company_market_index_stock   \n",
       "2       1    592                   1_apple_app_said_company   \n",
       "3       2    574                2_apple_iphone_said_analyst   \n",
       "4       3    406                 3_apple_china_chip_company   \n",
       "5       4    258                     4_tesla_vehicle_ev_car   \n",
       "6       5    248             5_netflix_streaming_apple_game   \n",
       "7       6    105                   6_apple_stock_aapl_price   \n",
       "8       7     94       7_high_52week high_52week_new 52week   \n",
       "9       8     57            8_cannabis_company_cbd_industry   \n",
       "10      9     47                   9_film_movie_best_disney   \n",
       "11     10     31             10_russia_russian_ukraine_said   \n",
       "12     11     28             11_et_scheduled_loading_august   \n",
       "13     12     21                   12_tiktok_app_meta_video   \n",
       "14     13     20  13_pelosi_congress_member congress_option   \n",
       "15     14     18       14_debt_debtratio_ratio_current debt   \n",
       "16     15     15           15_disney_company_iger_streaming   \n",
       "17     16     13             16_computer_jobs_auction_apple   \n",
       "18     17     13                17_roku_streaming_tv_growth   \n",
       "19     18     11           18_saudi_aramco_oil_saudi aramco   \n",
       "\n",
       "                                       Representation  \\\n",
       "0   [apple, company, market, said, year, stock, aa...   \n",
       "1   [company, market, index, stock, share, fell, e...   \n",
       "2   [apple, app, said, company, twitter, store, us...   \n",
       "3   [apple, iphone, said, analyst, pro, aapl, devi...   \n",
       "4   [apple, china, chip, company, said, production...   \n",
       "5   [tesla, vehicle, ev, car, apple, electric, com...   \n",
       "6   [netflix, streaming, apple, game, service, com...   \n",
       "7   [apple, stock, aapl, price, loading, pattern, ...   \n",
       "8   [high, 52week high, 52week, new 52week, new 52...   \n",
       "9   [cannabis, company, cbd, industry, marijuana, ...   \n",
       "10  [film, movie, best, disney, award, nomination,...   \n",
       "11  [russia, russian, ukraine, said, apple, invasi...   \n",
       "12  [et, scheduled, loading, august, released, sep...   \n",
       "13  [tiktok, app, meta, video, instagram, reels, u...   \n",
       "14  [pelosi, congress, member congress, option, me...   \n",
       "15  [debt, debtratio, ratio, current debt, longter...   \n",
       "16  [disney, company, iger, streaming, dis, park, ...   \n",
       "17  [computer, jobs, auction, apple, steve, ipod, ...   \n",
       "18  [roku, streaming, tv, growth, million, disney,...   \n",
       "19  [saudi, aramco, oil, saudi aramco, company, oi...   \n",
       "\n",
       "                                  Representative_Docs  \n",
       "0   [The following post written andor published co...  \n",
       "1   [There  likely going hunt direction morning in...  \n",
       "2   [After Apple Inc AAPL said allow app developer...  \n",
       "3   [Apple Inc AAPL share come selling pressure co...  \n",
       "4   [CNBCIntel Forges Foundry Chip Collaboration W...  \n",
       "5   [Popular money manager Cathie Wood Wednesday d...  \n",
       "6   [Streaming giant Netflix Inc NFLX known bingew...  \n",
       "7   [Loading  Loading  Apple AAPL outperformed mar...  \n",
       "8   [Loading  Loading  This morning 320 company re...  \n",
       "9   [What week cannabis stock  Finally rebounding ...  \n",
       "10  [While movie lover debating surprise snub late...  \n",
       "11  [With Russian ruble sinking fresh low global c...  \n",
       "12  [Loading  Loading  US stock closed lower Tuesd...  \n",
       "13  [The drama fate popular Chineseowned social me...  \n",
       "14  [Speaker House Nancy Pelosi one highprofile me...  \n",
       "15  [Over past three month  share Apple AAPL moved...  \n",
       "16  [Once upon time  last quarter  The Walt Disney...  \n",
       "17  [Apple Inc AAPL fan collector excited see offe...  \n",
       "18  [You would think category nominee includes Net...  \n",
       "19  [Suggestions much Saudi Aramco actually worth ...  "
      ]
     },
     "execution_count": 78,
     "metadata": {},
     "output_type": "execute_result"
    }
   ],
   "source": [
    "topic_info_df = topic_model.get_topic_info()\n",
    "topic_info_df.head(20)"
   ]
  },
  {
   "cell_type": "markdown",
   "metadata": {},
   "source": [
    "## Step1: Get the semantic score for each topic"
   ]
  },
  {
   "cell_type": "code",
   "execution_count": 85,
   "metadata": {
    "tags": []
   },
   "outputs": [],
   "source": [
    "# Initialize Finbert topkenizer and model\n",
    "finbert_tokenizer = AutoTokenizer.from_pretrained(\"ProsusAI/finbert\")\n",
    "finbert_model = AutoModelForSequenceClassification.from_pretrained(\"ProsusAI/finbert\")\n",
    "\n",
    "# Get number of topics \n",
    "topic_num = len(topic_info_df) \n",
    "\n",
    "# Start with 1 because topic -1 are outliers\n",
    "for i in range(1,topic_num):\n",
    "    start_pos = 512\n",
    "    end_pos = 512 * 2\n",
    "    \n",
    "    # Get representative documents\n",
    "    representative_docs = topic_info_df.loc[i][\"Representative_Docs\"]\n",
    "    \n",
    "    # Get the raw list data for Finbert (There are multiple representative documents for each topic)\n",
    "    raw_list_data_for_finbert = [x[start_pos:end_pos] for x in representative_docs]\n",
    "    \n",
    "    # Tokenize the raw text\n",
    "    finbert_mat = finbert_tokenizer(\n",
    "        raw_list_data_for_finbert, padding=True, return_tensors=\"pt\"\n",
    "    )\n",
    "\n",
    "    # Get the output and the predictions \n",
    "    outputs = finbert_model(**finbert_mat)\n",
    "    predictions = torch.nn.functional.softmax(outputs.logits, dim=-1)\n",
    "    \n",
    "    # Calculate the mean value of all representative documents are the score of the topic\n",
    "    mean_values = torch.mean(predictions, dim=0)\n",
    "    \n",
    "    # Add the semantic score to the topic dataframe\n",
    "    mean_value_list = mean_values.tolist()\n",
    "    topic_info_df.loc[i,\"positive\"] = mean_value_list[0]\n",
    "    topic_info_df.loc[i,\"negative\"] = mean_value_list[1]\n",
    "    topic_info_df.loc[i,\"neutral\"] = mean_value_list[2]"
   ]
  },
  {
   "cell_type": "code",
   "execution_count": 86,
   "metadata": {
    "tags": []
   },
   "outputs": [
    {
     "data": {
      "text/html": [
       "<div>\n",
       "<style scoped>\n",
       "    .dataframe tbody tr th:only-of-type {\n",
       "        vertical-align: middle;\n",
       "    }\n",
       "\n",
       "    .dataframe tbody tr th {\n",
       "        vertical-align: top;\n",
       "    }\n",
       "\n",
       "    .dataframe thead th {\n",
       "        text-align: right;\n",
       "    }\n",
       "</style>\n",
       "<table border=\"1\" class=\"dataframe\">\n",
       "  <thead>\n",
       "    <tr style=\"text-align: right;\">\n",
       "      <th></th>\n",
       "      <th>Topic</th>\n",
       "      <th>Count</th>\n",
       "      <th>Name</th>\n",
       "      <th>Representation</th>\n",
       "      <th>Representative_Docs</th>\n",
       "      <th>positive</th>\n",
       "      <th>negative</th>\n",
       "      <th>neutral</th>\n",
       "    </tr>\n",
       "  </thead>\n",
       "  <tbody>\n",
       "    <tr>\n",
       "      <th>0</th>\n",
       "      <td>-1</td>\n",
       "      <td>1431</td>\n",
       "      <td>-1_apple_company_market_said</td>\n",
       "      <td>[apple, company, market, said, year, stock, aa...</td>\n",
       "      <td>[The following post written andor published co...</td>\n",
       "      <td>NaN</td>\n",
       "      <td>NaN</td>\n",
       "      <td>NaN</td>\n",
       "    </tr>\n",
       "    <tr>\n",
       "      <th>1</th>\n",
       "      <td>0</td>\n",
       "      <td>1393</td>\n",
       "      <td>0_company_market_index_stock</td>\n",
       "      <td>[company, market, index, stock, share, fell, e...</td>\n",
       "      <td>[There  likely going hunt direction morning in...</td>\n",
       "      <td>0.114677</td>\n",
       "      <td>0.767449</td>\n",
       "      <td>0.117874</td>\n",
       "    </tr>\n",
       "    <tr>\n",
       "      <th>2</th>\n",
       "      <td>1</td>\n",
       "      <td>592</td>\n",
       "      <td>1_apple_app_said_company</td>\n",
       "      <td>[apple, app, said, company, twitter, store, us...</td>\n",
       "      <td>[After Apple Inc AAPL said allow app developer...</td>\n",
       "      <td>0.083852</td>\n",
       "      <td>0.388963</td>\n",
       "      <td>0.527185</td>\n",
       "    </tr>\n",
       "    <tr>\n",
       "      <th>3</th>\n",
       "      <td>2</td>\n",
       "      <td>574</td>\n",
       "      <td>2_apple_iphone_said_analyst</td>\n",
       "      <td>[apple, iphone, said, analyst, pro, aapl, devi...</td>\n",
       "      <td>[Apple Inc AAPL share come selling pressure co...</td>\n",
       "      <td>0.443813</td>\n",
       "      <td>0.046021</td>\n",
       "      <td>0.510166</td>\n",
       "    </tr>\n",
       "    <tr>\n",
       "      <th>4</th>\n",
       "      <td>3</td>\n",
       "      <td>406</td>\n",
       "      <td>3_apple_china_chip_company</td>\n",
       "      <td>[apple, china, chip, company, said, production...</td>\n",
       "      <td>[CNBCIntel Forges Foundry Chip Collaboration W...</td>\n",
       "      <td>0.156573</td>\n",
       "      <td>0.640801</td>\n",
       "      <td>0.202626</td>\n",
       "    </tr>\n",
       "    <tr>\n",
       "      <th>5</th>\n",
       "      <td>4</td>\n",
       "      <td>258</td>\n",
       "      <td>4_tesla_vehicle_ev_car</td>\n",
       "      <td>[tesla, vehicle, ev, car, apple, electric, com...</td>\n",
       "      <td>[Popular money manager Cathie Wood Wednesday d...</td>\n",
       "      <td>0.118601</td>\n",
       "      <td>0.146047</td>\n",
       "      <td>0.735352</td>\n",
       "    </tr>\n",
       "    <tr>\n",
       "      <th>6</th>\n",
       "      <td>5</td>\n",
       "      <td>248</td>\n",
       "      <td>5_netflix_streaming_apple_game</td>\n",
       "      <td>[netflix, streaming, apple, game, service, com...</td>\n",
       "      <td>[Streaming giant Netflix Inc NFLX known bingew...</td>\n",
       "      <td>0.446217</td>\n",
       "      <td>0.015597</td>\n",
       "      <td>0.538185</td>\n",
       "    </tr>\n",
       "    <tr>\n",
       "      <th>7</th>\n",
       "      <td>6</td>\n",
       "      <td>105</td>\n",
       "      <td>6_apple_stock_aapl_price</td>\n",
       "      <td>[apple, stock, aapl, price, loading, pattern, ...</td>\n",
       "      <td>[Loading  Loading  Apple AAPL outperformed mar...</td>\n",
       "      <td>0.140298</td>\n",
       "      <td>0.072589</td>\n",
       "      <td>0.787112</td>\n",
       "    </tr>\n",
       "    <tr>\n",
       "      <th>8</th>\n",
       "      <td>7</td>\n",
       "      <td>94</td>\n",
       "      <td>7_high_52week high_52week_new 52week</td>\n",
       "      <td>[high, 52week high, 52week, new 52week, new 52...</td>\n",
       "      <td>[Loading  Loading  This morning 320 company re...</td>\n",
       "      <td>0.148438</td>\n",
       "      <td>0.026158</td>\n",
       "      <td>0.825404</td>\n",
       "    </tr>\n",
       "    <tr>\n",
       "      <th>9</th>\n",
       "      <td>8</td>\n",
       "      <td>57</td>\n",
       "      <td>8_cannabis_company_cbd_industry</td>\n",
       "      <td>[cannabis, company, cbd, industry, marijuana, ...</td>\n",
       "      <td>[What week cannabis stock  Finally rebounding ...</td>\n",
       "      <td>0.393401</td>\n",
       "      <td>0.106756</td>\n",
       "      <td>0.499842</td>\n",
       "    </tr>\n",
       "    <tr>\n",
       "      <th>10</th>\n",
       "      <td>9</td>\n",
       "      <td>47</td>\n",
       "      <td>9_film_movie_best_disney</td>\n",
       "      <td>[film, movie, best, disney, award, nomination,...</td>\n",
       "      <td>[While movie lover debating surprise snub late...</td>\n",
       "      <td>0.357348</td>\n",
       "      <td>0.030129</td>\n",
       "      <td>0.612523</td>\n",
       "    </tr>\n",
       "    <tr>\n",
       "      <th>11</th>\n",
       "      <td>10</td>\n",
       "      <td>31</td>\n",
       "      <td>10_russia_russian_ukraine_said</td>\n",
       "      <td>[russia, russian, ukraine, said, apple, invasi...</td>\n",
       "      <td>[With Russian ruble sinking fresh low global c...</td>\n",
       "      <td>0.332308</td>\n",
       "      <td>0.364614</td>\n",
       "      <td>0.303078</td>\n",
       "    </tr>\n",
       "    <tr>\n",
       "      <th>12</th>\n",
       "      <td>11</td>\n",
       "      <td>28</td>\n",
       "      <td>11_et_scheduled_loading_august</td>\n",
       "      <td>[et, scheduled, loading, august, released, sep...</td>\n",
       "      <td>[Loading  Loading  US stock closed lower Tuesd...</td>\n",
       "      <td>0.024167</td>\n",
       "      <td>0.106101</td>\n",
       "      <td>0.869732</td>\n",
       "    </tr>\n",
       "    <tr>\n",
       "      <th>13</th>\n",
       "      <td>12</td>\n",
       "      <td>21</td>\n",
       "      <td>12_tiktok_app_meta_video</td>\n",
       "      <td>[tiktok, app, meta, video, instagram, reels, u...</td>\n",
       "      <td>[The drama fate popular Chineseowned social me...</td>\n",
       "      <td>0.061465</td>\n",
       "      <td>0.103854</td>\n",
       "      <td>0.834681</td>\n",
       "    </tr>\n",
       "    <tr>\n",
       "      <th>14</th>\n",
       "      <td>13</td>\n",
       "      <td>20</td>\n",
       "      <td>13_pelosi_congress_member congress_option</td>\n",
       "      <td>[pelosi, congress, member congress, option, me...</td>\n",
       "      <td>[Speaker House Nancy Pelosi one highprofile me...</td>\n",
       "      <td>0.053567</td>\n",
       "      <td>0.039481</td>\n",
       "      <td>0.906952</td>\n",
       "    </tr>\n",
       "    <tr>\n",
       "      <th>15</th>\n",
       "      <td>14</td>\n",
       "      <td>18</td>\n",
       "      <td>14_debt_debtratio_ratio_current debt</td>\n",
       "      <td>[debt, debtratio, ratio, current debt, longter...</td>\n",
       "      <td>[Over past three month  share Apple AAPL moved...</td>\n",
       "      <td>0.108018</td>\n",
       "      <td>0.027938</td>\n",
       "      <td>0.864044</td>\n",
       "    </tr>\n",
       "    <tr>\n",
       "      <th>16</th>\n",
       "      <td>15</td>\n",
       "      <td>15</td>\n",
       "      <td>15_disney_company_iger_streaming</td>\n",
       "      <td>[disney, company, iger, streaming, dis, park, ...</td>\n",
       "      <td>[Once upon time  last quarter  The Walt Disney...</td>\n",
       "      <td>0.146475</td>\n",
       "      <td>0.024412</td>\n",
       "      <td>0.829112</td>\n",
       "    </tr>\n",
       "    <tr>\n",
       "      <th>17</th>\n",
       "      <td>16</td>\n",
       "      <td>13</td>\n",
       "      <td>16_computer_jobs_auction_apple</td>\n",
       "      <td>[computer, jobs, auction, apple, steve, ipod, ...</td>\n",
       "      <td>[Apple Inc AAPL fan collector excited see offe...</td>\n",
       "      <td>0.173113</td>\n",
       "      <td>0.037971</td>\n",
       "      <td>0.788916</td>\n",
       "    </tr>\n",
       "    <tr>\n",
       "      <th>18</th>\n",
       "      <td>17</td>\n",
       "      <td>13</td>\n",
       "      <td>17_roku_streaming_tv_growth</td>\n",
       "      <td>[roku, streaming, tv, growth, million, disney,...</td>\n",
       "      <td>[You would think category nominee includes Net...</td>\n",
       "      <td>0.670017</td>\n",
       "      <td>0.216594</td>\n",
       "      <td>0.113388</td>\n",
       "    </tr>\n",
       "    <tr>\n",
       "      <th>19</th>\n",
       "      <td>18</td>\n",
       "      <td>11</td>\n",
       "      <td>18_saudi_aramco_oil_saudi aramco</td>\n",
       "      <td>[saudi, aramco, oil, saudi aramco, company, oi...</td>\n",
       "      <td>[Suggestions much Saudi Aramco actually worth ...</td>\n",
       "      <td>0.325809</td>\n",
       "      <td>0.113966</td>\n",
       "      <td>0.560225</td>\n",
       "    </tr>\n",
       "  </tbody>\n",
       "</table>\n",
       "</div>"
      ],
      "text/plain": [
       "    Topic  Count                                       Name  \\\n",
       "0      -1   1431               -1_apple_company_market_said   \n",
       "1       0   1393               0_company_market_index_stock   \n",
       "2       1    592                   1_apple_app_said_company   \n",
       "3       2    574                2_apple_iphone_said_analyst   \n",
       "4       3    406                 3_apple_china_chip_company   \n",
       "5       4    258                     4_tesla_vehicle_ev_car   \n",
       "6       5    248             5_netflix_streaming_apple_game   \n",
       "7       6    105                   6_apple_stock_aapl_price   \n",
       "8       7     94       7_high_52week high_52week_new 52week   \n",
       "9       8     57            8_cannabis_company_cbd_industry   \n",
       "10      9     47                   9_film_movie_best_disney   \n",
       "11     10     31             10_russia_russian_ukraine_said   \n",
       "12     11     28             11_et_scheduled_loading_august   \n",
       "13     12     21                   12_tiktok_app_meta_video   \n",
       "14     13     20  13_pelosi_congress_member congress_option   \n",
       "15     14     18       14_debt_debtratio_ratio_current debt   \n",
       "16     15     15           15_disney_company_iger_streaming   \n",
       "17     16     13             16_computer_jobs_auction_apple   \n",
       "18     17     13                17_roku_streaming_tv_growth   \n",
       "19     18     11           18_saudi_aramco_oil_saudi aramco   \n",
       "\n",
       "                                       Representation  \\\n",
       "0   [apple, company, market, said, year, stock, aa...   \n",
       "1   [company, market, index, stock, share, fell, e...   \n",
       "2   [apple, app, said, company, twitter, store, us...   \n",
       "3   [apple, iphone, said, analyst, pro, aapl, devi...   \n",
       "4   [apple, china, chip, company, said, production...   \n",
       "5   [tesla, vehicle, ev, car, apple, electric, com...   \n",
       "6   [netflix, streaming, apple, game, service, com...   \n",
       "7   [apple, stock, aapl, price, loading, pattern, ...   \n",
       "8   [high, 52week high, 52week, new 52week, new 52...   \n",
       "9   [cannabis, company, cbd, industry, marijuana, ...   \n",
       "10  [film, movie, best, disney, award, nomination,...   \n",
       "11  [russia, russian, ukraine, said, apple, invasi...   \n",
       "12  [et, scheduled, loading, august, released, sep...   \n",
       "13  [tiktok, app, meta, video, instagram, reels, u...   \n",
       "14  [pelosi, congress, member congress, option, me...   \n",
       "15  [debt, debtratio, ratio, current debt, longter...   \n",
       "16  [disney, company, iger, streaming, dis, park, ...   \n",
       "17  [computer, jobs, auction, apple, steve, ipod, ...   \n",
       "18  [roku, streaming, tv, growth, million, disney,...   \n",
       "19  [saudi, aramco, oil, saudi aramco, company, oi...   \n",
       "\n",
       "                                  Representative_Docs  positive  negative  \\\n",
       "0   [The following post written andor published co...       NaN       NaN   \n",
       "1   [There  likely going hunt direction morning in...  0.114677  0.767449   \n",
       "2   [After Apple Inc AAPL said allow app developer...  0.083852  0.388963   \n",
       "3   [Apple Inc AAPL share come selling pressure co...  0.443813  0.046021   \n",
       "4   [CNBCIntel Forges Foundry Chip Collaboration W...  0.156573  0.640801   \n",
       "5   [Popular money manager Cathie Wood Wednesday d...  0.118601  0.146047   \n",
       "6   [Streaming giant Netflix Inc NFLX known bingew...  0.446217  0.015597   \n",
       "7   [Loading  Loading  Apple AAPL outperformed mar...  0.140298  0.072589   \n",
       "8   [Loading  Loading  This morning 320 company re...  0.148438  0.026158   \n",
       "9   [What week cannabis stock  Finally rebounding ...  0.393401  0.106756   \n",
       "10  [While movie lover debating surprise snub late...  0.357348  0.030129   \n",
       "11  [With Russian ruble sinking fresh low global c...  0.332308  0.364614   \n",
       "12  [Loading  Loading  US stock closed lower Tuesd...  0.024167  0.106101   \n",
       "13  [The drama fate popular Chineseowned social me...  0.061465  0.103854   \n",
       "14  [Speaker House Nancy Pelosi one highprofile me...  0.053567  0.039481   \n",
       "15  [Over past three month  share Apple AAPL moved...  0.108018  0.027938   \n",
       "16  [Once upon time  last quarter  The Walt Disney...  0.146475  0.024412   \n",
       "17  [Apple Inc AAPL fan collector excited see offe...  0.173113  0.037971   \n",
       "18  [You would think category nominee includes Net...  0.670017  0.216594   \n",
       "19  [Suggestions much Saudi Aramco actually worth ...  0.325809  0.113966   \n",
       "\n",
       "     neutral  \n",
       "0        NaN  \n",
       "1   0.117874  \n",
       "2   0.527185  \n",
       "3   0.510166  \n",
       "4   0.202626  \n",
       "5   0.735352  \n",
       "6   0.538185  \n",
       "7   0.787112  \n",
       "8   0.825404  \n",
       "9   0.499842  \n",
       "10  0.612523  \n",
       "11  0.303078  \n",
       "12  0.869732  \n",
       "13  0.834681  \n",
       "14  0.906952  \n",
       "15  0.864044  \n",
       "16  0.829112  \n",
       "17  0.788916  \n",
       "18  0.113388  \n",
       "19  0.560225  "
      ]
     },
     "execution_count": 86,
     "metadata": {},
     "output_type": "execute_result"
    }
   ],
   "source": [
    "topic_info_df"
   ]
  },
  {
   "cell_type": "markdown",
   "metadata": {},
   "source": [
    "## Calculate the semantic score for each articles"
   ]
  },
  {
   "cell_type": "code",
   "execution_count": 106,
   "metadata": {
    "tags": []
   },
   "outputs": [],
   "source": [
    "def calculate_article_score(top_distribution, score_array):\n",
    "    product = [a * b for a, b in zip(top_distribution, score_array)]\n",
    "    sum_of_products = sum(product)\n",
    "    \n",
    "    return sum_of_products"
   ]
  },
  {
   "cell_type": "code",
   "execution_count": 110,
   "metadata": {
    "tags": []
   },
   "outputs": [
    {
     "data": {
      "text/html": [
       "<div>\n",
       "<style scoped>\n",
       "    .dataframe tbody tr th:only-of-type {\n",
       "        vertical-align: middle;\n",
       "    }\n",
       "\n",
       "    .dataframe tbody tr th {\n",
       "        vertical-align: top;\n",
       "    }\n",
       "\n",
       "    .dataframe thead th {\n",
       "        text-align: right;\n",
       "    }\n",
       "</style>\n",
       "<table border=\"1\" class=\"dataframe\">\n",
       "  <thead>\n",
       "    <tr style=\"text-align: right;\">\n",
       "      <th></th>\n",
       "      <th>id</th>\n",
       "      <th>ticker</th>\n",
       "      <th>title</th>\n",
       "      <th>url</th>\n",
       "      <th>article</th>\n",
       "      <th>date</th>\n",
       "      <th>positive</th>\n",
       "      <th>negative</th>\n",
       "      <th>neutral</th>\n",
       "    </tr>\n",
       "  </thead>\n",
       "  <tbody>\n",
       "    <tr>\n",
       "      <th>0</th>\n",
       "      <td>4235</td>\n",
       "      <td>AAPL</td>\n",
       "      <td>Microsoft, Alphabet, Meta, Apple, And Amazon L...</td>\n",
       "      <td>https://www.benzinga.com/news/earnings/22/07/2...</td>\n",
       "      <td>Monday Market Open  Investors appear optimist...</td>\n",
       "      <td>2022-07-25</td>\n",
       "      <td>0.173073</td>\n",
       "      <td>0.224189</td>\n",
       "      <td>0.602738</td>\n",
       "    </tr>\n",
       "    <tr>\n",
       "      <th>1</th>\n",
       "      <td>4376</td>\n",
       "      <td>AAPL</td>\n",
       "      <td>Benzinga Before The Bell: More Amazon Workers ...</td>\n",
       "      <td>https://www.benzinga.com/news/22/08/28532545/b...</td>\n",
       "      <td>CNBCBlackRock To Pledge A  1B In Australian Ba...</td>\n",
       "      <td>2022-08-17</td>\n",
       "      <td>0.229819</td>\n",
       "      <td>0.240403</td>\n",
       "      <td>0.529778</td>\n",
       "    </tr>\n",
       "    <tr>\n",
       "      <th>2</th>\n",
       "      <td>3</td>\n",
       "      <td>AAPL</td>\n",
       "      <td>Market Rebounds On Trade Optimism, Tech Bounce...</td>\n",
       "      <td>https://www.benzinga.com/node/12934767</td>\n",
       "      <td>A strongerthanexpected government report natio...</td>\n",
       "      <td>2019-01-04</td>\n",
       "      <td>0.194363</td>\n",
       "      <td>0.233131</td>\n",
       "      <td>0.572506</td>\n",
       "    </tr>\n",
       "    <tr>\n",
       "      <th>3</th>\n",
       "      <td>4</td>\n",
       "      <td>AAPL</td>\n",
       "      <td>American Shippers And Carriers React To Signs ...</td>\n",
       "      <td>https://www.benzinga.com/node/12938837</td>\n",
       "      <td>The first week 2019 saw three America 's large...</td>\n",
       "      <td>2019-01-07</td>\n",
       "      <td>0.208950</td>\n",
       "      <td>0.368660</td>\n",
       "      <td>0.422391</td>\n",
       "    </tr>\n",
       "    <tr>\n",
       "      <th>4</th>\n",
       "      <td>5</td>\n",
       "      <td>AAPL</td>\n",
       "      <td>TD Ameritrade IMX Continued Its Dip In Decembe...</td>\n",
       "      <td>https://www.benzinga.com/node/12953011</td>\n",
       "      <td>Declining third month row  TD Ameritrade  Dece...</td>\n",
       "      <td>2019-01-08</td>\n",
       "      <td>0.267878</td>\n",
       "      <td>0.213638</td>\n",
       "      <td>0.518484</td>\n",
       "    </tr>\n",
       "  </tbody>\n",
       "</table>\n",
       "</div>"
      ],
      "text/plain": [
       "     id ticker                                              title  \\\n",
       "0  4235   AAPL  Microsoft, Alphabet, Meta, Apple, And Amazon L...   \n",
       "1  4376   AAPL  Benzinga Before The Bell: More Amazon Workers ...   \n",
       "2     3   AAPL  Market Rebounds On Trade Optimism, Tech Bounce...   \n",
       "3     4   AAPL  American Shippers And Carriers React To Signs ...   \n",
       "4     5   AAPL  TD Ameritrade IMX Continued Its Dip In Decembe...   \n",
       "\n",
       "                                                 url  \\\n",
       "0  https://www.benzinga.com/news/earnings/22/07/2...   \n",
       "1  https://www.benzinga.com/news/22/08/28532545/b...   \n",
       "2             https://www.benzinga.com/node/12934767   \n",
       "3             https://www.benzinga.com/node/12938837   \n",
       "4             https://www.benzinga.com/node/12953011   \n",
       "\n",
       "                                             article        date  positive  \\\n",
       "0   Monday Market Open  Investors appear optimist...  2022-07-25  0.173073   \n",
       "1  CNBCBlackRock To Pledge A  1B In Australian Ba...  2022-08-17  0.229819   \n",
       "2  A strongerthanexpected government report natio...  2019-01-04  0.194363   \n",
       "3  The first week 2019 saw three America 's large...  2019-01-07  0.208950   \n",
       "4  Declining third month row  TD Ameritrade  Dece...  2019-01-08  0.267878   \n",
       "\n",
       "   negative   neutral  \n",
       "0  0.224189  0.602738  \n",
       "1  0.240403  0.529778  \n",
       "2  0.233131  0.572506  \n",
       "3  0.368660  0.422391  \n",
       "4  0.213638  0.518484  "
      ]
     },
     "execution_count": 110,
     "metadata": {},
     "output_type": "execute_result"
    }
   ],
   "source": [
    "# Get the topic scores\n",
    "topics_positive_score = topic_info_df[\"positive\"][1:].tolist()\n",
    "topics_negative_score = topic_info_df[\"negative\"][1:].tolist()\n",
    "topics_neutral_score = topic_info_df[\"neutral\"][1:].tolist()\n",
    "\n",
    "article_score_array = []\n",
    "\n",
    "for article_topic_distribution in topic_distr:\n",
    "    article_positive = calculate_score(article_topic_distribution, topics_positive_score)\n",
    "    article_negative = calculate_score(article_topic_distribution, topics_negative_score)\n",
    "    article_neutral = calculate_score(article_topic_distribution, topics_neutral_score)\n",
    "\n",
    "    article_score_array.append([article_positive, article_negative,  article_neutral])\n",
    "\n",
    "df[[\"positive\", \"negative\", \"neutral\"]] = article_score_array\n",
    "df.head()"
   ]
  },
  {
   "cell_type": "code",
   "execution_count": 7,
   "metadata": {
    "tags": []
   },
   "outputs": [],
   "source": [
    "#bert_topic_model.visualize_barchart()"
   ]
  },
  {
   "cell_type": "code",
   "execution_count": 8,
   "metadata": {
    "tags": []
   },
   "outputs": [],
   "source": [
    "#bert_topic_model.visualize_heatmap()"
   ]
  },
  {
   "cell_type": "code",
   "execution_count": 9,
   "metadata": {
    "tags": []
   },
   "outputs": [],
   "source": [
    "#bert_topic_model.visualize_topics()"
   ]
  },
  {
   "cell_type": "markdown",
   "metadata": {},
   "source": [
    "# Use Finbert Embedding"
   ]
  },
  {
   "cell_type": "code",
   "execution_count": 82,
   "metadata": {
    "tags": []
   },
   "outputs": [],
   "source": [
    "#finbert_embedding = FinbertEmbedding()"
   ]
  },
  {
   "cell_type": "code",
   "execution_count": 83,
   "metadata": {
    "tags": []
   },
   "outputs": [],
   "source": [
    "# bert_topic_model = BERTopic(\n",
    "#     embedding_model=finbert_embedding,\n",
    "#     language=\"english\",\n",
    "#     calculate_probabilities=True,\n",
    "#     nr_topics=10,\n",
    "# )\n",
    "# topics, probs = bert_topic_model.fit_transform(list(df[\"article\"]))\n",
    "# freq = bert_topic_model.get_topic_info()\n",
    "# freq.head(10)"
   ]
  },
  {
   "cell_type": "code",
   "execution_count": null,
   "metadata": {
    "tags": []
   },
   "outputs": [],
   "source": [
    "#bert_topic_model.visualize_barchart()"
   ]
  },
  {
   "cell_type": "code",
   "execution_count": null,
   "metadata": {
    "tags": []
   },
   "outputs": [],
   "source": [
    "#bert_topic_model.visualize_heatmap()"
   ]
  },
  {
   "cell_type": "code",
   "execution_count": null,
   "metadata": {
    "tags": []
   },
   "outputs": [],
   "source": [
    "#bert_topic_model.visualize_topics()"
   ]
  },
  {
   "cell_type": "code",
   "execution_count": null,
   "metadata": {},
   "outputs": [],
   "source": []
  }
 ],
 "metadata": {
  "kernelspec": {
   "display_name": "Python 3 (ipykernel)",
   "language": "python",
   "name": "python3"
  },
  "language_info": {
   "codemirror_mode": {
    "name": "ipython",
    "version": 3
   },
   "file_extension": ".py",
   "mimetype": "text/x-python",
   "name": "python",
   "nbconvert_exporter": "python",
   "pygments_lexer": "ipython3",
   "version": "3.9.0"
  }
 },
 "nbformat": 4,
 "nbformat_minor": 4
}

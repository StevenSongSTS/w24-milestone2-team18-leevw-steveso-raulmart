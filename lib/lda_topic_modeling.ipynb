{
 "cells": [
  {
   "cell_type": "code",
   "execution_count": 1,
   "metadata": {},
   "outputs": [],
   "source": [
    "import numpy as np\n",
    "from constants import SHARED_RANDOM_STATE\n",
    "from db_helper_functions import get_stock_news_from_db\n",
    "from sklearn.decomposition import LatentDirichletAllocation\n",
    "from sklearn.feature_extraction.text import CountVectorizer"
   ]
  },
  {
   "cell_type": "code",
   "execution_count": 2,
   "metadata": {},
   "outputs": [],
   "source": [
    "df = get_stock_news_from_db(\"AAPL\")\n",
    "df = df[~df.article.isnull()]"
   ]
  },
  {
   "cell_type": "code",
   "execution_count": 3,
   "metadata": {},
   "outputs": [
    {
     "data": {
      "text/plain": [
       "array(['00', '000', '01', ..., 'zyme', 'zymeworks', 'zynga'], dtype=object)"
      ]
     },
     "execution_count": 3,
     "metadata": {},
     "output_type": "execute_result"
    }
   ],
   "source": [
    "tf = CountVectorizer(stop_words=\"english\", max_df=0.95, min_df=10)\n",
    "tf = tf.fit(df.article)\n",
    "tf_mat = tf.transform(df.article)\n",
    "tf_vocab = tf.get_feature_names_out()\n",
    "tf_vocab"
   ]
  },
  {
   "cell_type": "code",
   "execution_count": 19,
   "metadata": {},
   "outputs": [],
   "source": [
    "num_topics = 2\n",
    "num_top_words = 20"
   ]
  },
  {
   "cell_type": "code",
   "execution_count": 5,
   "metadata": {},
   "outputs": [
    {
     "data": {
      "text/plain": [
       "array([[0.10299392, 0.89700608],\n",
       "       [0.03235789, 0.96764211],\n",
       "       [0.01714897, 0.98285103],\n",
       "       ...,\n",
       "       [0.24459318, 0.75540682],\n",
       "       [0.00433708, 0.99566292],\n",
       "       [0.00509012, 0.99490988]])"
      ]
     },
     "execution_count": 5,
     "metadata": {},
     "output_type": "execute_result"
    }
   ],
   "source": [
    "lda = LatentDirichletAllocation(\n",
    "    n_components=num_topics,\n",
    "    max_iter=5,\n",
    "    random_state=SHARED_RANDOM_STATE,\n",
    ")\n",
    "\n",
    "lda.fit_transform(tf_mat)"
   ]
  },
  {
   "cell_type": "code",
   "execution_count": 21,
   "metadata": {},
   "outputs": [
    {
     "name": "stdout",
     "output_type": "stream",
     "text": [
      "TOPIC #1\n",
      "TOP WORDS: ['shares' 'high' 'new' 'week' 'stock' '52' 'traded' 'hit' 'company'\n",
      " 'morning' 'session' 'share' 'earnings' 'revenue' 'friday' 'billion'\n",
      " 'report' 'quarterly' 'change' 'monday']\n",
      "TOPIC #2\n",
      "TOP WORDS: ['said' 'year' 'company' 'market' 'new' 'earnings' 'investors' 'companies'\n",
      " 'time' 'stocks' 'iphone' 'week' 'price' 'like' 'data' 'tech' 'china'\n",
      " 'billion' 'according' 'higher']\n"
     ]
    }
   ],
   "source": [
    "for topic_idx, topic_scores in enumerate(lda.components_):\n",
    "    top_words = np.argsort(topic_scores)[::-1][:num_top_words]\n",
    "    print(f\"TOPIC #{topic_idx + 1}\")\n",
    "    print(f\"TOP WORDS: {tf_vocab[top_words]}\")"
   ]
  },
  {
   "cell_type": "code",
   "execution_count": null,
   "metadata": {},
   "outputs": [],
   "source": []
  },
  {
   "cell_type": "code",
   "execution_count": null,
   "metadata": {},
   "outputs": [],
   "source": []
  }
 ],
 "metadata": {
  "kernelspec": {
   "display_name": ".venv",
   "language": "python",
   "name": "python3"
  },
  "language_info": {
   "codemirror_mode": {
    "name": "ipython",
    "version": 3
   },
   "file_extension": ".py",
   "mimetype": "text/x-python",
   "name": "python",
   "nbconvert_exporter": "python",
   "pygments_lexer": "ipython3",
   "version": "3.11.6"
  }
 },
 "nbformat": 4,
 "nbformat_minor": 2
}

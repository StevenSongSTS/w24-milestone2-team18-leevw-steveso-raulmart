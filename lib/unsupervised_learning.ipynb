{
 "cells": [
  {
   "cell_type": "code",
   "execution_count": 2,
   "id": "a3430dc1-a419-4252-94f8-a597083e6991",
   "metadata": {
    "tags": []
   },
   "outputs": [],
   "source": [
    "from db_helper_functions import get_stock_news_from_db"
   ]
  },
  {
   "cell_type": "code",
   "execution_count": 3,
   "id": "2246672c-085d-43a2-93da-a83772cc08c0",
   "metadata": {
    "tags": []
   },
   "outputs": [],
   "source": [
    "df = get_stock_news_from_db(\"TSLA\")"
   ]
  },
  {
   "cell_type": "code",
   "execution_count": 4,
   "id": "5e1c6f1e-9d9d-43ff-b1ae-c0750f8084c7",
   "metadata": {
    "tags": []
   },
   "outputs": [
    {
     "data": {
      "text/html": [
       "<div>\n",
       "<style scoped>\n",
       "    .dataframe tbody tr th:only-of-type {\n",
       "        vertical-align: middle;\n",
       "    }\n",
       "\n",
       "    .dataframe tbody tr th {\n",
       "        vertical-align: top;\n",
       "    }\n",
       "\n",
       "    .dataframe thead th {\n",
       "        text-align: right;\n",
       "    }\n",
       "</style>\n",
       "<table border=\"1\" class=\"dataframe\">\n",
       "  <thead>\n",
       "    <tr style=\"text-align: right;\">\n",
       "      <th></th>\n",
       "      <th>id</th>\n",
       "      <th>ticker</th>\n",
       "      <th>title</th>\n",
       "      <th>url</th>\n",
       "      <th>article</th>\n",
       "      <th>date</th>\n",
       "    </tr>\n",
       "  </thead>\n",
       "  <tbody>\n",
       "    <tr>\n",
       "      <th>0</th>\n",
       "      <td>7443</td>\n",
       "      <td>TSLA</td>\n",
       "      <td>Today's Pick-Up: Musk Invokes Amazon's Name No...</td>\n",
       "      <td>https://www.benzinga.com/node/14437848</td>\n",
       "      <td>None</td>\n",
       "      <td>2019-09-16</td>\n",
       "    </tr>\n",
       "    <tr>\n",
       "      <th>1</th>\n",
       "      <td>7444</td>\n",
       "      <td>TSLA</td>\n",
       "      <td>Today's Pickup: Technology Deployment Speciali...</td>\n",
       "      <td>https://www.benzinga.com/node/14442651</td>\n",
       "      <td>None</td>\n",
       "      <td>2019-09-17</td>\n",
       "    </tr>\n",
       "    <tr>\n",
       "      <th>2</th>\n",
       "      <td>7445</td>\n",
       "      <td>TSLA</td>\n",
       "      <td>A Look At Benzinga Pro's Most-Searched Tickers...</td>\n",
       "      <td>https://www.benzinga.com/node/14506031</td>\n",
       "      <td>None</td>\n",
       "      <td>2019-09-27</td>\n",
       "    </tr>\n",
       "    <tr>\n",
       "      <th>3</th>\n",
       "      <td>7446</td>\n",
       "      <td>TSLA</td>\n",
       "      <td>Department Of Good News: Lennar Earnings Look ...</td>\n",
       "      <td>https://www.benzinga.com/node/14530295</td>\n",
       "      <td>None</td>\n",
       "      <td>2019-10-02</td>\n",
       "    </tr>\n",
       "    <tr>\n",
       "      <th>4</th>\n",
       "      <td>7447</td>\n",
       "      <td>TSLA</td>\n",
       "      <td>Report: NASA Paid $5M For SpaceX Employee Revi...</td>\n",
       "      <td>https://www.benzinga.com/node/14619750</td>\n",
       "      <td>None</td>\n",
       "      <td>2019-10-18</td>\n",
       "    </tr>\n",
       "  </tbody>\n",
       "</table>\n",
       "</div>"
      ],
      "text/plain": [
       "     id ticker                                              title  \\\n",
       "0  7443   TSLA  Today's Pick-Up: Musk Invokes Amazon's Name No...   \n",
       "1  7444   TSLA  Today's Pickup: Technology Deployment Speciali...   \n",
       "2  7445   TSLA  A Look At Benzinga Pro's Most-Searched Tickers...   \n",
       "3  7446   TSLA  Department Of Good News: Lennar Earnings Look ...   \n",
       "4  7447   TSLA  Report: NASA Paid $5M For SpaceX Employee Revi...   \n",
       "\n",
       "                                      url article        date  \n",
       "0  https://www.benzinga.com/node/14437848    None  2019-09-16  \n",
       "1  https://www.benzinga.com/node/14442651    None  2019-09-17  \n",
       "2  https://www.benzinga.com/node/14506031    None  2019-09-27  \n",
       "3  https://www.benzinga.com/node/14530295    None  2019-10-02  \n",
       "4  https://www.benzinga.com/node/14619750    None  2019-10-18  "
      ]
     },
     "execution_count": 4,
     "metadata": {},
     "output_type": "execute_result"
    }
   ],
   "source": [
    "df.head()"
   ]
  },
  {
   "cell_type": "code",
   "execution_count": 9,
   "id": "e4926f8a-635f-46ae-80c6-80f3fd55c3fa",
   "metadata": {
    "tags": []
   },
   "outputs": [
    {
     "data": {
      "text/plain": [
       "'https://www.benzinga.com/news/earnings/22/07/28189250/microsoft-alphabet-meta-apple-and-amazon-lead-big-tech-earnings-this-week'"
      ]
     },
     "execution_count": 9,
     "metadata": {},
     "output_type": "execute_result"
    }
   ],
   "source": [
    "df.iloc[0]['url']"
   ]
  },
  {
   "cell_type": "code",
   "execution_count": 8,
   "id": "a9a1bd08-0bd8-4be5-b7f4-f3fc9ec6a5a9",
   "metadata": {
    "tags": []
   },
   "outputs": [
    {
     "data": {
      "text/plain": [
       "'(Monday Market Open) Investors appear optimistic to start the new week as equity index futures headed higher ahead of the opening bell. However, there’s a full economic calendar this week including the Federal Open Market Committee’s interest rate decision on Wednesday.Potential Market MoversThis morning, the CME FedWatch Tool was calculating a 77.5% probability that the Fed would raise the overnight rate 75 basis points on Wednesday. The probabilities are likely to rise the closer we get to the announcement, so it will likely fall to the accompanying statement and press conference with Federal Reserve Chair Jerome Powell that to move the market on the rate picture.Thursday’s gross domestic product (GDP) has the potential to be controversial as well because of the ongoing debate over what constitutes a recession. Historically, two consecutive quarters of negative GDP growth have defined a recession, but some, including the White House, are arguing this time it’s different because of the strength of the U.S. jobs market.In the first quarter, GDP was -1.3%. Currently, the Federal Reserve Bank of Atlanta’s GDPNow tool is projecting -1.6% growth the second quarter. However, the unemployment rate is just 3.6%. Therefore, all eyes will be on the National Bureau of Economic Research (NBER) because they get the privilege of determining whether or not a recession is “official.”Whatever happens with the labeling, the GDP report should help analysts and investors see where the weaknesses are in the economy.However, recession fears aren’t limited to the U.S. The July German Business Climate Index, which measures economic expectations for the next six months, came in lower than expected and much lower than the previous month. The survey of German manufacturers, builders, wholesalers, and retailers revealed that many of them are expecting a recession in Germany. The\\xa0German DAX\\xa0was trading 0.3% higher overnight despite the news.Today’s a packed earnings calendar with releases from\\xa0NXP Semiconductors\\xa0NXPI,\\xa0Whirlpool\\xa0WHR, and\\xa0F5 Networks\\xa0FFIV. But there are big tech hitters reporting throughout the week including\\xa0Microsoft\\xa0MSFT,\\xa0Alphabet\\xa0GOOGL,\\xa0Meta\\xa0META,\\xa0Apple\\xa0AAPL, and\\xa0Amazon\\xa0AMZN. Energy giants\\xa0Exxon Mobil\\xa0XOM and\\xa0Chevron\\xa0CVX will also report this week.Reviewing the Market MinutesThe stock market ended a positive week on a sour note when the\\xa0S&P 500® index\\xa0(SPX),\\xa0Nasdaq\\xa0($COMP), and\\xa0Dow Jones Industrials\\xa0($DJI) respectively fell 0.93%, 1.87%, and 0.43% on Friday. However, the indexes did end the week with gains of 2.6%, 2.0%, and 3.3% respectively.Stocks appeared to be dragged down by negative manufacturing news from Australia, France, Germany, and Japan. Each reported preliminary manufacturing numbers that suggested manufacturing in each country was contracting. The news fed the global economic slowdown narrative that has been haunting stocks. \\xa0Internet stocks took an additional hit as\\xa0Snap\\xa0SNAP and\\xa0Twitter\\xa0TWTR reported earnings misses. SNAP had the biggest miss by far, causing it to plunge 39.08% on the day. However, Twitter was able to eke out a 0.81% gain. Despite the split reactions to the misses, other internet stocks fell.\\xa0Alphabet\\xa0(GOOGL),\\xa0Meta\\xa0(META), and\\xa0Pinterest\\xa0(PINS) tumbled 5.63%, 7.59%, and 13.51% respectively.The consumer discretionary sector was the week’s top performer for the week as the\\xa0Consumer Discretionary Select Sector Index\\xa0rose about 5% from Monday’s opening price. The\\xa0Industrials Select Sector Index\\xa0climbed just shy of 3.5%. The\\xa0Materials Select Sector Index\\xa0and the\\xa0Real Estate Select Sector Index\\xa0both rallied 2.8% to round out the top three sectors.Investors appeared to ignore stocks in the defensive sectors as health care, utilities, and consumer staples ended the week near even.Not only was the consumer discretionary sector the best sector last week, it’s on track to be the best for the month. The consumer discretionary index was up 12.25% from the first of July to last Friday’s close. The\\xa0Technology Select Sector Index\\xa0is in second place at 9.14%. These two indexes represented the only sectors to outpace the S&P 500 over that time frame. The\\xa0Utilities Select Sector Index\\xa0was the only sector index to be in the red so far this month, down -1.84%.\\n\\nCHART OF THE DAY:\\xa0CONSUMER STRENGTH:\\xa0The\\xa0Consumer Discretionary Select Sector Index\\xa0($IXY—candlesticks) has underperformed the\\xa0S&P 500\\xa0(SPX—pink) over the last 12 months. However, the consumer discretionary index is gaining in relative strength (green) against the S&P 500, which could be a bullish sign for the sector. Data Sources: ICE, S&P Dow Jones Indices. Chart source: The\\xa0thinkorswim® platform.\\xa0For illustrative purposes only. Past performance does not guarantee future results.\\n\\nThree Things to WatchSKEWED UP:\\xa0The\\xa0Consumer Discretionary Select Sector Index\\xa0closed near its June high last week as investors found a taste for growth stocks.\\xa0Amazon\\xa0AMZN and\\xa0Tesla\\xa0TSLA are the two largest companies in the capitalization-weighted index and account for approximately 42% of its performance. With AMZN and TSLA skewing the returns of the index, it’s difficult to say if investors are bullish on consumer discretionary stocks in total or just Amazon and Tesla. An investor would need to break down the industry groups within the sector to better determine the demand.EARNINGS UPDATE:\\xa0According to Refinitiv, S&P 500 companies for the Q2 2022 earnings season are on track for 6.2% earnings growth year over year. However, when excluding energy, growth falls to -3.2%. So far, 106 of the S&P 500’s companies have reported earnings with 75.5% beating analysts’ estimates, which is above the long-term average of 66.1% but lower than the previous four-quarter average of 80.6%.The energy sector has the highest earnings growth rate at a whopping 259.6% year over year. Industrials are second at 26%, and financials are the worst at -22.1%.GETTING BEAT:\\xa0S&P 500 companies are still reporting fewer and smaller earnings surprises than the last five-year average, according to FactSet. The financials and communications sectors have had the greatest number of earnings misses. Utilities and health care have reported the highest number of earnings beats, while energy and industrials have reported the fewest. However, energy and industrials are also reporting a high number of earnings in-line with analyst estimates.Notable Calendar ItemsJuly 26:\\xa0New home sales and earnings from Microsoft MSFT, Alphabet GOOGL, Visa V, Coca-Cola KO, McDonald’s MCD, United Parcel Services UPS, and 3M MMMJuly 27:\\xa0Durable goods orders, Pending home sales, FOMC interest rate decision and earnings from Meta META, Qualcomm QCOM, Rio Tinto RIO, Boeing BA, and Automatic Data Processing ADPJuly 28:\\xa0Gross domestic product (GDP) and earnings from Apple AAPL, Amazon AMZN, Mastercard MA, Intel INTC, and Caterpillar CATJuly 29:\\xa0PCE Price Index and earnings from Exxon Mobil XOM, Procter & Gamble PG, and Chevron CVXAug 1:\\xa0ISM Manufacturing PMI and earnings from Activision Blizzard ATVI, Simon Property SPG, Devon Energy DVN, and Aflac AFLTD Ameritrade® commentary for educational purposes only. Member SIPC.This post contains sponsored advertising content. This content is for informational purposes only and not intended to be investing advice.Image sourced from Shutterstock'"
      ]
     },
     "execution_count": 8,
     "metadata": {},
     "output_type": "execute_result"
    }
   ],
   "source": [
    "df.iloc[0]['article']"
   ]
  },
  {
   "cell_type": "markdown",
   "id": "17f8f367-5b05-44e4-a195-a2be9b443170",
   "metadata": {
    "tags": []
   },
   "source": [
    "## Section 1: Data Cleaning"
   ]
  },
  {
   "cell_type": "markdown",
   "id": "e765c31c-1525-46ec-8c42-2b9d9789ead8",
   "metadata": {
    "tags": []
   },
   "source": [
    "## Section 2: Get Sentiment Score by using Lexicon-Based Approach with cleaned text"
   ]
  },
  {
   "cell_type": "markdown",
   "id": "208d142b-ef9c-42b2-b326-6538674567dc",
   "metadata": {},
   "source": [
    "### FinVader:"
   ]
  },
  {
   "cell_type": "markdown",
   "id": "77aa7e74-96ee-4724-ae05-df0f5e1732ec",
   "metadata": {},
   "source": [
    "### AFINN:"
   ]
  },
  {
   "cell_type": "markdown",
   "id": "3a8dbea4-e15e-4273-8175-5b549c3aa492",
   "metadata": {},
   "source": [
    "### SentiWordNet:"
   ]
  },
  {
   "cell_type": "markdown",
   "id": "29938e78-561a-4a69-b41d-372a975cdbd7",
   "metadata": {
    "tags": []
   },
   "source": [
    "## Section 3: Get Sentiment Score by using Lexicon-Based Approach with LDA "
   ]
  },
  {
   "cell_type": "markdown",
   "id": "d4002b8e-3282-4aa9-84ee-8d0b872ba4ac",
   "metadata": {},
   "source": [
    "### Use LDA raw word:"
   ]
  },
  {
   "cell_type": "markdown",
   "id": "b5aede07-b22b-4e73-b098-7ed7b6efdd3a",
   "metadata": {},
   "source": [
    "### Use LDA topic words:"
   ]
  }
 ],
 "metadata": {
  "kernelspec": {
   "display_name": "Python 3 (ipykernel)",
   "language": "python",
   "name": "python3"
  },
  "language_info": {
   "codemirror_mode": {
    "name": "ipython",
    "version": 3
   },
   "file_extension": ".py",
   "mimetype": "text/x-python",
   "name": "python",
   "nbconvert_exporter": "python",
   "pygments_lexer": "ipython3",
   "version": "3.9.0"
  }
 },
 "nbformat": 4,
 "nbformat_minor": 5
}

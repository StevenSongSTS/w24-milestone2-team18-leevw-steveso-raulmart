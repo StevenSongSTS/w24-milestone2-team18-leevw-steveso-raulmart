{
 "cells": [
  {
   "cell_type": "code",
   "execution_count": 11,
   "metadata": {},
   "outputs": [
    {
     "name": "stderr",
     "output_type": "stream",
     "text": [
      "[nltk_data] Downloading package punkt to\n",
      "[nltk_data]     C:\\Users\\vince\\AppData\\Roaming\\nltk_data...\n",
      "[nltk_data]   Package punkt is already up-to-date!\n",
      "[nltk_data] Downloading package stopwords to\n",
      "[nltk_data]     C:\\Users\\vince\\AppData\\Roaming\\nltk_data...\n",
      "[nltk_data]   Package stopwords is already up-to-date!\n",
      "[nltk_data] Downloading package wordnet to\n",
      "[nltk_data]     C:\\Users\\vince\\AppData\\Roaming\\nltk_data...\n",
      "[nltk_data]   Package wordnet is already up-to-date!\n"
     ]
    }
   ],
   "source": [
    "from db_helper_functions import get_stock_news_from_db\n",
    "\n",
    "from finvader import finvader\n",
    "import nltk\n",
    "from nltk.corpus import stopwords\n",
    "from nltk.stem import WordNetLemmatizer\n",
    "nltk.download('punkt')\n",
    "nltk.download('stopwords')\n",
    "nltk.download('wordnet')\n",
    "import re"
   ]
  },
  {
   "cell_type": "code",
   "execution_count": 12,
   "metadata": {},
   "outputs": [],
   "source": [
    "def clean_text(text):\n",
    "    tokens = nltk.word_tokenize(text)   # tokenize but do not lowercase\n",
    "    stop_words = stopwords.words('english') # remove stopwords\n",
    "    stop_words.extend([])   # Do not remove financial specific stopwords. They are crucial to the context\n",
    "\n",
    "    # remove stopwords and special characters\n",
    "    tokens = [token for token in tokens if token not in stop_words]\n",
    "    tokens = [re.sub(r\"[^\\wA-Z']\", \"\", token) for token in tokens]\n",
    "\n",
    "    # apply lemmatization\n",
    "    lemmatizer = WordNetLemmatizer()\n",
    "    tokens = [lemmatizer.lemmatize(token) for token in tokens]\n",
    "\n",
    "    cleaned_text = ' '.join(tokens)\n",
    "\n",
    "    return cleaned_text"
   ]
  },
  {
   "cell_type": "code",
   "execution_count": 13,
   "metadata": {},
   "outputs": [
    {
     "data": {
      "text/plain": [
       "' Monday Market Open  Investors appear optimistic start new week equity index future headed higher ahead opening bell  However   full economic calendar week including Federal Open Market Committee  interest rate decision WednesdayPotential Market MoversThis morning  CME FedWatch Tool calculating 775  probability Fed would raise overnight rate 75 basis point Wednesday  The probability likely rise closer get announcement  likely fall accompanying statement press conference Federal Reserve Chair Jerome Powell move market rate pictureThursday  gross domestic product  GDP  potential controversial well ongoing debate constitutes recession  Historically  two consecutive quarter negative GDP growth defined recession   including White House  arguing time  different strength US job marketIn first quarter  GDP 13   Currently  Federal Reserve Bank Atlanta  GDPNow tool projecting 16  growth second quarter  However  unemployment rate 36   Therefore  eye National Bureau Economic Research  NBER  get privilege determining whether recession  official  Whatever happens labeling  GDP report help analyst investor see weakness economyHowever  recession fear  limited US  The July German Business Climate Index  measure economic expectation next six month  came lower expected much lower previous month  The survey German manufacturer  builder  wholesaler  retailer revealed many expecting recession Germany  The German DAX trading 03  higher overnight despite newsToday  packed earnings calendar release NXP Semiconductors NXPI  Whirlpool WHR  F5 Networks FFIV  But big tech hitter reporting throughout week including Microsoft MSFT  Alphabet GOOGL  Meta META  Apple AAPL  Amazon AMZN  Energy giant Exxon Mobil XOM Chevron CVX also report weekReviewing Market MinutesThe stock market ended positive week sour note S  P 500 index  SPX   Nasdaq   COMP   Dow Jones Industrials   DJI  respectively fell 093   187   043  Friday  However  index end week gain 26   20   33  respectivelyStocks appeared dragged negative manufacturing news Australia  France  Germany  Japan  Each reported preliminary manufacturing number suggested manufacturing country contracting  The news fed global economic slowdown narrative haunting stock  Internet stock took additional hit Snap SNAP Twitter TWTR reported earnings miss  SNAP biggest miss far  causing plunge 3908  day  However  Twitter able eke 081  gain  Despite split reaction miss  internet stock fell  Alphabet  GOOGL   Meta  META   Pinterest  PINS  tumbled 563   759   1351  respectivelyThe consumer discretionary sector week  top performer week Consumer Discretionary Select Sector Index rose 5  Monday  opening price  The Industrials Select Sector Index climbed shy 35   The Materials Select Sector Index Real Estate Select Sector Index rallied 28  round top three sectorsInvestors appeared ignore stock defensive sector health care  utility  consumer staple ended week near evenNot consumer discretionary sector best sector last week   track best month  The consumer discretionary index 1225  first July last Friday  close  The Technology Select Sector Index second place 914   These two index represented sector outpace S  P 500 time frame  The Utilities Select Sector Index sector index red far month  184   CHART OF THE DAY  CONSUMER STRENGTH  The Consumer Discretionary Select Sector Index   IXYcandlesticks  underperformed S  P 500  SPXpink  last 12 month  However  consumer discretionary index gaining relative strength  green  S  P 500  could bullish sign sector  Data Sources  ICE  S  P Dow Jones Indices  Chart source  The thinkorswim platform  For illustrative purpose  Past performance guarantee future result  Three Things WatchSKEWED UP  The Consumer Discretionary Select Sector Index closed near June high last week investor found taste growth stock  Amazon AMZN Tesla TSLA two largest company capitalizationweighted index account approximately 42  performance  With AMZN TSLA skewing return index   difficult say investor bullish consumer discretionary stock total Amazon Tesla  An investor would need break industry group within sector better determine demandEARNINGS UPDATE  According Refinitiv  S  P 500 company Q2 2022 earnings season track 62  earnings growth year year  However  excluding energy  growth fall 32   So far  106 S  P 500  company reported earnings 755  beating analyst  estimate  longterm average 661  lower previous fourquarter average 806  The energy sector highest earnings growth rate whopping 2596  year year  Industrials second 26   financials worst 221  GETTING BEAT  S  P 500 company still reporting fewer smaller earnings surprise last fiveyear average  according FactSet  The financials communication sector greatest number earnings miss  Utilities health care reported highest number earnings beat  energy industrials reported fewest  However  energy industrials also reporting high number earnings inline analyst estimatesNotable Calendar ItemsJuly 26  New home sale earnings Microsoft MSFT  Alphabet GOOGL  Visa V  CocaCola KO  McDonald  MCD  United Parcel Services UPS  3M MMMJuly 27  Durable good order  Pending home sale  FOMC interest rate decision earnings Meta META  Qualcomm QCOM  Rio Tinto RIO  Boeing BA  Automatic Data Processing ADPJuly 28  Gross domestic product  GDP  earnings Apple AAPL  Amazon AMZN  Mastercard MA  Intel INTC  Caterpillar CATJuly 29  PCE Price Index earnings Exxon Mobil XOM  Procter  Gamble PG  Chevron CVXAug 1  ISM Manufacturing PMI earnings Activision Blizzard ATVI  Simon Property SPG  Devon Energy DVN  Aflac AFLTD Ameritrade commentary educational purpose  Member SIPCThis post contains sponsored advertising content  This content informational purpose intended investing adviceImage sourced Shutterstock'"
      ]
     },
     "execution_count": 13,
     "metadata": {},
     "output_type": "execute_result"
    }
   ],
   "source": [
    "# test clean_text function\n",
    "df = get_stock_news_from_db(\"AAPL\")\n",
    "cleaned_text = clean_text(df['article'].iloc[0])\n",
    "cleaned_text"
   ]
  },
  {
   "cell_type": "code",
   "execution_count": 14,
   "metadata": {},
   "outputs": [
    {
     "data": {
      "text/plain": [
       "0.9965"
      ]
     },
     "execution_count": 14,
     "metadata": {},
     "output_type": "execute_result"
    }
   ],
   "source": [
    "# test finvader using both the sentibignomics and henry financial lexicons. We will use finvader on topics when the LDA model is complete\n",
    "\n",
    "scores = finvader(cleaned_text,\n",
    "                  use_sentibignomics = True,\n",
    "                  use_henry = True,\n",
    "                  indicator = 'compound')\n",
    "scores"
   ]
  },
  {
   "cell_type": "code",
   "execution_count": null,
   "metadata": {},
   "outputs": [],
   "source": []
  }
 ],
 "metadata": {
  "kernelspec": {
   "display_name": "venv",
   "language": "python",
   "name": "python3"
  },
  "language_info": {
   "codemirror_mode": {
    "name": "ipython",
    "version": 3
   },
   "file_extension": ".py",
   "mimetype": "text/x-python",
   "name": "python",
   "nbconvert_exporter": "python",
   "pygments_lexer": "ipython3",
   "version": "3.12.1"
  }
 },
 "nbformat": 4,
 "nbformat_minor": 2
}

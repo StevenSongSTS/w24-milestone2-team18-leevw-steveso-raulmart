{
 "cells": [
  {
   "cell_type": "code",
   "execution_count": null,
   "metadata": {},
   "outputs": [],
   "source": [
    "from db_helper_functions import (\n",
    "    get_stock_news_with_finbert_scores_from_db,\n",
    "    get_stock_news_with_finbert_tone_scores_from_db,\n",
    ")"
   ]
  },
  {
   "cell_type": "code",
   "execution_count": null,
   "metadata": {},
   "outputs": [],
   "source": [
    "get_stock_news_with_finbert_scores_from_db(\"AAPL\").head()"
   ]
  },
  {
   "cell_type": "code",
   "execution_count": null,
   "metadata": {},
   "outputs": [],
   "source": [
    "get_stock_news_with_finbert_tone_scores_from_db(\"AAPL\").head()"
   ]
  }
 ],
 "metadata": {
  "language_info": {
   "name": "python"
  }
 },
 "nbformat": 4,
 "nbformat_minor": 2
}
